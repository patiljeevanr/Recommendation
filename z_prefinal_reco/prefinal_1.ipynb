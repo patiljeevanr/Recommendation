{
 "cells": [
  {
   "cell_type": "markdown",
   "metadata": {},
   "source": [
    "# Song Recommendation System on Amazon Dataset"
   ]
  },
  {
   "cell_type": "code",
   "execution_count": 1,
   "metadata": {},
   "outputs": [
    {
     "name": "stderr",
     "output_type": "stream",
     "text": [
      "/home/mauli/anaconda3/lib/python3.6/site-packages/sklearn/cross_validation.py:41: DeprecationWarning: This module was deprecated in version 0.18 in favor of the model_selection module into which all the refactored classes and functions are moved. Also note that the interface of the new CV iterators are different from that of this module. This module will be removed in 0.20.\n",
      "  \"This module will be removed in 0.20.\", DeprecationWarning)\n"
     ]
    }
   ],
   "source": [
    "# Importing header files\n",
    "%matplotlib inline\n",
    "import numpy as np\n",
    "import pandas as pd\n",
    "import matplotlib.pyplot as plt\n",
    "import seaborn as sns\n",
    "sns.set_style('white')\n",
    "import nltk\n",
    "\n",
    "from sklearn.neighbors import NearestNeighbors\n",
    "from sklearn.linear_model import LogisticRegression\n",
    "from sklearn import neighbors\n",
    "import scipy.sparse as sp\n",
    "from scipy.sparse.linalg import svds\n",
    "from scipy.spatial.distance import cosine\n",
    "from sklearn.metrics.pairwise import pairwise_distances\n",
    "from sklearn import cross_validation as cv\n",
    "from sklearn.metrics import classification_report, accuracy_score\n",
    "from sklearn.feature_selection import SelectKBest\n",
    "from sklearn.feature_extraction.text import CountVectorizer, TfidfTransformer\n",
    "\n",
    "import re\n",
    "from math import sqrt\n",
    "import string\n",
    "import operator\n",
    "from wordcloud import WordCloud, STOPWORDS\n",
    "from sklearn.metrics import mean_squared_error"
   ]
  },
  {
   "cell_type": "markdown",
   "metadata": {},
   "source": [
    "## Importing Reviews Dataset"
   ]
  },
  {
   "cell_type": "code",
   "execution_count": 2,
   "metadata": {},
   "outputs": [
    {
     "data": {
      "text/html": [
       "<div>\n",
       "<style scoped>\n",
       "    .dataframe tbody tr th:only-of-type {\n",
       "        vertical-align: middle;\n",
       "    }\n",
       "\n",
       "    .dataframe tbody tr th {\n",
       "        vertical-align: top;\n",
       "    }\n",
       "\n",
       "    .dataframe thead th {\n",
       "        text-align: right;\n",
       "    }\n",
       "</style>\n",
       "<table border=\"1\" class=\"dataframe\">\n",
       "  <thead>\n",
       "    <tr style=\"text-align: right;\">\n",
       "      <th></th>\n",
       "      <th>asin</th>\n",
       "      <th>helpful</th>\n",
       "      <th>overall</th>\n",
       "      <th>reviewText</th>\n",
       "      <th>reviewTime</th>\n",
       "      <th>reviewerID</th>\n",
       "      <th>reviewerName</th>\n",
       "      <th>summary</th>\n",
       "      <th>unixReviewTime</th>\n",
       "    </tr>\n",
       "  </thead>\n",
       "  <tbody>\n",
       "    <tr>\n",
       "      <th>0</th>\n",
       "      <td>5555991584</td>\n",
       "      <td>[3, 3]</td>\n",
       "      <td>5</td>\n",
       "      <td>It's hard to believe \"Memory of Trees\" came ou...</td>\n",
       "      <td>09 12, 2006</td>\n",
       "      <td>A3EBHHCZO6V2A4</td>\n",
       "      <td>Amaranth \"music fan\"</td>\n",
       "      <td>Enya's last great album</td>\n",
       "      <td>1158019200</td>\n",
       "    </tr>\n",
       "    <tr>\n",
       "      <th>1</th>\n",
       "      <td>5555991584</td>\n",
       "      <td>[0, 0]</td>\n",
       "      <td>5</td>\n",
       "      <td>A clasically-styled and introverted album, Mem...</td>\n",
       "      <td>06 3, 2001</td>\n",
       "      <td>AZPWAXJG9OJXV</td>\n",
       "      <td>bethtexas</td>\n",
       "      <td>Enya at her most elegant</td>\n",
       "      <td>991526400</td>\n",
       "    </tr>\n",
       "    <tr>\n",
       "      <th>2</th>\n",
       "      <td>5555991584</td>\n",
       "      <td>[2, 2]</td>\n",
       "      <td>5</td>\n",
       "      <td>I never thought Enya would reach the sublime h...</td>\n",
       "      <td>07 14, 2003</td>\n",
       "      <td>A38IRL0X2T4DPF</td>\n",
       "      <td>bob turnley</td>\n",
       "      <td>The best so far</td>\n",
       "      <td>1058140800</td>\n",
       "    </tr>\n",
       "    <tr>\n",
       "      <th>3</th>\n",
       "      <td>5555991584</td>\n",
       "      <td>[1, 1]</td>\n",
       "      <td>5</td>\n",
       "      <td>This is the third review of an irish album I w...</td>\n",
       "      <td>05 3, 2000</td>\n",
       "      <td>A22IK3I6U76GX0</td>\n",
       "      <td>Calle</td>\n",
       "      <td>Ireland produces good music.</td>\n",
       "      <td>957312000</td>\n",
       "    </tr>\n",
       "    <tr>\n",
       "      <th>4</th>\n",
       "      <td>5555991584</td>\n",
       "      <td>[1, 1]</td>\n",
       "      <td>4</td>\n",
       "      <td>Enya, despite being a successful recording art...</td>\n",
       "      <td>01 17, 2008</td>\n",
       "      <td>A1AISPOIIHTHXX</td>\n",
       "      <td>Cloud \"...\"</td>\n",
       "      <td>4.5; music to dream to</td>\n",
       "      <td>1200528000</td>\n",
       "    </tr>\n",
       "  </tbody>\n",
       "</table>\n",
       "</div>"
      ],
      "text/plain": [
       "         asin helpful  overall  \\\n",
       "0  5555991584  [3, 3]        5   \n",
       "1  5555991584  [0, 0]        5   \n",
       "2  5555991584  [2, 2]        5   \n",
       "3  5555991584  [1, 1]        5   \n",
       "4  5555991584  [1, 1]        4   \n",
       "\n",
       "                                          reviewText   reviewTime  \\\n",
       "0  It's hard to believe \"Memory of Trees\" came ou...  09 12, 2006   \n",
       "1  A clasically-styled and introverted album, Mem...   06 3, 2001   \n",
       "2  I never thought Enya would reach the sublime h...  07 14, 2003   \n",
       "3  This is the third review of an irish album I w...   05 3, 2000   \n",
       "4  Enya, despite being a successful recording art...  01 17, 2008   \n",
       "\n",
       "       reviewerID          reviewerName                       summary  \\\n",
       "0  A3EBHHCZO6V2A4  Amaranth \"music fan\"       Enya's last great album   \n",
       "1   AZPWAXJG9OJXV             bethtexas      Enya at her most elegant   \n",
       "2  A38IRL0X2T4DPF           bob turnley               The best so far   \n",
       "3  A22IK3I6U76GX0                 Calle  Ireland produces good music.   \n",
       "4  A1AISPOIIHTHXX           Cloud \"...\"        4.5; music to dream to   \n",
       "\n",
       "   unixReviewTime  \n",
       "0      1158019200  \n",
       "1       991526400  \n",
       "2      1058140800  \n",
       "3       957312000  \n",
       "4      1200528000  "
      ]
     },
     "execution_count": 2,
     "metadata": {},
     "output_type": "execute_result"
    }
   ],
   "source": [
    "# Importing review datset for review based recommender\n",
    "reviews_music_df = pd.read_json(\"data/reviews_Digital_Music_5.json\", lines=True)\n",
    "reviews_music_df.head()"
   ]
  },
  {
   "cell_type": "markdown",
   "metadata": {},
   "source": [
    "## Importing Ratings Dataset"
   ]
  },
  {
   "cell_type": "code",
   "execution_count": 3,
   "metadata": {},
   "outputs": [
    {
     "data": {
      "text/html": [
       "<div>\n",
       "<style scoped>\n",
       "    .dataframe tbody tr th:only-of-type {\n",
       "        vertical-align: middle;\n",
       "    }\n",
       "\n",
       "    .dataframe tbody tr th {\n",
       "        vertical-align: top;\n",
       "    }\n",
       "\n",
       "    .dataframe thead th {\n",
       "        text-align: right;\n",
       "    }\n",
       "</style>\n",
       "<table border=\"1\" class=\"dataframe\">\n",
       "  <thead>\n",
       "    <tr style=\"text-align: right;\">\n",
       "      <th></th>\n",
       "      <th>user_id</th>\n",
       "      <th>item_id</th>\n",
       "      <th>rating</th>\n",
       "      <th>timestamp</th>\n",
       "    </tr>\n",
       "  </thead>\n",
       "  <tbody>\n",
       "    <tr>\n",
       "      <th>0</th>\n",
       "      <td>A2EFCYXHNK06IS</td>\n",
       "      <td>5555991584</td>\n",
       "      <td>5.0</td>\n",
       "      <td>978480000</td>\n",
       "    </tr>\n",
       "    <tr>\n",
       "      <th>1</th>\n",
       "      <td>A1WR23ER5HMAA9</td>\n",
       "      <td>5555991584</td>\n",
       "      <td>5.0</td>\n",
       "      <td>953424000</td>\n",
       "    </tr>\n",
       "    <tr>\n",
       "      <th>2</th>\n",
       "      <td>A2IR4Q0GPAFJKW</td>\n",
       "      <td>5555991584</td>\n",
       "      <td>4.0</td>\n",
       "      <td>1393545600</td>\n",
       "    </tr>\n",
       "    <tr>\n",
       "      <th>3</th>\n",
       "      <td>A2V0KUVAB9HSYO</td>\n",
       "      <td>5555991584</td>\n",
       "      <td>4.0</td>\n",
       "      <td>966124800</td>\n",
       "    </tr>\n",
       "    <tr>\n",
       "      <th>4</th>\n",
       "      <td>A1J0GL9HCA7ELW</td>\n",
       "      <td>5555991584</td>\n",
       "      <td>5.0</td>\n",
       "      <td>1007683200</td>\n",
       "    </tr>\n",
       "  </tbody>\n",
       "</table>\n",
       "</div>"
      ],
      "text/plain": [
       "          user_id     item_id  rating   timestamp\n",
       "0  A2EFCYXHNK06IS  5555991584     5.0   978480000\n",
       "1  A1WR23ER5HMAA9  5555991584     5.0   953424000\n",
       "2  A2IR4Q0GPAFJKW  5555991584     4.0  1393545600\n",
       "3  A2V0KUVAB9HSYO  5555991584     4.0   966124800\n",
       "4  A1J0GL9HCA7ELW  5555991584     5.0  1007683200"
      ]
     },
     "execution_count": 3,
     "metadata": {},
     "output_type": "execute_result"
    }
   ],
   "source": [
    "# Importing rating datset for rating based recommender\n",
    "header = ['user_id', 'item_id', 'rating', 'timestamp']\n",
    "ratings_music_df = pd.read_csv('data/ratings_Digital_Music.csv', names=header)\n",
    "ratings_music_df.head()"
   ]
  },
  {
   "cell_type": "markdown",
   "metadata": {},
   "source": [
    "## EDA"
   ]
  },
  {
   "cell_type": "code",
   "execution_count": 4,
   "metadata": {},
   "outputs": [
    {
     "name": "stdout",
     "output_type": "stream",
     "text": [
      "Total Number of rows =  836006\n",
      "Number of users =  478235  | Number of items =  266414\n"
     ]
    }
   ],
   "source": [
    "# Complete Dataset\n",
    "n_users_complete = ratings_music_df.user_id.unique().shape[0]\n",
    "n_items_complete = ratings_music_df.item_id.unique().shape[0]\n",
    "print('Total Number of rows = ', str(ratings_music_df.shape[0]))\n",
    "print ('Number of users = ' , str(n_users_complete) , ' | Number of items = ' , str(n_items_complete))"
   ]
  },
  {
   "cell_type": "code",
   "execution_count": 5,
   "metadata": {},
   "outputs": [
    {
     "name": "stdout",
     "output_type": "stream",
     "text": [
      "The sparsity level of Complete Music Dataset is  100.0 %\n"
     ]
    }
   ],
   "source": [
    "# Sparsity of Complete Dataset\n",
    "sparsity_complete = round(1.0-len(ratings_music_df)/float(n_users_complete * n_items_complete),3)\n",
    "print ('The sparsity level of Complete Music Dataset is ' ,  str(sparsity_complete*100) , '%')"
   ]
  },
  {
   "cell_type": "code",
   "execution_count": 6,
   "metadata": {},
   "outputs": [
    {
     "name": "stdout",
     "output_type": "stream",
     "text": [
      "Total Number of rows =  10000\n",
      "Number of users =  8355  | Number of items =  500\n"
     ]
    }
   ],
   "source": [
    "# First 10000 rows\n",
    "ratings_music_df_10000 = ratings_music_df.head(10000)\n",
    "n_users = ratings_music_df_10000.user_id.unique().shape[0]\n",
    "n_items = ratings_music_df_10000.item_id.unique().shape[0]\n",
    "print('Total Number of rows = ', str(ratings_music_df_10000.shape[0]))\n",
    "print ('Number of users = ' , str(n_users) , ' | Number of items = ' , str(n_items))"
   ]
  },
  {
   "cell_type": "code",
   "execution_count": 7,
   "metadata": {},
   "outputs": [
    {
     "name": "stdout",
     "output_type": "stream",
     "text": [
      "The sparsity level of Music dataset 10000 is  99.8 %\n"
     ]
    }
   ],
   "source": [
    "# Sparsity of first 10000 rows Dataset\n",
    "sparsity_10000 = round(1.0-len(ratings_music_df_10000)/float(n_users*n_items),3)\n",
    "print ('The sparsity level of Music dataset 10000 is ' ,  str(sparsity_10000*100) , '%')"
   ]
  },
  {
   "cell_type": "code",
   "execution_count": 8,
   "metadata": {},
   "outputs": [
    {
     "data": {
      "text/plain": [
       "item_id\n",
       "B00000027R    5.0\n",
       "B000000YNA    5.0\n",
       "B0000002VC    5.0\n",
       "B000000EYE    5.0\n",
       "B000000EYL    5.0\n",
       "Name: rating, dtype: float64"
      ]
     },
     "execution_count": 8,
     "metadata": {},
     "output_type": "execute_result"
    }
   ],
   "source": [
    "# Calculating mean for each items (song)\n",
    "ratings_music_df_10000.groupby('item_id')['rating'].mean().sort_values(ascending=False).head()"
   ]
  },
  {
   "cell_type": "code",
   "execution_count": 9,
   "metadata": {},
   "outputs": [
    {
     "data": {
      "text/plain": [
       "item_id\n",
       "B00000016W    600\n",
       "B00000064G    276\n",
       "B000000TDH    219\n",
       "B000000OUJ    195\n",
       "B00000053X    162\n",
       "Name: rating, dtype: int64"
      ]
     },
     "execution_count": 9,
     "metadata": {},
     "output_type": "execute_result"
    }
   ],
   "source": [
    "# Calculating count for each items (song)\n",
    "ratings_music_df_10000.groupby('item_id')['rating'].count().sort_values(ascending=False).head()"
   ]
  },
  {
   "cell_type": "code",
   "execution_count": 10,
   "metadata": {},
   "outputs": [
    {
     "data": {
      "text/html": [
       "<div>\n",
       "<style scoped>\n",
       "    .dataframe tbody tr th:only-of-type {\n",
       "        vertical-align: middle;\n",
       "    }\n",
       "\n",
       "    .dataframe tbody tr th {\n",
       "        vertical-align: top;\n",
       "    }\n",
       "\n",
       "    .dataframe thead th {\n",
       "        text-align: right;\n",
       "    }\n",
       "</style>\n",
       "<table border=\"1\" class=\"dataframe\">\n",
       "  <thead>\n",
       "    <tr style=\"text-align: right;\">\n",
       "      <th></th>\n",
       "      <th>rating</th>\n",
       "    </tr>\n",
       "    <tr>\n",
       "      <th>item_id</th>\n",
       "      <th></th>\n",
       "    </tr>\n",
       "  </thead>\n",
       "  <tbody>\n",
       "    <tr>\n",
       "      <th>5555991584</th>\n",
       "      <td>4.638462</td>\n",
       "    </tr>\n",
       "    <tr>\n",
       "      <th>6308051551</th>\n",
       "      <td>5.000000</td>\n",
       "    </tr>\n",
       "    <tr>\n",
       "      <th>7901622466</th>\n",
       "      <td>4.823529</td>\n",
       "    </tr>\n",
       "    <tr>\n",
       "      <th>B0000000ZW</th>\n",
       "      <td>4.333333</td>\n",
       "    </tr>\n",
       "    <tr>\n",
       "      <th>B00000016T</th>\n",
       "      <td>4.719008</td>\n",
       "    </tr>\n",
       "  </tbody>\n",
       "</table>\n",
       "</div>"
      ],
      "text/plain": [
       "              rating\n",
       "item_id             \n",
       "5555991584  4.638462\n",
       "6308051551  5.000000\n",
       "7901622466  4.823529\n",
       "B0000000ZW  4.333333\n",
       "B00000016T  4.719008"
      ]
     },
     "execution_count": 10,
     "metadata": {},
     "output_type": "execute_result"
    }
   ],
   "source": [
    "# Calculating mean for each items (song) and convert to DataFrame\n",
    "ratings_mean = pd.DataFrame(ratings_music_df_10000.groupby('item_id')['rating'].mean())\n",
    "ratings_mean.head()"
   ]
  },
  {
   "cell_type": "code",
   "execution_count": 11,
   "metadata": {},
   "outputs": [
    {
     "data": {
      "text/html": [
       "<div>\n",
       "<style scoped>\n",
       "    .dataframe tbody tr th:only-of-type {\n",
       "        vertical-align: middle;\n",
       "    }\n",
       "\n",
       "    .dataframe tbody tr th {\n",
       "        vertical-align: top;\n",
       "    }\n",
       "\n",
       "    .dataframe thead th {\n",
       "        text-align: right;\n",
       "    }\n",
       "</style>\n",
       "<table border=\"1\" class=\"dataframe\">\n",
       "  <thead>\n",
       "    <tr style=\"text-align: right;\">\n",
       "      <th></th>\n",
       "      <th>rating</th>\n",
       "      <th>rating_numbers</th>\n",
       "    </tr>\n",
       "    <tr>\n",
       "      <th>item_id</th>\n",
       "      <th></th>\n",
       "      <th></th>\n",
       "    </tr>\n",
       "  </thead>\n",
       "  <tbody>\n",
       "    <tr>\n",
       "      <th>5555991584</th>\n",
       "      <td>4.638462</td>\n",
       "      <td>130</td>\n",
       "    </tr>\n",
       "    <tr>\n",
       "      <th>6308051551</th>\n",
       "      <td>5.000000</td>\n",
       "      <td>2</td>\n",
       "    </tr>\n",
       "    <tr>\n",
       "      <th>7901622466</th>\n",
       "      <td>4.823529</td>\n",
       "      <td>17</td>\n",
       "    </tr>\n",
       "    <tr>\n",
       "      <th>B0000000ZW</th>\n",
       "      <td>4.333333</td>\n",
       "      <td>21</td>\n",
       "    </tr>\n",
       "    <tr>\n",
       "      <th>B00000016T</th>\n",
       "      <td>4.719008</td>\n",
       "      <td>121</td>\n",
       "    </tr>\n",
       "  </tbody>\n",
       "</table>\n",
       "</div>"
      ],
      "text/plain": [
       "              rating  rating_numbers\n",
       "item_id                             \n",
       "5555991584  4.638462             130\n",
       "6308051551  5.000000               2\n",
       "7901622466  4.823529              17\n",
       "B0000000ZW  4.333333              21\n",
       "B00000016T  4.719008             121"
      ]
     },
     "execution_count": 11,
     "metadata": {},
     "output_type": "execute_result"
    }
   ],
   "source": [
    "# Calculating mean for each items (song) and convert to DataFrame merge count to it\n",
    "ratings_mean['rating_numbers'] = pd.DataFrame(ratings_music_df_10000.groupby('item_id')['rating'].count())\n",
    "ratings_mean.head()"
   ]
  },
  {
   "cell_type": "code",
   "execution_count": 12,
   "metadata": {},
   "outputs": [
    {
     "data": {
      "text/html": [
       "<div>\n",
       "<style scoped>\n",
       "    .dataframe tbody tr th:only-of-type {\n",
       "        vertical-align: middle;\n",
       "    }\n",
       "\n",
       "    .dataframe tbody tr th {\n",
       "        vertical-align: top;\n",
       "    }\n",
       "\n",
       "    .dataframe thead th {\n",
       "        text-align: right;\n",
       "    }\n",
       "</style>\n",
       "<table border=\"1\" class=\"dataframe\">\n",
       "  <thead>\n",
       "    <tr style=\"text-align: right;\">\n",
       "      <th></th>\n",
       "      <th>rating</th>\n",
       "      <th>rating_numbers</th>\n",
       "    </tr>\n",
       "    <tr>\n",
       "      <th>item_id</th>\n",
       "      <th></th>\n",
       "      <th></th>\n",
       "    </tr>\n",
       "  </thead>\n",
       "  <tbody>\n",
       "    <tr>\n",
       "      <th>B00000016W</th>\n",
       "      <td>4.433333</td>\n",
       "      <td>600</td>\n",
       "    </tr>\n",
       "    <tr>\n",
       "      <th>B00000064G</th>\n",
       "      <td>4.760870</td>\n",
       "      <td>276</td>\n",
       "    </tr>\n",
       "    <tr>\n",
       "      <th>B000000TDH</th>\n",
       "      <td>4.584475</td>\n",
       "      <td>219</td>\n",
       "    </tr>\n",
       "    <tr>\n",
       "      <th>B000000OUJ</th>\n",
       "      <td>4.866667</td>\n",
       "      <td>195</td>\n",
       "    </tr>\n",
       "    <tr>\n",
       "      <th>B00000053X</th>\n",
       "      <td>4.067901</td>\n",
       "      <td>162</td>\n",
       "    </tr>\n",
       "  </tbody>\n",
       "</table>\n",
       "</div>"
      ],
      "text/plain": [
       "              rating  rating_numbers\n",
       "item_id                             \n",
       "B00000016W  4.433333             600\n",
       "B00000064G  4.760870             276\n",
       "B000000TDH  4.584475             219\n",
       "B000000OUJ  4.866667             195\n",
       "B00000053X  4.067901             162"
      ]
     },
     "execution_count": 12,
     "metadata": {},
     "output_type": "execute_result"
    }
   ],
   "source": [
    "# Sort ratings_mean according to ratings_count\n",
    "ratings_mean.sort_values('rating_numbers', ascending=False).head()"
   ]
  },
  {
   "cell_type": "code",
   "execution_count": 13,
   "metadata": {},
   "outputs": [
    {
     "data": {
      "image/png": "[encoded data removed]",
      "text/plain": [
       "<Figure size 432x288 with 1 Axes>"
      ]
     },
     "metadata": {},
     "output_type": "display_data"
    }
   ],
   "source": [
    "# Plot of ratings count\n",
    "#ratings_mean['rating_numbers'].hist(bins=70)\n",
    "plt.hist(ratings_mean['rating_numbers'], bins=70)\n",
    "plt.xlabel('rating_count')\n",
    "plt.ylabel('No. of items')\n",
    "plt.show()"
   ]
  },
  {
   "cell_type": "code",
   "execution_count": 14,
   "metadata": {},
   "outputs": [
    {
     "data": {
      "image/png": "[encoded data removed]",
      "text/plain": [
       "<Figure size 432x288 with 1 Axes>"
      ]
     },
     "metadata": {},
     "output_type": "display_data"
    }
   ],
   "source": [
    "# Plot of rating\n",
    "#ratings_mean['rating'].hist(bins=70)\n",
    "plt.hist(ratings_mean['rating_numbers'], bins=70)\n",
    "plt.xlabel('rating')\n",
    "plt.ylabel('No. of items')\n",
    "plt.show()"
   ]
  },
  {
   "cell_type": "code",
   "execution_count": 15,
   "metadata": {},
   "outputs": [
    {
     "name": "stderr",
     "output_type": "stream",
     "text": [
      "/home/mauli/anaconda3/lib/python3.6/site-packages/matplotlib/axes/_axes.py:6462: UserWarning: The 'normed' kwarg is deprecated, and has been replaced by the 'density' kwarg.\n",
      "  warnings.warn(\"The 'normed' kwarg is deprecated, and has been \"\n",
      "/home/mauli/anaconda3/lib/python3.6/site-packages/matplotlib/axes/_axes.py:6462: UserWarning: The 'normed' kwarg is deprecated, and has been replaced by the 'density' kwarg.\n",
      "  warnings.warn(\"The 'normed' kwarg is deprecated, and has been \"\n"
     ]
    },
    {
     "data": {
      "text/plain": [
       "<seaborn.axisgrid.JointGrid at 0x7f9650622438>"
      ]
     },
     "execution_count": 15,
     "metadata": {},
     "output_type": "execute_result"
    },
    {
     "data": {
      "image/png": "[encoded data removed]",
      "text/plain": [
       "<Figure size 432x432 with 3 Axes>"
      ]
     },
     "metadata": {},
     "output_type": "display_data"
    }
   ],
   "source": [
    "# Join Plot\n",
    "sns.jointplot(x='rating', y='rating_numbers', data=ratings_mean, alpha=0.5)"
   ]
  },
  {
   "cell_type": "markdown",
   "metadata": {},
   "source": [
    "## Correlation based Recommender"
   ]
  },
  {
   "cell_type": "code",
   "execution_count": 16,
   "metadata": {},
   "outputs": [
    {
     "data": {
      "text/html": [
       "<div>\n",
       "<style scoped>\n",
       "    .dataframe tbody tr th:only-of-type {\n",
       "        vertical-align: middle;\n",
       "    }\n",
       "\n",
       "    .dataframe tbody tr th {\n",
       "        vertical-align: top;\n",
       "    }\n",
       "\n",
       "    .dataframe thead th {\n",
       "        text-align: right;\n",
       "    }\n",
       "</style>\n",
       "<table border=\"1\" class=\"dataframe\">\n",
       "  <thead>\n",
       "    <tr style=\"text-align: right;\">\n",
       "      <th>item_id</th>\n",
       "      <th>5555991584</th>\n",
       "      <th>6308051551</th>\n",
       "      <th>7901622466</th>\n",
       "      <th>B0000000ZW</th>\n",
       "      <th>B00000016T</th>\n",
       "      <th>B00000016W</th>\n",
       "      <th>B00000017R</th>\n",
       "      <th>B0000001BA</th>\n",
       "      <th>B0000001BO</th>\n",
       "      <th>B0000001O0</th>\n",
       "      <th>...</th>\n",
       "      <th>B0000011CU</th>\n",
       "      <th>B0000011GU</th>\n",
       "      <th>B0000011MD</th>\n",
       "      <th>B0000011N5</th>\n",
       "      <th>B0000011P7</th>\n",
       "      <th>B0000011WE</th>\n",
       "      <th>B0000011X5</th>\n",
       "      <th>B0000011XM</th>\n",
       "      <th>B00000127G</th>\n",
       "      <th>B0000012T3</th>\n",
       "    </tr>\n",
       "    <tr>\n",
       "      <th>user_id</th>\n",
       "      <th></th>\n",
       "      <th></th>\n",
       "      <th></th>\n",
       "      <th></th>\n",
       "      <th></th>\n",
       "      <th></th>\n",
       "      <th></th>\n",
       "      <th></th>\n",
       "      <th></th>\n",
       "      <th></th>\n",
       "      <th></th>\n",
       "      <th></th>\n",
       "      <th></th>\n",
       "      <th></th>\n",
       "      <th></th>\n",
       "      <th></th>\n",
       "      <th></th>\n",
       "      <th></th>\n",
       "      <th></th>\n",
       "      <th></th>\n",
       "      <th></th>\n",
       "    </tr>\n",
       "  </thead>\n",
       "  <tbody>\n",
       "    <tr>\n",
       "      <th>A04345582HHNXEA9SAET4</th>\n",
       "      <td>NaN</td>\n",
       "      <td>NaN</td>\n",
       "      <td>NaN</td>\n",
       "      <td>NaN</td>\n",
       "      <td>NaN</td>\n",
       "      <td>NaN</td>\n",
       "      <td>NaN</td>\n",
       "      <td>NaN</td>\n",
       "      <td>NaN</td>\n",
       "      <td>NaN</td>\n",
       "      <td>...</td>\n",
       "      <td>NaN</td>\n",
       "      <td>NaN</td>\n",
       "      <td>NaN</td>\n",
       "      <td>NaN</td>\n",
       "      <td>NaN</td>\n",
       "      <td>NaN</td>\n",
       "      <td>NaN</td>\n",
       "      <td>NaN</td>\n",
       "      <td>NaN</td>\n",
       "      <td>NaN</td>\n",
       "    </tr>\n",
       "    <tr>\n",
       "      <th>A07465992K7FVSL53VA9B</th>\n",
       "      <td>NaN</td>\n",
       "      <td>NaN</td>\n",
       "      <td>NaN</td>\n",
       "      <td>NaN</td>\n",
       "      <td>NaN</td>\n",
       "      <td>NaN</td>\n",
       "      <td>NaN</td>\n",
       "      <td>NaN</td>\n",
       "      <td>NaN</td>\n",
       "      <td>NaN</td>\n",
       "      <td>...</td>\n",
       "      <td>NaN</td>\n",
       "      <td>NaN</td>\n",
       "      <td>NaN</td>\n",
       "      <td>NaN</td>\n",
       "      <td>NaN</td>\n",
       "      <td>NaN</td>\n",
       "      <td>NaN</td>\n",
       "      <td>NaN</td>\n",
       "      <td>NaN</td>\n",
       "      <td>NaN</td>\n",
       "    </tr>\n",
       "    <tr>\n",
       "      <th>A08161909WK3HU7UYTMW</th>\n",
       "      <td>NaN</td>\n",
       "      <td>NaN</td>\n",
       "      <td>NaN</td>\n",
       "      <td>NaN</td>\n",
       "      <td>NaN</td>\n",
       "      <td>NaN</td>\n",
       "      <td>NaN</td>\n",
       "      <td>NaN</td>\n",
       "      <td>NaN</td>\n",
       "      <td>NaN</td>\n",
       "      <td>...</td>\n",
       "      <td>NaN</td>\n",
       "      <td>NaN</td>\n",
       "      <td>NaN</td>\n",
       "      <td>NaN</td>\n",
       "      <td>NaN</td>\n",
       "      <td>NaN</td>\n",
       "      <td>NaN</td>\n",
       "      <td>NaN</td>\n",
       "      <td>NaN</td>\n",
       "      <td>NaN</td>\n",
       "    </tr>\n",
       "    <tr>\n",
       "      <th>A086594320Z777EHOFWKU</th>\n",
       "      <td>NaN</td>\n",
       "      <td>NaN</td>\n",
       "      <td>NaN</td>\n",
       "      <td>NaN</td>\n",
       "      <td>NaN</td>\n",
       "      <td>NaN</td>\n",
       "      <td>NaN</td>\n",
       "      <td>NaN</td>\n",
       "      <td>NaN</td>\n",
       "      <td>NaN</td>\n",
       "      <td>...</td>\n",
       "      <td>NaN</td>\n",
       "      <td>NaN</td>\n",
       "      <td>NaN</td>\n",
       "      <td>NaN</td>\n",
       "      <td>NaN</td>\n",
       "      <td>NaN</td>\n",
       "      <td>NaN</td>\n",
       "      <td>NaN</td>\n",
       "      <td>NaN</td>\n",
       "      <td>NaN</td>\n",
       "    </tr>\n",
       "    <tr>\n",
       "      <th>A10175AMUHOQC4</th>\n",
       "      <td>NaN</td>\n",
       "      <td>NaN</td>\n",
       "      <td>NaN</td>\n",
       "      <td>NaN</td>\n",
       "      <td>NaN</td>\n",
       "      <td>NaN</td>\n",
       "      <td>NaN</td>\n",
       "      <td>NaN</td>\n",
       "      <td>NaN</td>\n",
       "      <td>NaN</td>\n",
       "      <td>...</td>\n",
       "      <td>NaN</td>\n",
       "      <td>NaN</td>\n",
       "      <td>NaN</td>\n",
       "      <td>NaN</td>\n",
       "      <td>NaN</td>\n",
       "      <td>NaN</td>\n",
       "      <td>NaN</td>\n",
       "      <td>NaN</td>\n",
       "      <td>NaN</td>\n",
       "      <td>NaN</td>\n",
       "    </tr>\n",
       "  </tbody>\n",
       "</table>\n",
       "<p>5 rows × 500 columns</p>\n",
       "</div>"
      ],
      "text/plain": [
       "item_id                5555991584  6308051551  7901622466  B0000000ZW  \\\n",
       "user_id                                                                 \n",
       "A04345582HHNXEA9SAET4         NaN         NaN         NaN         NaN   \n",
       "A07465992K7FVSL53VA9B         NaN         NaN         NaN         NaN   \n",
       "A08161909WK3HU7UYTMW          NaN         NaN         NaN         NaN   \n",
       "A086594320Z777EHOFWKU         NaN         NaN         NaN         NaN   \n",
       "A10175AMUHOQC4                NaN         NaN         NaN         NaN   \n",
       "\n",
       "item_id                B00000016T  B00000016W  B00000017R  B0000001BA  \\\n",
       "user_id                                                                 \n",
       "A04345582HHNXEA9SAET4         NaN         NaN         NaN         NaN   \n",
       "A07465992K7FVSL53VA9B         NaN         NaN         NaN         NaN   \n",
       "A08161909WK3HU7UYTMW          NaN         NaN         NaN         NaN   \n",
       "A086594320Z777EHOFWKU         NaN         NaN         NaN         NaN   \n",
       "A10175AMUHOQC4                NaN         NaN         NaN         NaN   \n",
       "\n",
       "item_id                B0000001BO  B0000001O0     ...      B0000011CU  \\\n",
       "user_id                                           ...                   \n",
       "A04345582HHNXEA9SAET4         NaN         NaN     ...             NaN   \n",
       "A07465992K7FVSL53VA9B         NaN         NaN     ...             NaN   \n",
       "A08161909WK3HU7UYTMW          NaN         NaN     ...             NaN   \n",
       "A086594320Z777EHOFWKU         NaN         NaN     ...             NaN   \n",
       "A10175AMUHOQC4                NaN         NaN     ...             NaN   \n",
       "\n",
       "item_id                B0000011GU  B0000011MD  B0000011N5  B0000011P7  \\\n",
       "user_id                                                                 \n",
       "A04345582HHNXEA9SAET4         NaN         NaN         NaN         NaN   \n",
       "A07465992K7FVSL53VA9B         NaN         NaN         NaN         NaN   \n",
       "A08161909WK3HU7UYTMW          NaN         NaN         NaN         NaN   \n",
       "A086594320Z777EHOFWKU         NaN         NaN         NaN         NaN   \n",
       "A10175AMUHOQC4                NaN         NaN         NaN         NaN   \n",
       "\n",
       "item_id                B0000011WE  B0000011X5  B0000011XM  B00000127G  \\\n",
       "user_id                                                                 \n",
       "A04345582HHNXEA9SAET4         NaN         NaN         NaN         NaN   \n",
       "A07465992K7FVSL53VA9B         NaN         NaN         NaN         NaN   \n",
       "A08161909WK3HU7UYTMW          NaN         NaN         NaN         NaN   \n",
       "A086594320Z777EHOFWKU         NaN         NaN         NaN         NaN   \n",
       "A10175AMUHOQC4                NaN         NaN         NaN         NaN   \n",
       "\n",
       "item_id                B0000012T3  \n",
       "user_id                            \n",
       "A04345582HHNXEA9SAET4         NaN  \n",
       "A07465992K7FVSL53VA9B         NaN  \n",
       "A08161909WK3HU7UYTMW          NaN  \n",
       "A086594320Z777EHOFWKU         NaN  \n",
       "A10175AMUHOQC4                NaN  \n",
       "\n",
       "[5 rows x 500 columns]"
      ]
     },
     "execution_count": 16,
     "metadata": {},
     "output_type": "execute_result"
    }
   ],
   "source": [
    "# Create ratings matrix\n",
    "ratings_matrix = ratings_music_df_10000.pivot_table(index='user_id', columns='item_id', values='rating')\n",
    "ratings_matrix.head()"
   ]
  },
  {
   "cell_type": "code",
   "execution_count": 17,
   "metadata": {},
   "outputs": [],
   "source": [
    "# Ratings of that product\n",
    "B00000016W_user_ratings = ratings_matrix['B00000016W']\n",
    "B000000TDH_user_ratings = ratings_matrix['B000000TDH']"
   ]
  },
  {
   "cell_type": "code",
   "execution_count": 18,
   "metadata": {},
   "outputs": [
    {
     "name": "stderr",
     "output_type": "stream",
     "text": [
      "/home/mauli/.local/lib/python3.6/site-packages/numpy/lib/function_base.py:3175: RuntimeWarning: Degrees of freedom <= 0 for slice\n",
      "  c = cov(x, y, rowvar)\n",
      "/home/mauli/.local/lib/python3.6/site-packages/numpy/lib/function_base.py:3109: RuntimeWarning: divide by zero encountered in double_scalars\n",
      "  c *= 1. / np.float64(fact)\n"
     ]
    }
   ],
   "source": [
    "# Correlation of the product with matrix\n",
    "similar_to_B00000016W = ratings_matrix.corrwith(B00000016W_user_ratings)\n",
    "similar_to_B000000TDH = ratings_matrix.corrwith(B000000TDH_user_ratings)"
   ]
  },
  {
   "cell_type": "code",
   "execution_count": 19,
   "metadata": {},
   "outputs": [
    {
     "data": {
      "text/html": [
       "<div>\n",
       "<style scoped>\n",
       "    .dataframe tbody tr th:only-of-type {\n",
       "        vertical-align: middle;\n",
       "    }\n",
       "\n",
       "    .dataframe tbody tr th {\n",
       "        vertical-align: top;\n",
       "    }\n",
       "\n",
       "    .dataframe thead th {\n",
       "        text-align: right;\n",
       "    }\n",
       "</style>\n",
       "<table border=\"1\" class=\"dataframe\">\n",
       "  <thead>\n",
       "    <tr style=\"text-align: right;\">\n",
       "      <th></th>\n",
       "      <th>Correlation</th>\n",
       "    </tr>\n",
       "    <tr>\n",
       "      <th>item_id</th>\n",
       "      <th></th>\n",
       "    </tr>\n",
       "  </thead>\n",
       "  <tbody>\n",
       "    <tr>\n",
       "      <th>B00000016W</th>\n",
       "      <td>1.000000</td>\n",
       "    </tr>\n",
       "    <tr>\n",
       "      <th>B00000017R</th>\n",
       "      <td>1.000000</td>\n",
       "    </tr>\n",
       "    <tr>\n",
       "      <th>B0000002ME</th>\n",
       "      <td>-0.333333</td>\n",
       "    </tr>\n",
       "    <tr>\n",
       "      <th>B00000053B</th>\n",
       "      <td>-1.000000</td>\n",
       "    </tr>\n",
       "    <tr>\n",
       "      <th>B00000064E</th>\n",
       "      <td>0.612372</td>\n",
       "    </tr>\n",
       "  </tbody>\n",
       "</table>\n",
       "</div>"
      ],
      "text/plain": [
       "            Correlation\n",
       "item_id                \n",
       "B00000016W     1.000000\n",
       "B00000017R     1.000000\n",
       "B0000002ME    -0.333333\n",
       "B00000053B    -1.000000\n",
       "B00000064E     0.612372"
      ]
     },
     "execution_count": 19,
     "metadata": {},
     "output_type": "execute_result"
    }
   ],
   "source": [
    "# Convert to DataFrame\n",
    "corr_B00000016W = pd.DataFrame(similar_to_B00000016W, columns=['Correlation'])\n",
    "corr_B00000016W.dropna(inplace=True)\n",
    "corr_B00000016W.head()"
   ]
  },
  {
   "cell_type": "code",
   "execution_count": 20,
   "metadata": {},
   "outputs": [
    {
     "data": {
      "text/html": [
       "<div>\n",
       "<style scoped>\n",
       "    .dataframe tbody tr th:only-of-type {\n",
       "        vertical-align: middle;\n",
       "    }\n",
       "\n",
       "    .dataframe tbody tr th {\n",
       "        vertical-align: top;\n",
       "    }\n",
       "\n",
       "    .dataframe thead th {\n",
       "        text-align: right;\n",
       "    }\n",
       "</style>\n",
       "<table border=\"1\" class=\"dataframe\">\n",
       "  <thead>\n",
       "    <tr style=\"text-align: right;\">\n",
       "      <th></th>\n",
       "      <th>Correlation</th>\n",
       "    </tr>\n",
       "    <tr>\n",
       "      <th>item_id</th>\n",
       "      <th></th>\n",
       "    </tr>\n",
       "  </thead>\n",
       "  <tbody>\n",
       "    <tr>\n",
       "      <th>B00000016W</th>\n",
       "      <td>0.771744</td>\n",
       "    </tr>\n",
       "    <tr>\n",
       "      <th>B00000053X</th>\n",
       "      <td>0.632456</td>\n",
       "    </tr>\n",
       "    <tr>\n",
       "      <th>B0000009OU</th>\n",
       "      <td>1.000000</td>\n",
       "    </tr>\n",
       "    <tr>\n",
       "      <th>B000000OPC</th>\n",
       "      <td>1.000000</td>\n",
       "    </tr>\n",
       "    <tr>\n",
       "      <th>B000000OVC</th>\n",
       "      <td>1.000000</td>\n",
       "    </tr>\n",
       "  </tbody>\n",
       "</table>\n",
       "</div>"
      ],
      "text/plain": [
       "            Correlation\n",
       "item_id                \n",
       "B00000016W     0.771744\n",
       "B00000053X     0.632456\n",
       "B0000009OU     1.000000\n",
       "B000000OPC     1.000000\n",
       "B000000OVC     1.000000"
      ]
     },
     "execution_count": 20,
     "metadata": {},
     "output_type": "execute_result"
    }
   ],
   "source": [
    "# Convert to DataFrame\n",
    "corr_B000000TDH = pd.DataFrame(similar_to_B000000TDH, columns=['Correlation'])\n",
    "corr_B000000TDH.dropna(inplace=True)\n",
    "corr_B000000TDH.head()"
   ]
  },
  {
   "cell_type": "code",
   "execution_count": 21,
   "metadata": {},
   "outputs": [
    {
     "data": {
      "text/html": [
       "<div>\n",
       "<style scoped>\n",
       "    .dataframe tbody tr th:only-of-type {\n",
       "        vertical-align: middle;\n",
       "    }\n",
       "\n",
       "    .dataframe tbody tr th {\n",
       "        vertical-align: top;\n",
       "    }\n",
       "\n",
       "    .dataframe thead th {\n",
       "        text-align: right;\n",
       "    }\n",
       "</style>\n",
       "<table border=\"1\" class=\"dataframe\">\n",
       "  <thead>\n",
       "    <tr style=\"text-align: right;\">\n",
       "      <th></th>\n",
       "      <th>Correlation</th>\n",
       "    </tr>\n",
       "    <tr>\n",
       "      <th>item_id</th>\n",
       "      <th></th>\n",
       "    </tr>\n",
       "  </thead>\n",
       "  <tbody>\n",
       "    <tr>\n",
       "      <th>B00000016W</th>\n",
       "      <td>1.0</td>\n",
       "    </tr>\n",
       "    <tr>\n",
       "      <th>B000000OPC</th>\n",
       "      <td>1.0</td>\n",
       "    </tr>\n",
       "    <tr>\n",
       "      <th>B000000OME</th>\n",
       "      <td>1.0</td>\n",
       "    </tr>\n",
       "    <tr>\n",
       "      <th>B000000I0D</th>\n",
       "      <td>1.0</td>\n",
       "    </tr>\n",
       "    <tr>\n",
       "      <th>B000000YDT</th>\n",
       "      <td>1.0</td>\n",
       "    </tr>\n",
       "  </tbody>\n",
       "</table>\n",
       "</div>"
      ],
      "text/plain": [
       "            Correlation\n",
       "item_id                \n",
       "B00000016W          1.0\n",
       "B000000OPC          1.0\n",
       "B000000OME          1.0\n",
       "B000000I0D          1.0\n",
       "B000000YDT          1.0"
      ]
     },
     "execution_count": 21,
     "metadata": {},
     "output_type": "execute_result"
    }
   ],
   "source": [
    "# Sort the items, based on correlation\n",
    "corr_B00000016W.sort_values('Correlation', ascending=False).head()"
   ]
  },
  {
   "cell_type": "code",
   "execution_count": 22,
   "metadata": {},
   "outputs": [
    {
     "data": {
      "text/html": [
       "<div>\n",
       "<style scoped>\n",
       "    .dataframe tbody tr th:only-of-type {\n",
       "        vertical-align: middle;\n",
       "    }\n",
       "\n",
       "    .dataframe tbody tr th {\n",
       "        vertical-align: top;\n",
       "    }\n",
       "\n",
       "    .dataframe thead th {\n",
       "        text-align: right;\n",
       "    }\n",
       "</style>\n",
       "<table border=\"1\" class=\"dataframe\">\n",
       "  <thead>\n",
       "    <tr style=\"text-align: right;\">\n",
       "      <th></th>\n",
       "      <th>Correlation</th>\n",
       "    </tr>\n",
       "    <tr>\n",
       "      <th>item_id</th>\n",
       "      <th></th>\n",
       "    </tr>\n",
       "  </thead>\n",
       "  <tbody>\n",
       "    <tr>\n",
       "      <th>B000000TDH</th>\n",
       "      <td>1.000000</td>\n",
       "    </tr>\n",
       "    <tr>\n",
       "      <th>B0000009OU</th>\n",
       "      <td>1.000000</td>\n",
       "    </tr>\n",
       "    <tr>\n",
       "      <th>B000000OPC</th>\n",
       "      <td>1.000000</td>\n",
       "    </tr>\n",
       "    <tr>\n",
       "      <th>B000000OVC</th>\n",
       "      <td>1.000000</td>\n",
       "    </tr>\n",
       "    <tr>\n",
       "      <th>B000000WGF</th>\n",
       "      <td>0.891042</td>\n",
       "    </tr>\n",
       "  </tbody>\n",
       "</table>\n",
       "</div>"
      ],
      "text/plain": [
       "            Correlation\n",
       "item_id                \n",
       "B000000TDH     1.000000\n",
       "B0000009OU     1.000000\n",
       "B000000OPC     1.000000\n",
       "B000000OVC     1.000000\n",
       "B000000WGF     0.891042"
      ]
     },
     "execution_count": 22,
     "metadata": {},
     "output_type": "execute_result"
    }
   ],
   "source": [
    "# Sort the items, based on correlation\n",
    "corr_B000000TDH.sort_values('Correlation', ascending=False).head()"
   ]
  },
  {
   "cell_type": "code",
   "execution_count": 23,
   "metadata": {},
   "outputs": [
    {
     "data": {
      "text/html": [
       "<div>\n",
       "<style scoped>\n",
       "    .dataframe tbody tr th:only-of-type {\n",
       "        vertical-align: middle;\n",
       "    }\n",
       "\n",
       "    .dataframe tbody tr th {\n",
       "        vertical-align: top;\n",
       "    }\n",
       "\n",
       "    .dataframe thead th {\n",
       "        text-align: right;\n",
       "    }\n",
       "</style>\n",
       "<table border=\"1\" class=\"dataframe\">\n",
       "  <thead>\n",
       "    <tr style=\"text-align: right;\">\n",
       "      <th></th>\n",
       "      <th>Correlation</th>\n",
       "      <th>rating_numbers</th>\n",
       "    </tr>\n",
       "    <tr>\n",
       "      <th>item_id</th>\n",
       "      <th></th>\n",
       "      <th></th>\n",
       "    </tr>\n",
       "  </thead>\n",
       "  <tbody>\n",
       "    <tr>\n",
       "      <th>B00000016W</th>\n",
       "      <td>1.000000</td>\n",
       "      <td>600</td>\n",
       "    </tr>\n",
       "    <tr>\n",
       "      <th>B00000017R</th>\n",
       "      <td>1.000000</td>\n",
       "      <td>82</td>\n",
       "    </tr>\n",
       "    <tr>\n",
       "      <th>B0000002ME</th>\n",
       "      <td>-0.333333</td>\n",
       "      <td>129</td>\n",
       "    </tr>\n",
       "    <tr>\n",
       "      <th>B00000053B</th>\n",
       "      <td>-1.000000</td>\n",
       "      <td>58</td>\n",
       "    </tr>\n",
       "    <tr>\n",
       "      <th>B00000064E</th>\n",
       "      <td>0.612372</td>\n",
       "      <td>107</td>\n",
       "    </tr>\n",
       "  </tbody>\n",
       "</table>\n",
       "</div>"
      ],
      "text/plain": [
       "            Correlation  rating_numbers\n",
       "item_id                                \n",
       "B00000016W     1.000000             600\n",
       "B00000017R     1.000000              82\n",
       "B0000002ME    -0.333333             129\n",
       "B00000053B    -1.000000              58\n",
       "B00000064E     0.612372             107"
      ]
     },
     "execution_count": 23,
     "metadata": {},
     "output_type": "execute_result"
    }
   ],
   "source": [
    "# Join ratings count\n",
    "corr_B00000016W = corr_B00000016W.join(ratings_mean['rating_numbers'], how='left', lsuffix='_left', rsuffix='_right')\n",
    "corr_B00000016W.head()"
   ]
  },
  {
   "cell_type": "code",
   "execution_count": 24,
   "metadata": {},
   "outputs": [
    {
     "data": {
      "text/html": [
       "<div>\n",
       "<style scoped>\n",
       "    .dataframe tbody tr th:only-of-type {\n",
       "        vertical-align: middle;\n",
       "    }\n",
       "\n",
       "    .dataframe tbody tr th {\n",
       "        vertical-align: top;\n",
       "    }\n",
       "\n",
       "    .dataframe thead th {\n",
       "        text-align: right;\n",
       "    }\n",
       "</style>\n",
       "<table border=\"1\" class=\"dataframe\">\n",
       "  <thead>\n",
       "    <tr style=\"text-align: right;\">\n",
       "      <th></th>\n",
       "      <th>Correlation</th>\n",
       "      <th>rating_numbers</th>\n",
       "    </tr>\n",
       "    <tr>\n",
       "      <th>item_id</th>\n",
       "      <th></th>\n",
       "      <th></th>\n",
       "    </tr>\n",
       "  </thead>\n",
       "  <tbody>\n",
       "    <tr>\n",
       "      <th>B00000016W</th>\n",
       "      <td>1.000000</td>\n",
       "      <td>600</td>\n",
       "    </tr>\n",
       "    <tr>\n",
       "      <th>B000000OMB</th>\n",
       "      <td>0.800000</td>\n",
       "      <td>117</td>\n",
       "    </tr>\n",
       "    <tr>\n",
       "      <th>B000000TDH</th>\n",
       "      <td>0.771744</td>\n",
       "      <td>219</td>\n",
       "    </tr>\n",
       "    <tr>\n",
       "      <th>B00000064E</th>\n",
       "      <td>0.612372</td>\n",
       "      <td>107</td>\n",
       "    </tr>\n",
       "    <tr>\n",
       "      <th>B00000064G</th>\n",
       "      <td>-0.207436</td>\n",
       "      <td>276</td>\n",
       "    </tr>\n",
       "  </tbody>\n",
       "</table>\n",
       "</div>"
      ],
      "text/plain": [
       "            Correlation  rating_numbers\n",
       "item_id                                \n",
       "B00000016W     1.000000             600\n",
       "B000000OMB     0.800000             117\n",
       "B000000TDH     0.771744             219\n",
       "B00000064E     0.612372             107\n",
       "B00000064G    -0.207436             276"
      ]
     },
     "execution_count": 24,
     "metadata": {},
     "output_type": "execute_result"
    }
   ],
   "source": [
    "# Sorting based on correlation and subset based on rating_numbers > 100\n",
    "corr_B00000016W[corr_B00000016W['rating_numbers']>100].sort_values('Correlation', ascending=False).head()"
   ]
  },
  {
   "cell_type": "code",
   "execution_count": 25,
   "metadata": {},
   "outputs": [
    {
     "data": {
      "text/html": [
       "<div>\n",
       "<style scoped>\n",
       "    .dataframe tbody tr th:only-of-type {\n",
       "        vertical-align: middle;\n",
       "    }\n",
       "\n",
       "    .dataframe tbody tr th {\n",
       "        vertical-align: top;\n",
       "    }\n",
       "\n",
       "    .dataframe thead th {\n",
       "        text-align: right;\n",
       "    }\n",
       "</style>\n",
       "<table border=\"1\" class=\"dataframe\">\n",
       "  <thead>\n",
       "    <tr style=\"text-align: right;\">\n",
       "      <th></th>\n",
       "      <th>Correlation</th>\n",
       "      <th>rating_numbers</th>\n",
       "    </tr>\n",
       "    <tr>\n",
       "      <th>item_id</th>\n",
       "      <th></th>\n",
       "      <th></th>\n",
       "    </tr>\n",
       "  </thead>\n",
       "  <tbody>\n",
       "    <tr>\n",
       "      <th>B00000016W</th>\n",
       "      <td>0.771744</td>\n",
       "      <td>600</td>\n",
       "    </tr>\n",
       "    <tr>\n",
       "      <th>B00000053X</th>\n",
       "      <td>0.632456</td>\n",
       "      <td>162</td>\n",
       "    </tr>\n",
       "    <tr>\n",
       "      <th>B0000009OU</th>\n",
       "      <td>1.000000</td>\n",
       "      <td>87</td>\n",
       "    </tr>\n",
       "    <tr>\n",
       "      <th>B000000OPC</th>\n",
       "      <td>1.000000</td>\n",
       "      <td>46</td>\n",
       "    </tr>\n",
       "    <tr>\n",
       "      <th>B000000OVC</th>\n",
       "      <td>1.000000</td>\n",
       "      <td>38</td>\n",
       "    </tr>\n",
       "  </tbody>\n",
       "</table>\n",
       "</div>"
      ],
      "text/plain": [
       "            Correlation  rating_numbers\n",
       "item_id                                \n",
       "B00000016W     0.771744             600\n",
       "B00000053X     0.632456             162\n",
       "B0000009OU     1.000000              87\n",
       "B000000OPC     1.000000              46\n",
       "B000000OVC     1.000000              38"
      ]
     },
     "execution_count": 25,
     "metadata": {},
     "output_type": "execute_result"
    }
   ],
   "source": [
    "# Join ratings count\n",
    "corr_B000000TDH = corr_B000000TDH.join(ratings_mean['rating_numbers'], how='left', lsuffix='_left', rsuffix='_right')\n",
    "corr_B000000TDH.head()"
   ]
  },
  {
   "cell_type": "code",
   "execution_count": 26,
   "metadata": {},
   "outputs": [
    {
     "data": {
      "text/html": [
       "<div>\n",
       "<style scoped>\n",
       "    .dataframe tbody tr th:only-of-type {\n",
       "        vertical-align: middle;\n",
       "    }\n",
       "\n",
       "    .dataframe tbody tr th {\n",
       "        vertical-align: top;\n",
       "    }\n",
       "\n",
       "    .dataframe thead th {\n",
       "        text-align: right;\n",
       "    }\n",
       "</style>\n",
       "<table border=\"1\" class=\"dataframe\">\n",
       "  <thead>\n",
       "    <tr style=\"text-align: right;\">\n",
       "      <th></th>\n",
       "      <th>Correlation</th>\n",
       "      <th>rating_numbers</th>\n",
       "    </tr>\n",
       "    <tr>\n",
       "      <th>item_id</th>\n",
       "      <th></th>\n",
       "      <th></th>\n",
       "    </tr>\n",
       "  </thead>\n",
       "  <tbody>\n",
       "    <tr>\n",
       "      <th>B000000TDH</th>\n",
       "      <td>1.000000</td>\n",
       "      <td>219</td>\n",
       "    </tr>\n",
       "    <tr>\n",
       "      <th>B00000016W</th>\n",
       "      <td>0.771744</td>\n",
       "      <td>600</td>\n",
       "    </tr>\n",
       "    <tr>\n",
       "      <th>B00000053X</th>\n",
       "      <td>0.632456</td>\n",
       "      <td>162</td>\n",
       "    </tr>\n",
       "  </tbody>\n",
       "</table>\n",
       "</div>"
      ],
      "text/plain": [
       "            Correlation  rating_numbers\n",
       "item_id                                \n",
       "B000000TDH     1.000000             219\n",
       "B00000016W     0.771744             600\n",
       "B00000053X     0.632456             162"
      ]
     },
     "execution_count": 26,
     "metadata": {},
     "output_type": "execute_result"
    }
   ],
   "source": [
    "# Sorting based on correlation and subset based on rating_numbers > 100\n",
    "corr_B000000TDH[corr_B000000TDH['rating_numbers']>100].sort_values('Correlation', ascending=False).head()"
   ]
  },
  {
   "cell_type": "markdown",
   "metadata": {},
   "source": [
    "## Similarity based Recommender (cosine, euclidean, manhattan)"
   ]
  },
  {
   "cell_type": "code",
   "execution_count": 27,
   "metadata": {},
   "outputs": [
    {
     "data": {
      "text/html": [
       "<div>\n",
       "<style scoped>\n",
       "    .dataframe tbody tr th:only-of-type {\n",
       "        vertical-align: middle;\n",
       "    }\n",
       "\n",
       "    .dataframe tbody tr th {\n",
       "        vertical-align: top;\n",
       "    }\n",
       "\n",
       "    .dataframe thead th {\n",
       "        text-align: right;\n",
       "    }\n",
       "</style>\n",
       "<table border=\"1\" class=\"dataframe\">\n",
       "  <thead>\n",
       "    <tr style=\"text-align: right;\">\n",
       "      <th></th>\n",
       "      <th>user_id</th>\n",
       "      <th>item_id</th>\n",
       "      <th>rating</th>\n",
       "      <th>timestamp</th>\n",
       "    </tr>\n",
       "  </thead>\n",
       "  <tbody>\n",
       "    <tr>\n",
       "      <th>0</th>\n",
       "      <td>A2EFCYXHNK06IS</td>\n",
       "      <td>5555991584</td>\n",
       "      <td>5.0</td>\n",
       "      <td>978480000</td>\n",
       "    </tr>\n",
       "    <tr>\n",
       "      <th>1</th>\n",
       "      <td>A1WR23ER5HMAA9</td>\n",
       "      <td>5555991584</td>\n",
       "      <td>5.0</td>\n",
       "      <td>953424000</td>\n",
       "    </tr>\n",
       "    <tr>\n",
       "      <th>2</th>\n",
       "      <td>A2IR4Q0GPAFJKW</td>\n",
       "      <td>5555991584</td>\n",
       "      <td>4.0</td>\n",
       "      <td>1393545600</td>\n",
       "    </tr>\n",
       "    <tr>\n",
       "      <th>3</th>\n",
       "      <td>A2V0KUVAB9HSYO</td>\n",
       "      <td>5555991584</td>\n",
       "      <td>4.0</td>\n",
       "      <td>966124800</td>\n",
       "    </tr>\n",
       "    <tr>\n",
       "      <th>4</th>\n",
       "      <td>A1J0GL9HCA7ELW</td>\n",
       "      <td>5555991584</td>\n",
       "      <td>5.0</td>\n",
       "      <td>1007683200</td>\n",
       "    </tr>\n",
       "  </tbody>\n",
       "</table>\n",
       "</div>"
      ],
      "text/plain": [
       "          user_id     item_id  rating   timestamp\n",
       "0  A2EFCYXHNK06IS  5555991584     5.0   978480000\n",
       "1  A1WR23ER5HMAA9  5555991584     5.0   953424000\n",
       "2  A2IR4Q0GPAFJKW  5555991584     4.0  1393545600\n",
       "3  A2V0KUVAB9HSYO  5555991584     4.0   966124800\n",
       "4  A1J0GL9HCA7ELW  5555991584     5.0  1007683200"
      ]
     },
     "execution_count": 27,
     "metadata": {},
     "output_type": "execute_result"
    }
   ],
   "source": [
    "# Taking only first 10000 rows \n",
    "ratings_music_df_10000.head()"
   ]
  },
  {
   "cell_type": "code",
   "execution_count": 28,
   "metadata": {},
   "outputs": [
    {
     "name": "stdout",
     "output_type": "stream",
     "text": [
      "Number of users =  8355  | Number of items =  500\n"
     ]
    }
   ],
   "source": [
    "# Print Number of reviewers and number of items\n",
    "n_users = ratings_music_df_10000.user_id.unique().shape[0]\n",
    "n_items = ratings_music_df_10000.item_id.unique().shape[0]\n",
    "print ('Number of users = ' , str(n_users) , ' | Number of items = ' , str(n_items))"
   ]
  },
  {
   "cell_type": "code",
   "execution_count": 29,
   "metadata": {},
   "outputs": [],
   "source": [
    "# Train and Test split\n",
    "train_data, test_data = cv.train_test_split(ratings_music_df_10000, test_size=0.25)"
   ]
  },
  {
   "cell_type": "code",
   "execution_count": 30,
   "metadata": {},
   "outputs": [],
   "source": [
    "# Convert train and test to matrix\n",
    "train_data_matrix = train_data.pivot(index='user_id', columns='item_id', values='rating').fillna(0)\n",
    "test_data_matrix = test_data.pivot(index='user_id', columns='item_id', values='rating').fillna(0)"
   ]
  },
  {
   "cell_type": "code",
   "execution_count": 31,
   "metadata": {},
   "outputs": [],
   "source": [
    "# Calculate cosine similarity\n",
    "user_similarity_cosine = pairwise_distances(train_data_matrix, n_jobs=-1, metric='cosine')\n",
    "item_similarity_cosine = pairwise_distances(train_data_matrix.T, n_jobs=-1, metric='cosine')"
   ]
  },
  {
   "cell_type": "code",
   "execution_count": 32,
   "metadata": {},
   "outputs": [],
   "source": [
    "# Calculate euclidean similarity\n",
    "user_similarity_euclidean = pairwise_distances(train_data_matrix, n_jobs=-1, metric='euclidean')\n",
    "item_similarity_euclidean = pairwise_distances(train_data_matrix.T, n_jobs=-1, metric='euclidean')"
   ]
  },
  {
   "cell_type": "code",
   "execution_count": 33,
   "metadata": {},
   "outputs": [],
   "source": [
    "# Calculate manhattan similarity\n",
    "user_similarity_manhattan = pairwise_distances(train_data_matrix, n_jobs=-1, metric='manhattan')\n",
    "item_similarity_manhattan = pairwise_distances(train_data_matrix.T, n_jobs=-1, metric='manhattan')"
   ]
  },
  {
   "cell_type": "code",
   "execution_count": 34,
   "metadata": {},
   "outputs": [],
   "source": [
    "# Prediction function\n",
    "def predict(ratings, similarity, type='user'):\n",
    "    if type == 'user':\n",
    "        mean_user_rating = ratings.mean(axis=1)\n",
    "        #You use np.newaxis so that mean_user_rating has same format as ratings\n",
    "        #ratings_diff = (ratings - mean_user_rating[:, np.newaxis])\n",
    "        ratings_diff = ratings.sub(ratings.mean(axis=1), axis=0)\n",
    "        pred = mean_user_rating[:, np.newaxis] + similarity.dot(ratings_diff) / np.array([np.abs(similarity).sum(axis=1)]).T\n",
    "    elif type == 'item':\n",
    "        pred = ratings.dot(similarity).div(pd.DataFrame(np.array([np.abs(similarity).sum(axis=1)])).iloc[0]).values\n",
    "    return pred"
   ]
  },
  {
   "cell_type": "code",
   "execution_count": 35,
   "metadata": {},
   "outputs": [],
   "source": [
    "# prediction using cosine\n",
    "item_prediction_cosine = predict(train_data_matrix, item_similarity_cosine, type='item')\n",
    "user_prediction_cosine = predict(train_data_matrix, user_similarity_cosine, type='user')"
   ]
  },
  {
   "cell_type": "code",
   "execution_count": 36,
   "metadata": {},
   "outputs": [],
   "source": [
    "# prediction using euclidean\n",
    "item_prediction_euclidean = predict(train_data_matrix, item_similarity_euclidean, type='item')\n",
    "user_prediction_euclidean = predict(train_data_matrix, user_similarity_euclidean, type='user')"
   ]
  },
  {
   "cell_type": "code",
   "execution_count": 37,
   "metadata": {},
   "outputs": [],
   "source": [
    "# prediction using manhattan\n",
    "item_prediction_manhattan = predict(train_data_matrix, item_similarity_manhattan, type='item')\n",
    "user_prediction_manhattan = predict(train_data_matrix, user_similarity_manhattan, type='user')"
   ]
  },
  {
   "cell_type": "code",
   "execution_count": 38,
   "metadata": {},
   "outputs": [],
   "source": [
    "# Calculate the RMSE and MSE\n",
    "def rmse(prediction, ground_truth):\n",
    "    prediction = prediction[ground_truth.nonzero()].flatten()\n",
    "    ground_truth = ground_truth[ground_truth.nonzero()].flatten()\n",
    "    return sqrt(mean_squared_error(ground_truth, prediction))\n",
    "\n",
    "def mse(prediction, ground_truth):\n",
    "    prediction = prediction[ground_truth.nonzero()].flatten()\n",
    "    ground_truth = ground_truth[ground_truth.nonzero()].flatten()\n",
    "    return mean_squared_error(ground_truth, prediction)"
   ]
  },
  {
   "cell_type": "code",
   "execution_count": 39,
   "metadata": {},
   "outputs": [
    {
     "name": "stdout",
     "output_type": "stream",
     "text": [
      "User-based CF (cosine) MSE:  21.439397352560867\n",
      "Item-based CF (cosine) MSE:  21.486782326974982\n",
      "-------------------------------------------------------------------------------------------\n",
      "User-based CF (euclidean) MSE:  21.434859605819703\n",
      "Item-based CF (euclidean) MSE:  21.41365229924816\n",
      "-------------------------------------------------------------------------------------------\n",
      "User-based CF (manhattan) MSE:  21.428480876037884\n",
      "Item-based CF (manhattan) MSE:  21.25811528090561\n"
     ]
    }
   ],
   "source": [
    "print ('User-based CF (cosine) MSE: ' , str(mse(user_prediction_cosine, test_data_matrix.values)))\n",
    "print ('Item-based CF (cosine) MSE: ' , str(mse(item_prediction_cosine, test_data_matrix.values)))\n",
    "print ('-------------------------------------------------------------------------------------------')\n",
    "print ('User-based CF (euclidean) MSE: ' , str(mse(user_prediction_euclidean, test_data_matrix.values)))\n",
    "print ('Item-based CF (euclidean) MSE: ' , str(mse(item_prediction_euclidean, test_data_matrix.values)))\n",
    "print ('-------------------------------------------------------------------------------------------')\n",
    "print ('User-based CF (manhattan) MSE: ' , str(mse(user_prediction_manhattan, test_data_matrix.values)))\n",
    "print ('Item-based CF (manhattan) MSE: ' , str(mse(item_prediction_manhattan, test_data_matrix.values)))"
   ]
  },
  {
   "cell_type": "code",
   "execution_count": 40,
   "metadata": {},
   "outputs": [
    {
     "name": "stdout",
     "output_type": "stream",
     "text": [
      "User-based CF (cosine) RMSE:  4.630269684646983\n",
      "Item-based CF (cosine) RMSE:  4.6353837302832845\n",
      "-------------------------------------------------------------------------------------------\n",
      "User-based CF (euclidean) RMSE:  4.629779649812689\n",
      "Item-based CF (euclidean) RMSE:  4.62748876813852\n",
      "-------------------------------------------------------------------------------------------\n",
      "User-based CF (manhattan) RMSE:  4.629090718060933\n",
      "Item-based CF (manhattan) RMSE:  4.610652370424994\n"
     ]
    }
   ],
   "source": [
    "print ('User-based CF (cosine) RMSE: ' , str(rmse(user_prediction_cosine, test_data_matrix.values)))\n",
    "print ('Item-based CF (cosine) RMSE: ' , str(rmse(item_prediction_cosine, test_data_matrix.values)))\n",
    "print ('-------------------------------------------------------------------------------------------')\n",
    "print ('User-based CF (euclidean) RMSE: ' , str(rmse(user_prediction_euclidean, test_data_matrix.values)))\n",
    "print ('Item-based CF (euclidean) RMSE: ' , str(rmse(item_prediction_euclidean, test_data_matrix.values)))\n",
    "print ('-------------------------------------------------------------------------------------------')\n",
    "print ('User-based CF (manhattan) RMSE: ' , str(rmse(user_prediction_manhattan, test_data_matrix.values)))\n",
    "print ('Item-based CF (manhattan) RMSE: ' , str(rmse(item_prediction_manhattan, test_data_matrix.values)))"
   ]
  },
  {
   "cell_type": "code",
   "execution_count": 41,
   "metadata": {},
   "outputs": [
    {
     "name": "stdout",
     "output_type": "stream",
     "text": [
      "User-based CF MSE:  21.535338778678163\n",
      "User-based CF RMSE:  4.640618361671014\n"
     ]
    }
   ],
   "source": [
    "# Using SVD, calculating MSE and RMSE\n",
    "# Get SVD components from train matrix. Choose k.\n",
    "u, s, vt = svds(train_data_matrix, k = 20)\n",
    "s_diag_matrix=np.diag(s)\n",
    "X_pred = np.dot(np.dot(u, s_diag_matrix), vt)\n",
    "print ('User-based CF MSE: ' , str(mse(X_pred, test_data_matrix.values)))\n",
    "print ('User-based CF RMSE: ' , str(rmse(X_pred, test_data_matrix.values)))"
   ]
  },
  {
   "cell_type": "code",
   "execution_count": 42,
   "metadata": {},
   "outputs": [
    {
     "data": {
      "text/html": [
       "<div>\n",
       "<style scoped>\n",
       "    .dataframe tbody tr th:only-of-type {\n",
       "        vertical-align: middle;\n",
       "    }\n",
       "\n",
       "    .dataframe tbody tr th {\n",
       "        vertical-align: top;\n",
       "    }\n",
       "\n",
       "    .dataframe thead th {\n",
       "        text-align: right;\n",
       "    }\n",
       "</style>\n",
       "<table border=\"1\" class=\"dataframe\">\n",
       "  <thead>\n",
       "    <tr style=\"text-align: right;\">\n",
       "      <th></th>\n",
       "      <th>5555991584</th>\n",
       "      <th>6308051551</th>\n",
       "      <th>7901622466</th>\n",
       "      <th>B0000000ZW</th>\n",
       "      <th>B00000016T</th>\n",
       "      <th>B00000016W</th>\n",
       "      <th>B00000017R</th>\n",
       "      <th>B0000001BA</th>\n",
       "      <th>B0000001BO</th>\n",
       "      <th>B0000001O0</th>\n",
       "      <th>...</th>\n",
       "      <th>B0000011CU</th>\n",
       "      <th>B0000011GU</th>\n",
       "      <th>B0000011MD</th>\n",
       "      <th>B0000011N5</th>\n",
       "      <th>B0000011P7</th>\n",
       "      <th>B0000011WE</th>\n",
       "      <th>B0000011X5</th>\n",
       "      <th>B0000011XM</th>\n",
       "      <th>B00000127G</th>\n",
       "      <th>B0000012T3</th>\n",
       "    </tr>\n",
       "  </thead>\n",
       "  <tbody>\n",
       "    <tr>\n",
       "      <th>A08161909WK3HU7UYTMW</th>\n",
       "      <td>0.070945</td>\n",
       "      <td>0.000970</td>\n",
       "      <td>0.008484</td>\n",
       "      <td>0.010206</td>\n",
       "      <td>0.066249</td>\n",
       "      <td>0.314378</td>\n",
       "      <td>0.047620</td>\n",
       "      <td>0.009111</td>\n",
       "      <td>0.001596</td>\n",
       "      <td>0.000188</td>\n",
       "      <td>...</td>\n",
       "      <td>0.001440</td>\n",
       "      <td>0.000970</td>\n",
       "      <td>0.010989</td>\n",
       "      <td>0.031026</td>\n",
       "      <td>0.008641</td>\n",
       "      <td>0.003945</td>\n",
       "      <td>0.001910</td>\n",
       "      <td>0.039010</td>\n",
       "      <td>0.003318</td>\n",
       "      <td>0.006175</td>\n",
       "    </tr>\n",
       "    <tr>\n",
       "      <th>A086594320Z777EHOFWKU</th>\n",
       "      <td>0.071139</td>\n",
       "      <td>0.000959</td>\n",
       "      <td>0.008495</td>\n",
       "      <td>0.010222</td>\n",
       "      <td>0.065939</td>\n",
       "      <td>0.315435</td>\n",
       "      <td>0.047746</td>\n",
       "      <td>0.009123</td>\n",
       "      <td>0.001587</td>\n",
       "      <td>0.000174</td>\n",
       "      <td>...</td>\n",
       "      <td>0.001430</td>\n",
       "      <td>0.000959</td>\n",
       "      <td>0.011007</td>\n",
       "      <td>0.031103</td>\n",
       "      <td>0.008652</td>\n",
       "      <td>0.003942</td>\n",
       "      <td>0.001901</td>\n",
       "      <td>0.039111</td>\n",
       "      <td>0.003314</td>\n",
       "      <td>0.006297</td>\n",
       "    </tr>\n",
       "    <tr>\n",
       "      <th>A10175AMUHOQC4</th>\n",
       "      <td>0.070753</td>\n",
       "      <td>0.000956</td>\n",
       "      <td>0.008451</td>\n",
       "      <td>0.010169</td>\n",
       "      <td>0.066068</td>\n",
       "      <td>0.313712</td>\n",
       "      <td>0.047487</td>\n",
       "      <td>0.009076</td>\n",
       "      <td>0.001581</td>\n",
       "      <td>0.000176</td>\n",
       "      <td>...</td>\n",
       "      <td>0.001425</td>\n",
       "      <td>0.000956</td>\n",
       "      <td>0.010950</td>\n",
       "      <td>0.030936</td>\n",
       "      <td>0.008607</td>\n",
       "      <td>0.003923</td>\n",
       "      <td>0.001893</td>\n",
       "      <td>0.038448</td>\n",
       "      <td>0.003298</td>\n",
       "      <td>0.006265</td>\n",
       "    </tr>\n",
       "    <tr>\n",
       "      <th>A102VKCQOZD2C</th>\n",
       "      <td>0.066439</td>\n",
       "      <td>-0.003133</td>\n",
       "      <td>0.004337</td>\n",
       "      <td>0.006049</td>\n",
       "      <td>0.061769</td>\n",
       "      <td>0.308618</td>\n",
       "      <td>0.043248</td>\n",
       "      <td>0.004960</td>\n",
       "      <td>-0.002511</td>\n",
       "      <td>-0.003912</td>\n",
       "      <td>...</td>\n",
       "      <td>-0.002667</td>\n",
       "      <td>-0.003133</td>\n",
       "      <td>0.006828</td>\n",
       "      <td>0.026750</td>\n",
       "      <td>0.004493</td>\n",
       "      <td>-0.000176</td>\n",
       "      <td>-0.002200</td>\n",
       "      <td>0.034688</td>\n",
       "      <td>-0.000799</td>\n",
       "      <td>0.002158</td>\n",
       "    </tr>\n",
       "    <tr>\n",
       "      <th>A10323WWTFPSGP</th>\n",
       "      <td>0.066702</td>\n",
       "      <td>-0.003133</td>\n",
       "      <td>0.004366</td>\n",
       "      <td>0.006085</td>\n",
       "      <td>0.061727</td>\n",
       "      <td>0.309797</td>\n",
       "      <td>0.043424</td>\n",
       "      <td>0.004991</td>\n",
       "      <td>-0.002508</td>\n",
       "      <td>-0.003914</td>\n",
       "      <td>...</td>\n",
       "      <td>-0.002664</td>\n",
       "      <td>-0.003133</td>\n",
       "      <td>0.006866</td>\n",
       "      <td>0.026863</td>\n",
       "      <td>0.004522</td>\n",
       "      <td>-0.000165</td>\n",
       "      <td>-0.002196</td>\n",
       "      <td>0.034831</td>\n",
       "      <td>-0.000789</td>\n",
       "      <td>0.002179</td>\n",
       "    </tr>\n",
       "  </tbody>\n",
       "</table>\n",
       "<p>5 rows × 491 columns</p>\n",
       "</div>"
      ],
      "text/plain": [
       "                       5555991584  6308051551  7901622466  B0000000ZW  \\\n",
       "A08161909WK3HU7UYTMW     0.070945    0.000970    0.008484    0.010206   \n",
       "A086594320Z777EHOFWKU    0.071139    0.000959    0.008495    0.010222   \n",
       "A10175AMUHOQC4           0.070753    0.000956    0.008451    0.010169   \n",
       "A102VKCQOZD2C            0.066439   -0.003133    0.004337    0.006049   \n",
       "A10323WWTFPSGP           0.066702   -0.003133    0.004366    0.006085   \n",
       "\n",
       "                       B00000016T  B00000016W  B00000017R  B0000001BA  \\\n",
       "A08161909WK3HU7UYTMW     0.066249    0.314378    0.047620    0.009111   \n",
       "A086594320Z777EHOFWKU    0.065939    0.315435    0.047746    0.009123   \n",
       "A10175AMUHOQC4           0.066068    0.313712    0.047487    0.009076   \n",
       "A102VKCQOZD2C            0.061769    0.308618    0.043248    0.004960   \n",
       "A10323WWTFPSGP           0.061727    0.309797    0.043424    0.004991   \n",
       "\n",
       "                       B0000001BO  B0000001O0     ...      B0000011CU  \\\n",
       "A08161909WK3HU7UYTMW     0.001596    0.000188     ...        0.001440   \n",
       "A086594320Z777EHOFWKU    0.001587    0.000174     ...        0.001430   \n",
       "A10175AMUHOQC4           0.001581    0.000176     ...        0.001425   \n",
       "A102VKCQOZD2C           -0.002511   -0.003912     ...       -0.002667   \n",
       "A10323WWTFPSGP          -0.002508   -0.003914     ...       -0.002664   \n",
       "\n",
       "                       B0000011GU  B0000011MD  B0000011N5  B0000011P7  \\\n",
       "A08161909WK3HU7UYTMW     0.000970    0.010989    0.031026    0.008641   \n",
       "A086594320Z777EHOFWKU    0.000959    0.011007    0.031103    0.008652   \n",
       "A10175AMUHOQC4           0.000956    0.010950    0.030936    0.008607   \n",
       "A102VKCQOZD2C           -0.003133    0.006828    0.026750    0.004493   \n",
       "A10323WWTFPSGP          -0.003133    0.006866    0.026863    0.004522   \n",
       "\n",
       "                       B0000011WE  B0000011X5  B0000011XM  B00000127G  \\\n",
       "A08161909WK3HU7UYTMW     0.003945    0.001910    0.039010    0.003318   \n",
       "A086594320Z777EHOFWKU    0.003942    0.001901    0.039111    0.003314   \n",
       "A10175AMUHOQC4           0.003923    0.001893    0.038448    0.003298   \n",
       "A102VKCQOZD2C           -0.000176   -0.002200    0.034688   -0.000799   \n",
       "A10323WWTFPSGP          -0.000165   -0.002196    0.034831   -0.000789   \n",
       "\n",
       "                       B0000012T3  \n",
       "A08161909WK3HU7UYTMW     0.006175  \n",
       "A086594320Z777EHOFWKU    0.006297  \n",
       "A10175AMUHOQC4           0.006265  \n",
       "A102VKCQOZD2C            0.002158  \n",
       "A10323WWTFPSGP           0.002179  \n",
       "\n",
       "[5 rows x 491 columns]"
      ]
     },
     "execution_count": 42,
     "metadata": {},
     "output_type": "execute_result"
    }
   ],
   "source": [
    "# Create DataFrame of user_prediction_cosine\n",
    "columns = [i for i in train_data_matrix]\n",
    "index = list(train_data_matrix.index)\n",
    "usr_pred = pd.DataFrame(user_prediction_cosine, index=index, columns=columns)\n",
    "usr_pred.head()"
   ]
  },
  {
   "cell_type": "code",
   "execution_count": 43,
   "metadata": {},
   "outputs": [
    {
     "data": {
      "text/plain": [
       "[('B00000016W', 0.30861752795454495),\n",
       " ('B00000064G', 0.1539093567483183),\n",
       " ('B000000TDH', 0.11562141900512743),\n",
       " ('B000000OUJ', 0.10145799488061377),\n",
       " ('B0000002ME', 0.0706408742580456),\n",
       " ('B00000053X', 0.07001830616466036),\n",
       " ('B000000WCV', 0.06721674974442687),\n",
       " ('5555991584', 0.06643853962769536),\n",
       " ('B00000016T', 0.06176927892730626),\n",
       " ('B000000WZ4', 0.05896772250707282)]"
      ]
     },
     "execution_count": 43,
     "metadata": {},
     "output_type": "execute_result"
    }
   ],
   "source": [
    "# Recommended items for Reviewer A10175AMUHOQC4\n",
    "sorted(usr_pred.loc['A102VKCQOZD2C'].to_dict().items(), key=operator.itemgetter(1), reverse=True)[:10]"
   ]
  },
  {
   "cell_type": "markdown",
   "metadata": {},
   "source": [
    "## Review based Recommender"
   ]
  },
  {
   "cell_type": "code",
   "execution_count": 44,
   "metadata": {},
   "outputs": [
    {
     "data": {
      "text/html": [
       "<div>\n",
       "<style scoped>\n",
       "    .dataframe tbody tr th:only-of-type {\n",
       "        vertical-align: middle;\n",
       "    }\n",
       "\n",
       "    .dataframe tbody tr th {\n",
       "        vertical-align: top;\n",
       "    }\n",
       "\n",
       "    .dataframe thead th {\n",
       "        text-align: right;\n",
       "    }\n",
       "</style>\n",
       "<table border=\"1\" class=\"dataframe\">\n",
       "  <thead>\n",
       "    <tr style=\"text-align: right;\">\n",
       "      <th></th>\n",
       "      <th>asin</th>\n",
       "      <th>helpful_x</th>\n",
       "      <th>overall_x</th>\n",
       "      <th>reviewText_x</th>\n",
       "      <th>reviewTime_x</th>\n",
       "      <th>reviewerID_x</th>\n",
       "      <th>reviewerName_x</th>\n",
       "      <th>summary_x</th>\n",
       "      <th>unixReviewTime_x</th>\n",
       "      <th>helpful_y</th>\n",
       "      <th>overall_y</th>\n",
       "      <th>reviewText_y</th>\n",
       "      <th>reviewTime_y</th>\n",
       "      <th>reviewerID_y</th>\n",
       "      <th>reviewerName_y</th>\n",
       "      <th>summary_y</th>\n",
       "      <th>unixReviewTime_y</th>\n",
       "    </tr>\n",
       "  </thead>\n",
       "  <tbody>\n",
       "    <tr>\n",
       "      <th>0</th>\n",
       "      <td>5555991584</td>\n",
       "      <td>[3, 3]</td>\n",
       "      <td>5</td>\n",
       "      <td>It's hard to believe \"Memory of Trees\" came ou...</td>\n",
       "      <td>09 12, 2006</td>\n",
       "      <td>A3EBHHCZO6V2A4</td>\n",
       "      <td>Amaranth \"music fan\"</td>\n",
       "      <td>Enya's last great album</td>\n",
       "      <td>1158019200</td>\n",
       "      <td>23</td>\n",
       "      <td>23</td>\n",
       "      <td>23</td>\n",
       "      <td>23</td>\n",
       "      <td>23</td>\n",
       "      <td>23</td>\n",
       "      <td>23</td>\n",
       "      <td>23</td>\n",
       "    </tr>\n",
       "    <tr>\n",
       "      <th>1</th>\n",
       "      <td>5555991584</td>\n",
       "      <td>[0, 0]</td>\n",
       "      <td>5</td>\n",
       "      <td>A clasically-styled and introverted album, Mem...</td>\n",
       "      <td>06 3, 2001</td>\n",
       "      <td>AZPWAXJG9OJXV</td>\n",
       "      <td>bethtexas</td>\n",
       "      <td>Enya at her most elegant</td>\n",
       "      <td>991526400</td>\n",
       "      <td>23</td>\n",
       "      <td>23</td>\n",
       "      <td>23</td>\n",
       "      <td>23</td>\n",
       "      <td>23</td>\n",
       "      <td>23</td>\n",
       "      <td>23</td>\n",
       "      <td>23</td>\n",
       "    </tr>\n",
       "    <tr>\n",
       "      <th>2</th>\n",
       "      <td>5555991584</td>\n",
       "      <td>[2, 2]</td>\n",
       "      <td>5</td>\n",
       "      <td>I never thought Enya would reach the sublime h...</td>\n",
       "      <td>07 14, 2003</td>\n",
       "      <td>A38IRL0X2T4DPF</td>\n",
       "      <td>bob turnley</td>\n",
       "      <td>The best so far</td>\n",
       "      <td>1058140800</td>\n",
       "      <td>23</td>\n",
       "      <td>23</td>\n",
       "      <td>23</td>\n",
       "      <td>23</td>\n",
       "      <td>23</td>\n",
       "      <td>23</td>\n",
       "      <td>23</td>\n",
       "      <td>23</td>\n",
       "    </tr>\n",
       "    <tr>\n",
       "      <th>3</th>\n",
       "      <td>5555991584</td>\n",
       "      <td>[1, 1]</td>\n",
       "      <td>5</td>\n",
       "      <td>This is the third review of an irish album I w...</td>\n",
       "      <td>05 3, 2000</td>\n",
       "      <td>A22IK3I6U76GX0</td>\n",
       "      <td>Calle</td>\n",
       "      <td>Ireland produces good music.</td>\n",
       "      <td>957312000</td>\n",
       "      <td>23</td>\n",
       "      <td>23</td>\n",
       "      <td>23</td>\n",
       "      <td>23</td>\n",
       "      <td>23</td>\n",
       "      <td>23</td>\n",
       "      <td>23</td>\n",
       "      <td>23</td>\n",
       "    </tr>\n",
       "    <tr>\n",
       "      <th>4</th>\n",
       "      <td>5555991584</td>\n",
       "      <td>[1, 1]</td>\n",
       "      <td>4</td>\n",
       "      <td>Enya, despite being a successful recording art...</td>\n",
       "      <td>01 17, 2008</td>\n",
       "      <td>A1AISPOIIHTHXX</td>\n",
       "      <td>Cloud \"...\"</td>\n",
       "      <td>4.5; music to dream to</td>\n",
       "      <td>1200528000</td>\n",
       "      <td>23</td>\n",
       "      <td>23</td>\n",
       "      <td>23</td>\n",
       "      <td>23</td>\n",
       "      <td>23</td>\n",
       "      <td>23</td>\n",
       "      <td>23</td>\n",
       "      <td>23</td>\n",
       "    </tr>\n",
       "  </tbody>\n",
       "</table>\n",
       "</div>"
      ],
      "text/plain": [
       "         asin helpful_x  overall_x  \\\n",
       "0  5555991584    [3, 3]          5   \n",
       "1  5555991584    [0, 0]          5   \n",
       "2  5555991584    [2, 2]          5   \n",
       "3  5555991584    [1, 1]          5   \n",
       "4  5555991584    [1, 1]          4   \n",
       "\n",
       "                                        reviewText_x reviewTime_x  \\\n",
       "0  It's hard to believe \"Memory of Trees\" came ou...  09 12, 2006   \n",
       "1  A clasically-styled and introverted album, Mem...   06 3, 2001   \n",
       "2  I never thought Enya would reach the sublime h...  07 14, 2003   \n",
       "3  This is the third review of an irish album I w...   05 3, 2000   \n",
       "4  Enya, despite being a successful recording art...  01 17, 2008   \n",
       "\n",
       "     reviewerID_x        reviewerName_x                     summary_x  \\\n",
       "0  A3EBHHCZO6V2A4  Amaranth \"music fan\"       Enya's last great album   \n",
       "1   AZPWAXJG9OJXV             bethtexas      Enya at her most elegant   \n",
       "2  A38IRL0X2T4DPF           bob turnley               The best so far   \n",
       "3  A22IK3I6U76GX0                 Calle  Ireland produces good music.   \n",
       "4  A1AISPOIIHTHXX           Cloud \"...\"        4.5; music to dream to   \n",
       "\n",
       "   unixReviewTime_x  helpful_y  overall_y  reviewText_y  reviewTime_y  \\\n",
       "0        1158019200         23         23            23            23   \n",
       "1         991526400         23         23            23            23   \n",
       "2        1058140800         23         23            23            23   \n",
       "3         957312000         23         23            23            23   \n",
       "4        1200528000         23         23            23            23   \n",
       "\n",
       "   reviewerID_y  reviewerName_y  summary_y  unixReviewTime_y  \n",
       "0            23              23         23                23  \n",
       "1            23              23         23                23  \n",
       "2            23              23         23                23  \n",
       "3            23              23         23                23  \n",
       "4            23              23         23                23  "
      ]
     },
     "execution_count": 44,
     "metadata": {},
     "output_type": "execute_result"
    }
   ],
   "source": [
    "# Calculate count and mean of each item ( Song )\n",
    "count = reviews_music_df.groupby(\"asin\", as_index=False).count()\n",
    "mean = reviews_music_df.groupby(\"asin\", as_index=False).mean()\n",
    "\n",
    "dfMerged = pd.merge(reviews_music_df, count, how='right', on=['asin'])\n",
    "dfMerged.head()"
   ]
  },
  {
   "cell_type": "code",
   "execution_count": 45,
   "metadata": {},
   "outputs": [],
   "source": [
    "# Rename the columns\n",
    "dfMerged[\"totalReviewers\"] = dfMerged[\"reviewerID_y\"]\n",
    "dfMerged[\"overallScore\"] = dfMerged[\"overall_x\"]\n",
    "dfMerged[\"summaryReview\"] = dfMerged[\"summary_x\"]\n",
    "\n",
    "dfNew = dfMerged[['asin','summaryReview','overallScore',\"totalReviewers\"]]"
   ]
  },
  {
   "cell_type": "code",
   "execution_count": 46,
   "metadata": {},
   "outputs": [
    {
     "data": {
      "text/html": [
       "<div>\n",
       "<style scoped>\n",
       "    .dataframe tbody tr th:only-of-type {\n",
       "        vertical-align: middle;\n",
       "    }\n",
       "\n",
       "    .dataframe tbody tr th {\n",
       "        vertical-align: top;\n",
       "    }\n",
       "\n",
       "    .dataframe thead th {\n",
       "        text-align: right;\n",
       "    }\n",
       "</style>\n",
       "<table border=\"1\" class=\"dataframe\">\n",
       "  <thead>\n",
       "    <tr style=\"text-align: right;\">\n",
       "      <th></th>\n",
       "      <th>asin</th>\n",
       "      <th>helpful_x</th>\n",
       "      <th>overall_x</th>\n",
       "      <th>reviewText_x</th>\n",
       "      <th>reviewTime_x</th>\n",
       "      <th>reviewerID_x</th>\n",
       "      <th>reviewerName_x</th>\n",
       "      <th>summary_x</th>\n",
       "      <th>unixReviewTime_x</th>\n",
       "      <th>helpful_y</th>\n",
       "      <th>overall_y</th>\n",
       "      <th>reviewText_y</th>\n",
       "      <th>reviewTime_y</th>\n",
       "      <th>reviewerID_y</th>\n",
       "      <th>reviewerName_y</th>\n",
       "      <th>summary_y</th>\n",
       "      <th>unixReviewTime_y</th>\n",
       "      <th>totalReviewers</th>\n",
       "      <th>overallScore</th>\n",
       "      <th>summaryReview</th>\n",
       "    </tr>\n",
       "  </thead>\n",
       "  <tbody>\n",
       "    <tr>\n",
       "      <th>48752</th>\n",
       "      <td>B0007NFL18</td>\n",
       "      <td>[4, 9]</td>\n",
       "      <td>5</td>\n",
       "      <td>Dont be misguided by the low stars, because 95...</td>\n",
       "      <td>08 15, 2005</td>\n",
       "      <td>A2KPVBROV25H5B</td>\n",
       "      <td>Wise Guy</td>\n",
       "      <td>Dont be fooled by the stars!</td>\n",
       "      <td>1124064000</td>\n",
       "      <td>272</td>\n",
       "      <td>272</td>\n",
       "      <td>272</td>\n",
       "      <td>272</td>\n",
       "      <td>272</td>\n",
       "      <td>272</td>\n",
       "      <td>272</td>\n",
       "      <td>272</td>\n",
       "      <td>272</td>\n",
       "      <td>5</td>\n",
       "      <td>Dont be fooled by the stars!</td>\n",
       "    </tr>\n",
       "    <tr>\n",
       "      <th>48661</th>\n",
       "      <td>B0007NFL18</td>\n",
       "      <td>[8, 13]</td>\n",
       "      <td>1</td>\n",
       "      <td>The worst put together album of all time. I li...</td>\n",
       "      <td>12 15, 2005</td>\n",
       "      <td>AZ6A2VCRPFRSE</td>\n",
       "      <td>Music Fan</td>\n",
       "      <td>0.0stars</td>\n",
       "      <td>1134604800</td>\n",
       "      <td>272</td>\n",
       "      <td>272</td>\n",
       "      <td>272</td>\n",
       "      <td>272</td>\n",
       "      <td>272</td>\n",
       "      <td>272</td>\n",
       "      <td>272</td>\n",
       "      <td>272</td>\n",
       "      <td>272</td>\n",
       "      <td>1</td>\n",
       "      <td>0.0stars</td>\n",
       "    </tr>\n",
       "    <tr>\n",
       "      <th>48709</th>\n",
       "      <td>B0007NFL18</td>\n",
       "      <td>[9, 9]</td>\n",
       "      <td>1</td>\n",
       "      <td>dont buy this album, its phucckin worthless, t...</td>\n",
       "      <td>04 1, 2006</td>\n",
       "      <td>A19K0T7TDA67CV</td>\n",
       "      <td>Sean B. \"xXIronDethXx\"</td>\n",
       "      <td>Phuccin GARBAGE</td>\n",
       "      <td>1143849600</td>\n",
       "      <td>272</td>\n",
       "      <td>272</td>\n",
       "      <td>272</td>\n",
       "      <td>272</td>\n",
       "      <td>272</td>\n",
       "      <td>272</td>\n",
       "      <td>272</td>\n",
       "      <td>272</td>\n",
       "      <td>272</td>\n",
       "      <td>1</td>\n",
       "      <td>Phuccin GARBAGE</td>\n",
       "    </tr>\n",
       "    <tr>\n",
       "      <th>48656</th>\n",
       "      <td>B0007NFL18</td>\n",
       "      <td>[2, 5]</td>\n",
       "      <td>2</td>\n",
       "      <td>50 Cent produced an instant hip-hop classic wi...</td>\n",
       "      <td>03 5, 2005</td>\n",
       "      <td>A3RFCBJ6U5DLFN</td>\n",
       "      <td>MisterMusicFan</td>\n",
       "      <td>50's now 25</td>\n",
       "      <td>1109980800</td>\n",
       "      <td>272</td>\n",
       "      <td>272</td>\n",
       "      <td>272</td>\n",
       "      <td>272</td>\n",
       "      <td>272</td>\n",
       "      <td>272</td>\n",
       "      <td>272</td>\n",
       "      <td>272</td>\n",
       "      <td>272</td>\n",
       "      <td>2</td>\n",
       "      <td>50's now 25</td>\n",
       "    </tr>\n",
       "    <tr>\n",
       "      <th>48657</th>\n",
       "      <td>B0007NFL18</td>\n",
       "      <td>[19, 23]</td>\n",
       "      <td>1</td>\n",
       "      <td>The only thing being massacred here are my ear...</td>\n",
       "      <td>06 14, 2006</td>\n",
       "      <td>AIXN5G2G6V9B9</td>\n",
       "      <td>Mr Alan Williamson</td>\n",
       "      <td>A nasty piece of work from a nasty piece of work</td>\n",
       "      <td>1150243200</td>\n",
       "      <td>272</td>\n",
       "      <td>272</td>\n",
       "      <td>272</td>\n",
       "      <td>272</td>\n",
       "      <td>272</td>\n",
       "      <td>272</td>\n",
       "      <td>272</td>\n",
       "      <td>272</td>\n",
       "      <td>272</td>\n",
       "      <td>1</td>\n",
       "      <td>A nasty piece of work from a nasty piece of work</td>\n",
       "    </tr>\n",
       "  </tbody>\n",
       "</table>\n",
       "</div>"
      ],
      "text/plain": [
       "             asin helpful_x  overall_x  \\\n",
       "48752  B0007NFL18    [4, 9]          5   \n",
       "48661  B0007NFL18   [8, 13]          1   \n",
       "48709  B0007NFL18    [9, 9]          1   \n",
       "48656  B0007NFL18    [2, 5]          2   \n",
       "48657  B0007NFL18  [19, 23]          1   \n",
       "\n",
       "                                            reviewText_x reviewTime_x  \\\n",
       "48752  Dont be misguided by the low stars, because 95...  08 15, 2005   \n",
       "48661  The worst put together album of all time. I li...  12 15, 2005   \n",
       "48709  dont buy this album, its phucckin worthless, t...   04 1, 2006   \n",
       "48656  50 Cent produced an instant hip-hop classic wi...   03 5, 2005   \n",
       "48657  The only thing being massacred here are my ear...  06 14, 2006   \n",
       "\n",
       "         reviewerID_x          reviewerName_x  \\\n",
       "48752  A2KPVBROV25H5B                Wise Guy   \n",
       "48661   AZ6A2VCRPFRSE               Music Fan   \n",
       "48709  A19K0T7TDA67CV  Sean B. \"xXIronDethXx\"   \n",
       "48656  A3RFCBJ6U5DLFN          MisterMusicFan   \n",
       "48657   AIXN5G2G6V9B9      Mr Alan Williamson   \n",
       "\n",
       "                                              summary_x  unixReviewTime_x  \\\n",
       "48752                      Dont be fooled by the stars!        1124064000   \n",
       "48661                                          0.0stars        1134604800   \n",
       "48709                                   Phuccin GARBAGE        1143849600   \n",
       "48656                                       50's now 25        1109980800   \n",
       "48657  A nasty piece of work from a nasty piece of work        1150243200   \n",
       "\n",
       "       helpful_y  overall_y  reviewText_y  reviewTime_y  reviewerID_y  \\\n",
       "48752        272        272           272           272           272   \n",
       "48661        272        272           272           272           272   \n",
       "48709        272        272           272           272           272   \n",
       "48656        272        272           272           272           272   \n",
       "48657        272        272           272           272           272   \n",
       "\n",
       "       reviewerName_y  summary_y  unixReviewTime_y  totalReviewers  \\\n",
       "48752             272        272               272             272   \n",
       "48661             272        272               272             272   \n",
       "48709             272        272               272             272   \n",
       "48656             272        272               272             272   \n",
       "48657             272        272               272             272   \n",
       "\n",
       "       overallScore                                     summaryReview  \n",
       "48752             5                      Dont be fooled by the stars!  \n",
       "48661             1                                          0.0stars  \n",
       "48709             1                                   Phuccin GARBAGE  \n",
       "48656             2                                       50's now 25  \n",
       "48657             1  A nasty piece of work from a nasty piece of work  "
      ]
     },
     "execution_count": 46,
     "metadata": {},
     "output_type": "execute_result"
    }
   ],
   "source": [
    "# Sort based on total reviews\n",
    "dfMerged = dfMerged.sort_values(by='totalReviewers', ascending=False)\n",
    "dfCount = dfMerged[dfMerged.totalReviewers >= 50]\n",
    "dfCount.head()"
   ]
  },
  {
   "cell_type": "code",
   "execution_count": 47,
   "metadata": {},
   "outputs": [
    {
     "data": {
      "text/html": [
       "<div>\n",
       "<style scoped>\n",
       "    .dataframe tbody tr th:only-of-type {\n",
       "        vertical-align: middle;\n",
       "    }\n",
       "\n",
       "    .dataframe tbody tr th {\n",
       "        vertical-align: top;\n",
       "    }\n",
       "\n",
       "    .dataframe thead th {\n",
       "        text-align: right;\n",
       "    }\n",
       "</style>\n",
       "<table border=\"1\" class=\"dataframe\">\n",
       "  <thead>\n",
       "    <tr style=\"text-align: right;\">\n",
       "      <th></th>\n",
       "      <th>summaryReview</th>\n",
       "    </tr>\n",
       "    <tr>\n",
       "      <th>asin</th>\n",
       "      <th></th>\n",
       "    </tr>\n",
       "  </thead>\n",
       "  <tbody>\n",
       "    <tr>\n",
       "      <th>B00000016W</th>\n",
       "      <td>[Just wasn't made for it's time,but ahead of i...</td>\n",
       "    </tr>\n",
       "    <tr>\n",
       "      <th>B00000064G</th>\n",
       "      <td>[bleak but tremendous, A slice of angellic bea...</td>\n",
       "    </tr>\n",
       "    <tr>\n",
       "      <th>B000000OUJ</th>\n",
       "      <td>[Comming From One Of The Most Consistant Membe...</td>\n",
       "    </tr>\n",
       "    <tr>\n",
       "      <th>B000000TDH</th>\n",
       "      <td>[Their best album, Classic 90s album!, This al...</td>\n",
       "    </tr>\n",
       "    <tr>\n",
       "      <th>B0000013GH</th>\n",
       "      <td>[Please Unbreak Her Heart!!, Secrets - 4.5 sta...</td>\n",
       "    </tr>\n",
       "  </tbody>\n",
       "</table>\n",
       "</div>"
      ],
      "text/plain": [
       "                                                summaryReview\n",
       "asin                                                         \n",
       "B00000016W  [Just wasn't made for it's time,but ahead of i...\n",
       "B00000064G  [bleak but tremendous, A slice of angellic bea...\n",
       "B000000OUJ  [Comming From One Of The Most Consistant Membe...\n",
       "B000000TDH  [Their best album, Classic 90s album!, This al...\n",
       "B0000013GH  [Please Unbreak Her Heart!!, Secrets - 4.5 sta..."
      ]
     },
     "execution_count": 47,
     "metadata": {},
     "output_type": "execute_result"
    }
   ],
   "source": [
    "# Create review summary for each item\n",
    "dfProductReview = reviews_music_df.groupby(\"asin\", as_index=False).mean()\n",
    "ProductReviewSummary = dfCount.groupby(\"asin\")[\"summaryReview\"].apply(list)\n",
    "ProductReviewSummary = pd.DataFrame(ProductReviewSummary)\n",
    "ProductReviewSummary.to_csv(\"data/ProductReviewSummary.csv\")\n",
    "ProductReviewSummary.head()"
   ]
  },
  {
   "cell_type": "code",
   "execution_count": 48,
   "metadata": {},
   "outputs": [
    {
     "data": {
      "text/html": [
       "<div>\n",
       "<style scoped>\n",
       "    .dataframe tbody tr th:only-of-type {\n",
       "        vertical-align: middle;\n",
       "    }\n",
       "\n",
       "    .dataframe tbody tr th {\n",
       "        vertical-align: top;\n",
       "    }\n",
       "\n",
       "    .dataframe thead th {\n",
       "        text-align: right;\n",
       "    }\n",
       "</style>\n",
       "<table border=\"1\" class=\"dataframe\">\n",
       "  <thead>\n",
       "    <tr style=\"text-align: right;\">\n",
       "      <th></th>\n",
       "      <th>asin</th>\n",
       "      <th>overall</th>\n",
       "      <th>unixReviewTime</th>\n",
       "    </tr>\n",
       "  </thead>\n",
       "  <tbody>\n",
       "    <tr>\n",
       "      <th>0</th>\n",
       "      <td>5555991584</td>\n",
       "      <td>4.739130</td>\n",
       "      <td>1.099834e+09</td>\n",
       "    </tr>\n",
       "    <tr>\n",
       "      <th>1</th>\n",
       "      <td>B0000000ZW</td>\n",
       "      <td>4.133333</td>\n",
       "      <td>1.122566e+09</td>\n",
       "    </tr>\n",
       "    <tr>\n",
       "      <th>2</th>\n",
       "      <td>B00000016T</td>\n",
       "      <td>4.851064</td>\n",
       "      <td>1.156550e+09</td>\n",
       "    </tr>\n",
       "    <tr>\n",
       "      <th>3</th>\n",
       "      <td>B00000016W</td>\n",
       "      <td>4.629630</td>\n",
       "      <td>1.112818e+09</td>\n",
       "    </tr>\n",
       "    <tr>\n",
       "      <th>4</th>\n",
       "      <td>B00000017R</td>\n",
       "      <td>4.650000</td>\n",
       "      <td>1.131127e+09</td>\n",
       "    </tr>\n",
       "  </tbody>\n",
       "</table>\n",
       "</div>"
      ],
      "text/plain": [
       "         asin   overall  unixReviewTime\n",
       "0  5555991584  4.739130    1.099834e+09\n",
       "1  B0000000ZW  4.133333    1.122566e+09\n",
       "2  B00000016T  4.851064    1.156550e+09\n",
       "3  B00000016W  4.629630    1.112818e+09\n",
       "4  B00000017R  4.650000    1.131127e+09"
      ]
     },
     "execution_count": 48,
     "metadata": {},
     "output_type": "execute_result"
    }
   ],
   "source": [
    "# mean ratings of each product\n",
    "dfProductReview.head()"
   ]
  },
  {
   "cell_type": "code",
   "execution_count": 49,
   "metadata": {},
   "outputs": [],
   "source": [
    "# Read the csv and merge the reviews\n",
    "df3 = pd.read_csv(\"data/ProductReviewSummary.csv\")\n",
    "df3 = pd.merge(df3, dfProductReview, on=\"asin\", how='inner')"
   ]
  },
  {
   "cell_type": "code",
   "execution_count": 50,
   "metadata": {},
   "outputs": [],
   "source": [
    "df3 = df3[['asin','summaryReview','overall']]"
   ]
  },
  {
   "cell_type": "code",
   "execution_count": 51,
   "metadata": {},
   "outputs": [],
   "source": [
    "# Function for tokenizing summary\n",
    "regEx = re.compile('[^a-z]+')\n",
    "def cleanReviews(reviewText):\n",
    "    reviewText = reviewText.lower()\n",
    "    reviewText = regEx.sub(' ', reviewText).strip()\n",
    "    return reviewText"
   ]
  },
  {
   "cell_type": "code",
   "execution_count": 52,
   "metadata": {},
   "outputs": [],
   "source": [
    "# Reset index and drop duplicate rows\n",
    "df3[\"summaryClean\"] = df3[\"summaryReview\"].apply(cleanReviews)\n",
    "df3 = df3.drop_duplicates(['overall'], keep='last')\n",
    "df3 = df3.reset_index()"
   ]
  },
  {
   "cell_type": "code",
   "execution_count": 53,
   "metadata": {},
   "outputs": [
    {
     "data": {
      "text/html": [
       "<div>\n",
       "<style scoped>\n",
       "    .dataframe tbody tr th:only-of-type {\n",
       "        vertical-align: middle;\n",
       "    }\n",
       "\n",
       "    .dataframe tbody tr th {\n",
       "        vertical-align: top;\n",
       "    }\n",
       "\n",
       "    .dataframe thead th {\n",
       "        text-align: right;\n",
       "    }\n",
       "</style>\n",
       "<table border=\"1\" class=\"dataframe\">\n",
       "  <thead>\n",
       "    <tr style=\"text-align: right;\">\n",
       "      <th></th>\n",
       "      <th>absolutely</th>\n",
       "      <th>actually</th>\n",
       "      <th>aerosmith</th>\n",
       "      <th>ain</th>\n",
       "      <th>alanis</th>\n",
       "      <th>album</th>\n",
       "      <th>albums</th>\n",
       "      <th>amazing</th>\n",
       "      <th>american</th>\n",
       "      <th>amos</th>\n",
       "      <th>...</th>\n",
       "      <th>worst</th>\n",
       "      <th>worth</th>\n",
       "      <th>wow</th>\n",
       "      <th>wrong</th>\n",
       "      <th>ya</th>\n",
       "      <th>yeah</th>\n",
       "      <th>year</th>\n",
       "      <th>years</th>\n",
       "      <th>yes</th>\n",
       "      <th>young</th>\n",
       "    </tr>\n",
       "  </thead>\n",
       "  <tbody>\n",
       "    <tr>\n",
       "      <th>0</th>\n",
       "      <td>0</td>\n",
       "      <td>0</td>\n",
       "      <td>0</td>\n",
       "      <td>0</td>\n",
       "      <td>0</td>\n",
       "      <td>13</td>\n",
       "      <td>7</td>\n",
       "      <td>1</td>\n",
       "      <td>2</td>\n",
       "      <td>0</td>\n",
       "      <td>...</td>\n",
       "      <td>0</td>\n",
       "      <td>0</td>\n",
       "      <td>1</td>\n",
       "      <td>0</td>\n",
       "      <td>0</td>\n",
       "      <td>0</td>\n",
       "      <td>0</td>\n",
       "      <td>0</td>\n",
       "      <td>1</td>\n",
       "      <td>0</td>\n",
       "    </tr>\n",
       "    <tr>\n",
       "      <th>1</th>\n",
       "      <td>0</td>\n",
       "      <td>0</td>\n",
       "      <td>0</td>\n",
       "      <td>0</td>\n",
       "      <td>0</td>\n",
       "      <td>3</td>\n",
       "      <td>4</td>\n",
       "      <td>1</td>\n",
       "      <td>0</td>\n",
       "      <td>0</td>\n",
       "      <td>...</td>\n",
       "      <td>0</td>\n",
       "      <td>0</td>\n",
       "      <td>0</td>\n",
       "      <td>0</td>\n",
       "      <td>0</td>\n",
       "      <td>1</td>\n",
       "      <td>0</td>\n",
       "      <td>0</td>\n",
       "      <td>1</td>\n",
       "      <td>0</td>\n",
       "    </tr>\n",
       "    <tr>\n",
       "      <th>2</th>\n",
       "      <td>0</td>\n",
       "      <td>0</td>\n",
       "      <td>0</td>\n",
       "      <td>0</td>\n",
       "      <td>0</td>\n",
       "      <td>6</td>\n",
       "      <td>2</td>\n",
       "      <td>0</td>\n",
       "      <td>0</td>\n",
       "      <td>0</td>\n",
       "      <td>...</td>\n",
       "      <td>0</td>\n",
       "      <td>1</td>\n",
       "      <td>0</td>\n",
       "      <td>0</td>\n",
       "      <td>0</td>\n",
       "      <td>0</td>\n",
       "      <td>1</td>\n",
       "      <td>1</td>\n",
       "      <td>0</td>\n",
       "      <td>0</td>\n",
       "    </tr>\n",
       "    <tr>\n",
       "      <th>3</th>\n",
       "      <td>1</td>\n",
       "      <td>0</td>\n",
       "      <td>0</td>\n",
       "      <td>0</td>\n",
       "      <td>0</td>\n",
       "      <td>10</td>\n",
       "      <td>2</td>\n",
       "      <td>1</td>\n",
       "      <td>0</td>\n",
       "      <td>0</td>\n",
       "      <td>...</td>\n",
       "      <td>0</td>\n",
       "      <td>0</td>\n",
       "      <td>0</td>\n",
       "      <td>0</td>\n",
       "      <td>0</td>\n",
       "      <td>0</td>\n",
       "      <td>0</td>\n",
       "      <td>1</td>\n",
       "      <td>0</td>\n",
       "      <td>0</td>\n",
       "    </tr>\n",
       "    <tr>\n",
       "      <th>4</th>\n",
       "      <td>0</td>\n",
       "      <td>0</td>\n",
       "      <td>0</td>\n",
       "      <td>0</td>\n",
       "      <td>0</td>\n",
       "      <td>6</td>\n",
       "      <td>0</td>\n",
       "      <td>0</td>\n",
       "      <td>0</td>\n",
       "      <td>0</td>\n",
       "      <td>...</td>\n",
       "      <td>0</td>\n",
       "      <td>2</td>\n",
       "      <td>0</td>\n",
       "      <td>0</td>\n",
       "      <td>0</td>\n",
       "      <td>0</td>\n",
       "      <td>0</td>\n",
       "      <td>0</td>\n",
       "      <td>1</td>\n",
       "      <td>0</td>\n",
       "    </tr>\n",
       "  </tbody>\n",
       "</table>\n",
       "<p>5 rows × 300 columns</p>\n",
       "</div>"
      ],
      "text/plain": [
       "   absolutely  actually  aerosmith  ain  alanis  album  albums  amazing  \\\n",
       "0           0         0          0    0       0     13       7        1   \n",
       "1           0         0          0    0       0      3       4        1   \n",
       "2           0         0          0    0       0      6       2        0   \n",
       "3           1         0          0    0       0     10       2        1   \n",
       "4           0         0          0    0       0      6       0        0   \n",
       "\n",
       "   american  amos  ...    worst  worth  wow  wrong  ya  yeah  year  years  \\\n",
       "0         2     0  ...        0      0    1      0   0     0     0      0   \n",
       "1         0     0  ...        0      0    0      0   0     1     0      0   \n",
       "2         0     0  ...        0      1    0      0   0     0     1      1   \n",
       "3         0     0  ...        0      0    0      0   0     0     0      1   \n",
       "4         0     0  ...        0      2    0      0   0     0     0      0   \n",
       "\n",
       "   yes  young  \n",
       "0    1      0  \n",
       "1    1      0  \n",
       "2    0      0  \n",
       "3    0      0  \n",
       "4    1      0  \n",
       "\n",
       "[5 rows x 300 columns]"
      ]
     },
     "execution_count": 53,
     "metadata": {},
     "output_type": "execute_result"
    }
   ],
   "source": [
    "# Keep only reviews\n",
    "reviews = df3[\"summaryClean\"] \n",
    "countVector = CountVectorizer(max_features = 300, stop_words='english') \n",
    "transformedReviews = countVector.fit_transform(reviews) \n",
    "\n",
    "dfReviews = pd.DataFrame(transformedReviews.A, columns=countVector.get_feature_names())\n",
    "dfReviews = dfReviews.astype(int)\n",
    "dfReviews.head()"
   ]
  },
  {
   "cell_type": "code",
   "execution_count": 54,
   "metadata": {},
   "outputs": [],
   "source": [
    "# Save as csv\n",
    "dfReviews.to_csv(\"data/dfReviews.csv\")"
   ]
  },
  {
   "cell_type": "code",
   "execution_count": 55,
   "metadata": {},
   "outputs": [],
   "source": [
    "# First let's create a dataset called X\n",
    "X = np.array(dfReviews)\n",
    "# create train and test\n",
    "tpercent = 0.9\n",
    "tsize = int(np.floor(tpercent * len(dfReviews)))\n",
    "dfReviews_train = X[:tsize]\n",
    "dfReviews_test = X[tsize:]\n",
    "#len of train and test\n",
    "lentrain = len(dfReviews_train)\n",
    "lentest = len(dfReviews_test)"
   ]
  },
  {
   "cell_type": "code",
   "execution_count": 56,
   "metadata": {},
   "outputs": [
    {
     "name": "stdout",
     "output_type": "stream",
     "text": [
      "217\n",
      "25\n"
     ]
    }
   ],
   "source": [
    "# KNN classifier to find similar products\n",
    "print(lentrain)\n",
    "print(lentest)"
   ]
  },
  {
   "cell_type": "code",
   "execution_count": 57,
   "metadata": {},
   "outputs": [],
   "source": [
    "# Algorithm ball_tree\n",
    "neighbor = NearestNeighbors(n_neighbors=3, algorithm='ball_tree').fit(dfReviews_train)\n",
    "\n",
    "# Let's find the k-neighbors of each point in object X. To do that we call the kneighbors() function on object X.\n",
    "distances, indices = neighbor.kneighbors(dfReviews_train)"
   ]
  },
  {
   "cell_type": "code",
   "execution_count": 58,
   "metadata": {
    "scrolled": true
   },
   "outputs": [
    {
     "name": "stdout",
     "output_type": "stream",
     "text": [
      "Based on product reviews, for  B000GY729M  average rating is  3.803030303030303\n",
      "The first similar product is  B0007TX894  average rating is  4.673076923076923\n",
      "The second similar product is  B000EU1KRS  average rating is  4.431034482758621\n",
      "-----------------------------------------------------------------------------------------\n",
      "Based on product reviews, for  B000H0MKGK  average rating is  4.2835820895522385\n",
      "The first similar product is  B000069HKH  average rating is  4.329411764705882\n",
      "The second similar product is  B00006M183  average rating is  3.9152542372881354\n",
      "-----------------------------------------------------------------------------------------\n",
      "Based on product reviews, for  B000H7JDVI  average rating is  4.290909090909091\n",
      "The first similar product is  B000001EG2  average rating is  4.5576923076923075\n",
      "The second similar product is  B000001EGE  average rating is  4.592592592592593\n",
      "-----------------------------------------------------------------------------------------\n",
      "Based on product reviews, for  B000IY04RC  average rating is  3.8833333333333333\n",
      "The first similar product is  B00006BTC7  average rating is  4.373493975903615\n",
      "The second similar product is  B00005M987  average rating is  3.8904109589041096\n",
      "-----------------------------------------------------------------------------------------\n",
      "Based on product reviews, for  B000JVSZIY  average rating is  4.446428571428571\n",
      "The first similar product is  B00000ADG2  average rating is  4.647058823529412\n",
      "The second similar product is  B000003B7W  average rating is  4.666666666666667\n",
      "-----------------------------------------------------------------------------------------\n",
      "Based on product reviews, for  B000KCHZK6  average rating is  3.5\n",
      "The first similar product is  B000FPYNQW  average rating is  3.912280701754386\n",
      "The second similar product is  B0000AKOMI  average rating is  3.8805970149253732\n",
      "-----------------------------------------------------------------------------------------\n",
      "Based on product reviews, for  B000MTPAGI  average rating is  3.66\n",
      "The first similar product is  B0002U6GFQ  average rating is  3.6153846153846154\n",
      "The second similar product is  B00007KK7V  average rating is  3.9411764705882355\n",
      "-----------------------------------------------------------------------------------------\n",
      "Based on product reviews, for  B000N2G3RY  average rating is  4.363636363636363\n",
      "The first similar product is  B000EU1KRS  average rating is  4.431034482758621\n",
      "The second similar product is  B00006ZCFH  average rating is  3.9726027397260273\n",
      "-----------------------------------------------------------------------------------------\n",
      "Based on product reviews, for  B000NVIXFK  average rating is  4.222222222222222\n",
      "The first similar product is  B000002IOW  average rating is  3.9310344827586206\n",
      "The second similar product is  B000002IWQ  average rating is  4.030769230769231\n",
      "-----------------------------------------------------------------------------------------\n",
      "Based on product reviews, for  B000OQF6N6  average rating is  3.4038461538461537\n",
      "The first similar product is  B00006M183  average rating is  3.9152542372881354\n",
      "The second similar product is  B000AOENCM  average rating is  3.9\n",
      "-----------------------------------------------------------------------------------------\n",
      "Based on product reviews, for  B000OYC3J8  average rating is  3.9649122807017543\n",
      "The first similar product is  B00005K9KP  average rating is  3.8552631578947367\n",
      "The second similar product is  B0007TX894  average rating is  4.673076923076923\n",
      "-----------------------------------------------------------------------------------------\n",
      "Based on product reviews, for  B000QUCPUC  average rating is  3.0784313725490198\n",
      "The first similar product is  B000EU1KRS  average rating is  4.431034482758621\n",
      "The second similar product is  B00007KK7V  average rating is  3.9411764705882355\n",
      "-----------------------------------------------------------------------------------------\n",
      "Based on product reviews, for  B000UMQDHC  average rating is  4.085714285714285\n",
      "The first similar product is  B000EU1KRS  average rating is  4.431034482758621\n",
      "The second similar product is  B0007TX894  average rating is  4.673076923076923\n",
      "-----------------------------------------------------------------------------------------\n",
      "Based on product reviews, for  B0012OVF2U  average rating is  4.153846153846154\n",
      "The first similar product is  B00006JO3X  average rating is  4.245283018867925\n",
      "The second similar product is  B000002BE9  average rating is  4.451612903225806\n",
      "-----------------------------------------------------------------------------------------\n",
      "Based on product reviews, for  B00192M9FC  average rating is  3.7735849056603774\n",
      "The first similar product is  B0000BWVLM  average rating is  3.9508196721311477\n",
      "The second similar product is  B000EU1KRS  average rating is  4.431034482758621\n",
      "-----------------------------------------------------------------------------------------\n",
      "Based on product reviews, for  B0029LHW4U  average rating is  4.25\n",
      "The first similar product is  B000EU1KRS  average rating is  4.431034482758621\n",
      "The second similar product is  B0007TX894  average rating is  4.673076923076923\n",
      "-----------------------------------------------------------------------------------------\n",
      "Based on product reviews, for  B002DSM8UC  average rating is  3.6607142857142856\n",
      "The first similar product is  B00006M183  average rating is  3.9152542372881354\n",
      "The second similar product is  B000EU1KRS  average rating is  4.431034482758621\n",
      "-----------------------------------------------------------------------------------------\n",
      "Based on product reviews, for  B002GZQYMA  average rating is  3.8846153846153846\n",
      "The first similar product is  B00004X0Q0  average rating is  4.490196078431373\n",
      "The second similar product is  B0007TX894  average rating is  4.673076923076923\n",
      "-----------------------------------------------------------------------------------------\n",
      "Based on product reviews, for  B003KUSUG8  average rating is  4.339622641509434\n",
      "The first similar product is  B00007KK7V  average rating is  3.9411764705882355\n",
      "The second similar product is  B00006M183  average rating is  3.9152542372881354\n",
      "-----------------------------------------------------------------------------------------\n",
      "Based on product reviews, for  B003V5PPZG  average rating is  3.38\n",
      "The first similar product is  B0007TX894  average rating is  4.673076923076923\n",
      "The second similar product is  B00000JC6C  average rating is  4.579710144927536\n",
      "-----------------------------------------------------------------------------------------\n",
      "Based on product reviews, for  B003WTE886  average rating is  4.2407407407407405\n",
      "The first similar product is  B000EU1KRS  average rating is  4.431034482758621\n",
      "The second similar product is  B00007KK7V  average rating is  3.9411764705882355\n",
      "-----------------------------------------------------------------------------------------\n",
      "Based on product reviews, for  B004D1GZ2E  average rating is  4.511363636363637\n",
      "The first similar product is  B00006M183  average rating is  3.9152542372881354\n",
      "The second similar product is  B000EU1KRS  average rating is  4.431034482758621\n",
      "-----------------------------------------------------------------------------------------\n",
      "Based on product reviews, for  B004K4AUZW  average rating is  3.774774774774775\n",
      "The first similar product is  B00000DFRS  average rating is  4.18\n",
      "The second similar product is  B0000AKOMI  average rating is  3.8805970149253732\n",
      "-----------------------------------------------------------------------------------------\n",
      "Based on product reviews, for  B004NSULHM  average rating is  3.546875\n",
      "The first similar product is  B00004X0Q0  average rating is  4.490196078431373\n",
      "The second similar product is  B000FPYNQW  average rating is  3.912280701754386\n",
      "-----------------------------------------------------------------------------------------\n",
      "Based on product reviews, for  B005QJZ5FA  average rating is  4.174603174603175\n",
      "The first similar product is  B000AOENCM  average rating is  3.9\n",
      "The second similar product is  B000EU1KRS  average rating is  4.431034482758621\n",
      "-----------------------------------------------------------------------------------------\n"
     ]
    }
   ],
   "source": [
    "# Find most related products\n",
    "for i in range(lentest):\n",
    "    a = neighbor.kneighbors([dfReviews_test[i]])\n",
    "    related_product_list = a[1]\n",
    "\n",
    "    first_related_product = [item[0] for item in related_product_list]\n",
    "    first_related_product = str(first_related_product).strip('[]')\n",
    "    first_related_product = int(first_related_product)\n",
    "    second_related_product = [item[1] for item in related_product_list]\n",
    "    second_related_product = str(second_related_product).strip('[]')\n",
    "    second_related_product = int(second_related_product)\n",
    "    \n",
    "    print (\"Based on product reviews, for \", df3[\"asin\"][lentrain + i] ,\" average rating is \",df3[\"overall\"][lentrain + i])\n",
    "    print (\"The first similar product is \", df3[\"asin\"][first_related_product] ,\" average rating is \",df3[\"overall\"][first_related_product])\n",
    "    print (\"The second similar product is \", df3[\"asin\"][second_related_product] ,\" average rating is \",df3[\"overall\"][second_related_product])\n",
    "    print (\"-----------------------------------------------------------------------------------------\")"
   ]
  },
  {
   "cell_type": "code",
   "execution_count": 59,
   "metadata": {},
   "outputs": [
    {
     "name": "stdout",
     "output_type": "stream",
     "text": [
      "             precision    recall  f1-score   support\n",
      "\n",
      "          3       0.64      0.54      0.58        13\n",
      "          4       0.57      0.67      0.62        12\n",
      "\n",
      "avg / total       0.61      0.60      0.60        25\n",
      "\n"
     ]
    }
   ],
   "source": [
    "# Using 3 Neighbours\n",
    "df5_train_target = df3[\"overall\"][:lentrain]\n",
    "df5_test_target = df3[\"overall\"][lentrain:lentrain+lentest]\n",
    "df5_train_target = df5_train_target.astype(int)\n",
    "df5_test_target = df5_test_target.astype(int)\n",
    "\n",
    "n_neighbors = 3\n",
    "knnclf = neighbors.KNeighborsClassifier(n_neighbors, weights='distance')\n",
    "knnclf.fit(dfReviews_train, df5_train_target)\n",
    "knnpreds_test = knnclf.predict(dfReviews_test)\n",
    "\n",
    "print(classification_report(df5_test_target, knnpreds_test))"
   ]
  },
  {
   "cell_type": "code",
   "execution_count": 60,
   "metadata": {},
   "outputs": [
    {
     "name": "stdout",
     "output_type": "stream",
     "text": [
      "0.6\n"
     ]
    }
   ],
   "source": [
    "print (accuracy_score(df5_test_target, knnpreds_test))"
   ]
  },
  {
   "cell_type": "code",
   "execution_count": 61,
   "metadata": {},
   "outputs": [
    {
     "name": "stdout",
     "output_type": "stream",
     "text": [
      "0.4\n"
     ]
    }
   ],
   "source": [
    "print(mean_squared_error(df5_test_target, knnpreds_test))"
   ]
  },
  {
   "cell_type": "code",
   "execution_count": 62,
   "metadata": {},
   "outputs": [
    {
     "name": "stdout",
     "output_type": "stream",
     "text": [
      "             precision    recall  f1-score   support\n",
      "\n",
      "          3       0.55      0.46      0.50        13\n",
      "          4       0.50      0.58      0.54        12\n",
      "\n",
      "avg / total       0.52      0.52      0.52        25\n",
      "\n"
     ]
    }
   ],
   "source": [
    "# Using 5 Neighbours\n",
    "df5_train_target = df3[\"overall\"][:lentrain]\n",
    "df5_test_target = df3[\"overall\"][lentrain:lentrain+lentest]\n",
    "df5_train_target = df5_train_target.astype(int)\n",
    "df5_test_target = df5_test_target.astype(int)\n",
    "\n",
    "n_neighbors = 5\n",
    "knnclf = neighbors.KNeighborsClassifier(n_neighbors, weights='distance')\n",
    "knnclf.fit(dfReviews_train, df5_train_target)\n",
    "knnpreds_test = knnclf.predict(dfReviews_test)\n",
    "#print (knnpreds_test)\n",
    "\n",
    "print(classification_report(df5_test_target, knnpreds_test))"
   ]
  },
  {
   "cell_type": "code",
   "execution_count": 63,
   "metadata": {},
   "outputs": [
    {
     "name": "stdout",
     "output_type": "stream",
     "text": [
      "0.52\n"
     ]
    }
   ],
   "source": [
    "print (accuracy_score(df5_test_target, knnpreds_test))"
   ]
  },
  {
   "cell_type": "code",
   "execution_count": 64,
   "metadata": {},
   "outputs": [
    {
     "name": "stdout",
     "output_type": "stream",
     "text": [
      "0.48\n"
     ]
    }
   ],
   "source": [
    "print(mean_squared_error(df5_test_target, knnpreds_test))"
   ]
  },
  {
   "cell_type": "code",
   "execution_count": 65,
   "metadata": {},
   "outputs": [],
   "source": [
    "# test percent changed\n",
    "# First let's create a dataset called X\n",
    "X = np.array(dfReviews)\n",
    " # create train and test\n",
    "tpercent = 0.85\n",
    "tsize = int(np.floor(tpercent * len(dfReviews)))\n",
    "dfReviews_train = X[:tsize]\n",
    "dfReviews_test = X[tsize:]\n",
    "#len of train and test\n",
    "lentrain = len(dfReviews_train)\n",
    "lentest = len(dfReviews_test)"
   ]
  },
  {
   "cell_type": "code",
   "execution_count": 66,
   "metadata": {},
   "outputs": [],
   "source": [
    "# Next we will instantiate a nearest neighbor object, and call it nbrs. Then we will fit it to dataset X.\n",
    "neighbor = NearestNeighbors(n_neighbors=3, algorithm='ball_tree').fit(dfReviews_train)\n",
    "\n",
    "# Let's find the k-neighbors of each point in object X. To do that we call the kneighbors() function on object X.\n",
    "distances, indices = neighbor.kneighbors(dfReviews_train)"
   ]
  },
  {
   "cell_type": "code",
   "execution_count": 67,
   "metadata": {},
   "outputs": [
    {
     "name": "stdout",
     "output_type": "stream",
     "text": [
      "Based on product reviews, for  B000BLI4UG  average rating is  4.044117647058823\n",
      "The first similar product is  B00006M183  average rating is  3.9152542372881354\n",
      "The second similar product is  B00004WIZA  average rating is  4.107142857142857\n",
      "-----------------------------------------------------------------------------\n",
      "Based on product reviews, for  B000BM6AVA  average rating is  4.098039215686274\n",
      "The first similar product is  B00007KK7V  average rating is  3.9411764705882355\n",
      "The second similar product is  B00004X0Q0  average rating is  4.490196078431373\n",
      "-----------------------------------------------------------------------------\n",
      "Based on product reviews, for  B000BNTM32  average rating is  4.456521739130435\n",
      "The first similar product is  B00000DFRS  average rating is  4.18\n",
      "The second similar product is  B00006M183  average rating is  3.9152542372881354\n",
      "-----------------------------------------------------------------------------\n",
      "Based on product reviews, for  B000BOH8XW  average rating is  3.5901639344262297\n",
      "The first similar product is  B00009VRDI  average rating is  2.72972972972973\n",
      "The second similar product is  B0000AKOMI  average rating is  3.8805970149253732\n",
      "-----------------------------------------------------------------------------\n",
      "Based on product reviews, for  B000BTDMDC  average rating is  3.6470588235294117\n",
      "The first similar product is  B00004X0Q0  average rating is  4.490196078431373\n",
      "The second similar product is  B00006ZCFH  average rating is  3.9726027397260273\n",
      "-----------------------------------------------------------------------------\n",
      "Based on product reviews, for  B000E0OEQC  average rating is  4.472727272727273\n",
      "The first similar product is  B00006ZCFH  average rating is  3.9726027397260273\n",
      "The second similar product is  B000089CJI  average rating is  4.014285714285714\n",
      "-----------------------------------------------------------------------------\n",
      "Based on product reviews, for  B000E97HB2  average rating is  4.6415094339622645\n",
      "The first similar product is  B00004WIZA  average rating is  4.107142857142857\n",
      "The second similar product is  B000002G7G  average rating is  4.7407407407407405\n",
      "-----------------------------------------------------------------------------\n",
      "Based on product reviews, for  B000EMGAOY  average rating is  4.263736263736264\n",
      "The first similar product is  B0007TX894  average rating is  4.673076923076923\n",
      "The second similar product is  B000069HKH  average rating is  4.329411764705882\n",
      "-----------------------------------------------------------------------------\n",
      "Based on product reviews, for  B000EU1KRS  average rating is  4.431034482758621\n",
      "The first similar product is  B0007TX894  average rating is  4.673076923076923\n",
      "The second similar product is  B00007KK7V  average rating is  3.9411764705882355\n",
      "-----------------------------------------------------------------------------\n",
      "Based on product reviews, for  B000FII324  average rating is  4.128205128205129\n",
      "The first similar product is  B0000DFZZA  average rating is  4.3125\n",
      "The second similar product is  B00004Z41Q  average rating is  4.0375\n",
      "-----------------------------------------------------------------------------\n",
      "Based on product reviews, for  B000FPYNQW  average rating is  3.912280701754386\n",
      "The first similar product is  B00007KK7V  average rating is  3.9411764705882355\n",
      "The second similar product is  B00004X0Q0  average rating is  4.490196078431373\n",
      "-----------------------------------------------------------------------------\n",
      "Based on product reviews, for  B000FVQYYK  average rating is  4.235294117647059\n",
      "The first similar product is  B00007KK7V  average rating is  3.9411764705882355\n",
      "The second similar product is  B00006M183  average rating is  3.9152542372881354\n",
      "-----------------------------------------------------------------------------\n",
      "Based on product reviews, for  B000GY729M  average rating is  3.803030303030303\n",
      "The first similar product is  B0007TX894  average rating is  4.673076923076923\n",
      "The second similar product is  B000002H72  average rating is  4.850746268656716\n",
      "-----------------------------------------------------------------------------\n",
      "Based on product reviews, for  B000H0MKGK  average rating is  4.2835820895522385\n",
      "The first similar product is  B000069HKH  average rating is  4.329411764705882\n",
      "The second similar product is  B00006M183  average rating is  3.9152542372881354\n",
      "-----------------------------------------------------------------------------\n",
      "Based on product reviews, for  B000H7JDVI  average rating is  4.290909090909091\n",
      "The first similar product is  B000001EG2  average rating is  4.5576923076923075\n",
      "The second similar product is  B000001EGE  average rating is  4.592592592592593\n",
      "-----------------------------------------------------------------------------\n",
      "Based on product reviews, for  B000IY04RC  average rating is  3.8833333333333333\n",
      "The first similar product is  B00006BTC7  average rating is  4.373493975903615\n",
      "The second similar product is  B00005M987  average rating is  3.8904109589041096\n",
      "-----------------------------------------------------------------------------\n",
      "Based on product reviews, for  B000JVSZIY  average rating is  4.446428571428571\n",
      "The first similar product is  B00000ADG2  average rating is  4.647058823529412\n",
      "The second similar product is  B000003B7W  average rating is  4.666666666666667\n",
      "-----------------------------------------------------------------------------\n",
      "Based on product reviews, for  B000KCHZK6  average rating is  3.5\n",
      "The first similar product is  B0000AKOMI  average rating is  3.8805970149253732\n",
      "The second similar product is  B00000JC6C  average rating is  4.579710144927536\n",
      "-----------------------------------------------------------------------------\n",
      "Based on product reviews, for  B000MTPAGI  average rating is  3.66\n",
      "The first similar product is  B0002U6GFQ  average rating is  3.6153846153846154\n",
      "The second similar product is  B00007KK7V  average rating is  3.9411764705882355\n",
      "-----------------------------------------------------------------------------\n",
      "Based on product reviews, for  B000N2G3RY  average rating is  4.363636363636363\n",
      "The first similar product is  B00006ZCFH  average rating is  3.9726027397260273\n",
      "The second similar product is  B0000029DD  average rating is  4.520408163265306\n",
      "-----------------------------------------------------------------------------\n",
      "Based on product reviews, for  B000NVIXFK  average rating is  4.222222222222222\n",
      "The first similar product is  B000002IOW  average rating is  3.9310344827586206\n",
      "The second similar product is  B000002IWQ  average rating is  4.030769230769231\n",
      "-----------------------------------------------------------------------------\n",
      "Based on product reviews, for  B000OQF6N6  average rating is  3.4038461538461537\n",
      "The first similar product is  B00006M183  average rating is  3.9152542372881354\n",
      "The second similar product is  B000AOENCM  average rating is  3.9\n",
      "-----------------------------------------------------------------------------\n",
      "Based on product reviews, for  B000OYC3J8  average rating is  3.9649122807017543\n",
      "The first similar product is  B00005K9KP  average rating is  3.8552631578947367\n",
      "The second similar product is  B0007TX894  average rating is  4.673076923076923\n",
      "-----------------------------------------------------------------------------\n",
      "Based on product reviews, for  B000QUCPUC  average rating is  3.0784313725490198\n",
      "The first similar product is  B00007KK7V  average rating is  3.9411764705882355\n",
      "The second similar product is  B000075A20  average rating is  3.5384615384615383\n",
      "-----------------------------------------------------------------------------\n",
      "Based on product reviews, for  B000UMQDHC  average rating is  4.085714285714285\n",
      "The first similar product is  B0007TX894  average rating is  4.673076923076923\n",
      "The second similar product is  B000AOENCM  average rating is  3.9\n",
      "-----------------------------------------------------------------------------\n",
      "Based on product reviews, for  B0012OVF2U  average rating is  4.153846153846154\n",
      "The first similar product is  B00006JO3X  average rating is  4.245283018867925\n",
      "The second similar product is  B000002BE9  average rating is  4.451612903225806\n",
      "-----------------------------------------------------------------------------\n",
      "Based on product reviews, for  B00192M9FC  average rating is  3.7735849056603774\n",
      "The first similar product is  B0000BWVLM  average rating is  3.9508196721311477\n",
      "The second similar product is  B000AA303Y  average rating is  3.68\n",
      "-----------------------------------------------------------------------------\n",
      "Based on product reviews, for  B0029LHW4U  average rating is  4.25\n",
      "The first similar product is  B0007TX894  average rating is  4.673076923076923\n",
      "The second similar product is  B00006M183  average rating is  3.9152542372881354\n",
      "-----------------------------------------------------------------------------\n",
      "Based on product reviews, for  B002DSM8UC  average rating is  3.6607142857142856\n",
      "The first similar product is  B00006M183  average rating is  3.9152542372881354\n",
      "The second similar product is  B000002G7G  average rating is  4.7407407407407405\n",
      "-----------------------------------------------------------------------------\n",
      "Based on product reviews, for  B002GZQYMA  average rating is  3.8846153846153846\n",
      "The first similar product is  B00004X0Q0  average rating is  4.490196078431373\n",
      "The second similar product is  B0007TX894  average rating is  4.673076923076923\n",
      "-----------------------------------------------------------------------------\n",
      "Based on product reviews, for  B003KUSUG8  average rating is  4.339622641509434\n",
      "The first similar product is  B00007KK7V  average rating is  3.9411764705882355\n",
      "The second similar product is  B00006M183  average rating is  3.9152542372881354\n",
      "-----------------------------------------------------------------------------\n",
      "Based on product reviews, for  B003V5PPZG  average rating is  3.38\n",
      "The first similar product is  B0007TX894  average rating is  4.673076923076923\n",
      "The second similar product is  B00000JC6C  average rating is  4.579710144927536\n",
      "-----------------------------------------------------------------------------\n",
      "Based on product reviews, for  B003WTE886  average rating is  4.2407407407407405\n",
      "The first similar product is  B00007KK7V  average rating is  3.9411764705882355\n",
      "The second similar product is  B00009V7T2  average rating is  4.422535211267606\n",
      "-----------------------------------------------------------------------------\n",
      "Based on product reviews, for  B004D1GZ2E  average rating is  4.511363636363637\n",
      "The first similar product is  B00006M183  average rating is  3.9152542372881354\n",
      "The second similar product is  B000AOENCM  average rating is  3.9\n",
      "-----------------------------------------------------------------------------\n",
      "Based on product reviews, for  B004K4AUZW  average rating is  3.774774774774775\n",
      "The first similar product is  B00000DFRS  average rating is  4.18\n",
      "The second similar product is  B0000AKOMI  average rating is  3.8805970149253732\n",
      "-----------------------------------------------------------------------------\n",
      "Based on product reviews, for  B004NSULHM  average rating is  3.546875\n",
      "The first similar product is  B00004X0Q0  average rating is  4.490196078431373\n",
      "The second similar product is  B00007KK7V  average rating is  3.9411764705882355\n",
      "-----------------------------------------------------------------------------\n",
      "Based on product reviews, for  B005QJZ5FA  average rating is  4.174603174603175\n",
      "The first similar product is  B000AOENCM  average rating is  3.9\n",
      "The second similar product is  B000002BE9  average rating is  4.451612903225806\n",
      "-----------------------------------------------------------------------------\n"
     ]
    }
   ],
   "source": [
    "#find most related products\n",
    "for i in range(lentest):\n",
    "    a = neighbor.kneighbors([dfReviews_test[i]])\n",
    "    related_product_list = a[1]\n",
    "\n",
    "    first_related_product = [item[0] for item in related_product_list]\n",
    "    first_related_product = str(first_related_product).strip('[]')\n",
    "    first_related_product = int(first_related_product)\n",
    "    second_related_product = [item[1] for item in related_product_list]\n",
    "    second_related_product = str(second_related_product).strip('[]')\n",
    "    second_related_product = int(second_related_product)\n",
    "    \n",
    "    print (\"Based on product reviews, for \", df3[\"asin\"][lentrain + i] ,\" average rating is \",df3[\"overall\"][lentrain + i])\n",
    "    print (\"The first similar product is \", df3[\"asin\"][first_related_product] ,\" average rating is \",df3[\"overall\"][first_related_product])\n",
    "    print (\"The second similar product is \", df3[\"asin\"][second_related_product] ,\" average rating is \",df3[\"overall\"][second_related_product])\n",
    "    print (\"-----------------------------------------------------------------------------\")"
   ]
  },
  {
   "cell_type": "code",
   "execution_count": 68,
   "metadata": {},
   "outputs": [
    {
     "name": "stdout",
     "output_type": "stream",
     "text": [
      "             precision    recall  f1-score   support\n",
      "\n",
      "          3       0.45      0.62      0.53        16\n",
      "          4       0.60      0.43      0.50        21\n",
      "\n",
      "avg / total       0.54      0.51      0.51        37\n",
      "\n"
     ]
    }
   ],
   "source": [
    "df5_train_target = df3[\"overall\"][:lentrain]\n",
    "df5_test_target = df3[\"overall\"][lentrain:lentrain+lentest]\n",
    "df5_train_target = df5_train_target.astype(int)\n",
    "df5_test_target = df5_test_target.astype(int)\n",
    "\n",
    "n_neighbors = 5\n",
    "knnclf = neighbors.KNeighborsClassifier(n_neighbors, weights='distance')\n",
    "knnclf.fit(dfReviews_train, df5_train_target)\n",
    "knnpreds_test = knnclf.predict(dfReviews_test)\n",
    "#print (knnpreds_test)\n",
    "\n",
    "print(classification_report(df5_test_target, knnpreds_test))"
   ]
  },
  {
   "cell_type": "code",
   "execution_count": 69,
   "metadata": {},
   "outputs": [
    {
     "name": "stdout",
     "output_type": "stream",
     "text": [
      "0.5135135135135135\n"
     ]
    }
   ],
   "source": [
    "print (accuracy_score(df5_test_target, knnpreds_test))"
   ]
  },
  {
   "cell_type": "code",
   "execution_count": 70,
   "metadata": {},
   "outputs": [
    {
     "name": "stdout",
     "output_type": "stream",
     "text": [
      "0.4864864864864865\n"
     ]
    }
   ],
   "source": [
    "print(mean_squared_error(df5_test_target, knnpreds_test))"
   ]
  },
  {
   "cell_type": "code",
   "execution_count": 71,
   "metadata": {},
   "outputs": [],
   "source": [
    "# Algorithm brute\n",
    "neighbor = NearestNeighbors(n_neighbors=3, algorithm='brute').fit(dfReviews_train)\n",
    "\n",
    "distances, indices = neighbor.kneighbors(dfReviews_train)"
   ]
  },
  {
   "cell_type": "code",
   "execution_count": 72,
   "metadata": {},
   "outputs": [
    {
     "name": "stdout",
     "output_type": "stream",
     "text": [
      "             precision    recall  f1-score   support\n",
      "\n",
      "          3       0.48      0.62      0.54        16\n",
      "          4       0.62      0.48      0.54        21\n",
      "\n",
      "avg / total       0.56      0.54      0.54        37\n",
      "\n",
      "Accuracy:  0.5405405405405406\n",
      "MSE:  0.4594594594594595\n"
     ]
    }
   ],
   "source": [
    "# Using 3 Neighbours\n",
    "df5_train_target = df3[\"overall\"][:lentrain]\n",
    "df5_test_target = df3[\"overall\"][lentrain:lentrain+lentest]\n",
    "df5_train_target = df5_train_target.astype(int)\n",
    "df5_test_target = df5_test_target.astype(int)\n",
    "n_neighbors = 3\n",
    "knnclf = neighbors.KNeighborsClassifier(n_neighbors, weights='distance')\n",
    "knnclf.fit(dfReviews_train, df5_train_target)\n",
    "knnpreds_test = knnclf.predict(dfReviews_test)\n",
    "\n",
    "print(classification_report(df5_test_target, knnpreds_test))\n",
    "print (\"Accuracy: \",accuracy_score(df5_test_target, knnpreds_test))\n",
    "print(\"MSE: \",mean_squared_error(df5_test_target, knnpreds_test))"
   ]
  },
  {
   "cell_type": "code",
   "execution_count": 73,
   "metadata": {},
   "outputs": [],
   "source": [
    "neighbor = NearestNeighbors(n_neighbors=5, algorithm='kd_tree').fit(dfReviews_train)\n",
    "distances, indices = neighbor.kneighbors(dfReviews_train)"
   ]
  },
  {
   "cell_type": "code",
   "execution_count": 74,
   "metadata": {},
   "outputs": [
    {
     "name": "stdout",
     "output_type": "stream",
     "text": [
      "             precision    recall  f1-score   support\n",
      "\n",
      "          3       0.45      0.62      0.53        16\n",
      "          4       0.60      0.43      0.50        21\n",
      "\n",
      "avg / total       0.54      0.51      0.51        37\n",
      "\n",
      "Accuracy:  0.5135135135135135\n",
      "MSE:  0.4864864864864865\n"
     ]
    }
   ],
   "source": [
    "# Using 5 Neighbours\n",
    "df5_train_target = df3[\"overall\"][:lentrain]\n",
    "df5_test_target = df3[\"overall\"][lentrain:lentrain+lentest]\n",
    "df5_train_target = df5_train_target.astype(int)\n",
    "df5_test_target = df5_test_target.astype(int)\n",
    "n_neighbors = 5\n",
    "knnclf = neighbors.KNeighborsClassifier(n_neighbors, weights='distance')\n",
    "knnclf.fit(dfReviews_train, df5_train_target)\n",
    "knnpreds_test = knnclf.predict(dfReviews_test)\n",
    "\n",
    "print(classification_report(df5_test_target, knnpreds_test))\n",
    "print (\"Accuracy: \",accuracy_score(df5_test_target, knnpreds_test))\n",
    "print(\"MSE: \",mean_squared_error(df5_test_target, knnpreds_test))"
   ]
  },
  {
   "cell_type": "markdown",
   "metadata": {},
   "source": [
    "## Wordcloud"
   ]
  },
  {
   "cell_type": "code",
   "execution_count": 75,
   "metadata": {},
   "outputs": [],
   "source": [
    "# Creating cluster for wordcloud\n",
    "cluster = reviews_music_df.groupby(\"overall\")[\"summary\"].apply(list)\n",
    "cluster = pd.DataFrame(cluster)\n",
    "cluster.to_csv(\"data/cluster.csv\")\n",
    "cluster1 = pd.read_csv(\"data/cluster.csv\")\n",
    "cluster1[\"summaryClean\"] = cluster1[\"summary\"].apply(cleanReviews)"
   ]
  },
  {
   "cell_type": "code",
   "execution_count": 76,
   "metadata": {},
   "outputs": [],
   "source": [
    "stopwords = set(STOPWORDS)\n",
    "\n",
    "def show_wordcloud(data, title = None):\n",
    "    wordcloud = WordCloud(\n",
    "        background_color='white',\n",
    "        stopwords=stopwords,\n",
    "        random_state=1 # chosen at random by flipping a coin; it was heads\n",
    "    ).generate(str(data))\n",
    "    \n",
    "    fig = plt.figure(1, figsize=(8, 8))\n",
    "    plt.axis('off')\n",
    "    if title: \n",
    "        fig.suptitle(title, fontsize=20)\n",
    "        fig.subplots_adjust(top=2.3)\n",
    "\n",
    "    plt.imshow(wordcloud)\n",
    "    plt.show()"
   ]
  },
  {
   "cell_type": "code",
   "execution_count": 77,
   "metadata": {},
   "outputs": [
    {
     "data": {
      "image/png": "[encoded data removed]",
      "text/plain": [
       "<Figure size 576x576 with 1 Axes>"
      ]
     },
     "metadata": {},
     "output_type": "display_data"
    }
   ],
   "source": [
    "show_wordcloud(cluster1[\"summaryClean\"][0], title = \"Review Score One\")"
   ]
  },
  {
   "cell_type": "code",
   "execution_count": 78,
   "metadata": {},
   "outputs": [
    {
     "data": {
      "image/png": "[encoded data removed]",
      "text/plain": [
       "<Figure size 576x576 with 1 Axes>"
      ]
     },
     "metadata": {},
     "output_type": "display_data"
    }
   ],
   "source": [
    "show_wordcloud(cluster1[\"summaryClean\"][1] , title = \"Review Score Two\")"
   ]
  },
  {
   "cell_type": "code",
   "execution_count": 79,
   "metadata": {},
   "outputs": [
    {
     "data": {
      "image/png": "[encoded data removed]",
      "text/plain": [
       "<Figure size 576x576 with 1 Axes>"
      ]
     },
     "metadata": {},
     "output_type": "display_data"
    }
   ],
   "source": [
    "show_wordcloud(cluster1[\"summaryClean\"][2], title = \"Review Score Three\")"
   ]
  },
  {
   "cell_type": "code",
   "execution_count": 80,
   "metadata": {},
   "outputs": [
    {
     "data": {
      "image/png": "[encoded data removed]",
      "text/plain": [
       "<Figure size 576x576 with 1 Axes>"
      ]
     },
     "metadata": {},
     "output_type": "display_data"
    }
   ],
   "source": [
    "show_wordcloud(cluster1[\"summaryClean\"][3], title = \"Review Score Four\")"
   ]
  },
  {
   "cell_type": "code",
   "execution_count": 81,
   "metadata": {},
   "outputs": [
    {
     "data": {
      "image/png": "[encoded data removed]",
      "text/plain": [
       "<Figure size 576x576 with 1 Axes>"
      ]
     },
     "metadata": {},
     "output_type": "display_data"
    }
   ],
   "source": [
    "show_wordcloud(cluster1[\"summaryClean\"][4], title = \"Review Score Five\")"
   ]
  },
  {
   "cell_type": "code",
   "execution_count": null,
   "metadata": {},
   "outputs": [],
   "source": []
  }
 ],
 "metadata": {
  "kernelspec": {
   "display_name": "Python 3",
   "language": "python",
   "name": "python3"
  },
  "language_info": {
   "codemirror_mode": {
    "name": "ipython",
    "version": 3
   },
   "file_extension": ".py",
   "mimetype": "text/x-python",
   "name": "python",
   "nbconvert_exporter": "python",
   "pygments_lexer": "ipython3",
   "version": "3.6.5"
  }
 },
 "nbformat": 4,
 "nbformat_minor": 2
}
