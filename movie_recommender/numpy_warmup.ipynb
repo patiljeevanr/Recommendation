{
 "cells": [
  {
   "cell_type": "code",
   "execution_count": 1,
   "metadata": {},
   "outputs": [],
   "source": [
    "from numpy import *"
   ]
  },
  {
   "cell_type": "code",
   "execution_count": 2,
   "metadata": {},
   "outputs": [
    {
     "name": "stdout",
     "output_type": "stream",
     "text": [
      "[[1 2 3]\n",
      " [1 2 3]]\n"
     ]
    }
   ],
   "source": [
    "data = array([[1,2,3],[1,2,3]])\n",
    "print(data)"
   ]
  },
  {
   "cell_type": "code",
   "execution_count": 3,
   "metadata": {},
   "outputs": [
    {
     "data": {
      "text/plain": [
       "(2, 3)"
      ]
     },
     "execution_count": 3,
     "metadata": {},
     "output_type": "execute_result"
    }
   ],
   "source": [
    "data.shape"
   ]
  },
  {
   "cell_type": "code",
   "execution_count": 4,
   "metadata": {},
   "outputs": [
    {
     "name": "stdout",
     "output_type": "stream",
     "text": [
      "[[0. 0.]]\n"
     ]
    }
   ],
   "source": [
    "zeros_matrix = zeros((1,2))\n",
    "print(zeros_matrix)"
   ]
  },
  {
   "cell_type": "code",
   "execution_count": 5,
   "metadata": {},
   "outputs": [
    {
     "name": "stdout",
     "output_type": "stream",
     "text": [
      "[[1. 1.]]\n"
     ]
    }
   ],
   "source": [
    "ones_matrix = ones((1,2))\n",
    "print(ones_matrix)"
   ]
  },
  {
   "cell_type": "code",
   "execution_count": 6,
   "metadata": {},
   "outputs": [
    {
     "name": "stdout",
     "output_type": "stream",
     "text": [
      "[[9 1 4 0 0]\n",
      " [8 7 8 5 7]\n",
      " [2 7 6 2 6]\n",
      " [0 3 7 9 6]\n",
      " [3 4 0 9 8]\n",
      " [7 2 0 2 4]\n",
      " [0 2 8 9 5]\n",
      " [2 4 5 6 2]\n",
      " [9 4 1 5 8]\n",
      " [9 9 1 5 8]]\n"
     ]
    }
   ],
   "source": [
    "rand_matrix = random.randint(10, size = (10,5))\n",
    "print(rand_matrix)"
   ]
  },
  {
   "cell_type": "code",
   "execution_count": 11,
   "metadata": {},
   "outputs": [
    {
     "name": "stdout",
     "output_type": "stream",
     "text": [
      "[[5]\n",
      " [7]\n",
      " [2]\n",
      " [0]\n",
      " [4]\n",
      " [4]\n",
      " [1]\n",
      " [2]\n",
      " [0]\n",
      " [4]]\n"
     ]
    }
   ],
   "source": [
    "col_vector = random.randint(10, size = (10,1))\n",
    "print(col_vector)"
   ]
  },
  {
   "cell_type": "code",
   "execution_count": 8,
   "metadata": {},
   "outputs": [
    {
     "data": {
      "text/plain": [
       "array([3])"
      ]
     },
     "execution_count": 8,
     "metadata": {},
     "output_type": "execute_result"
    }
   ],
   "source": [
    "col_vector[0]"
   ]
  },
  {
   "cell_type": "code",
   "execution_count": 9,
   "metadata": {},
   "outputs": [
    {
     "name": "stdout",
     "output_type": "stream",
     "text": [
      "[3]\n"
     ]
    }
   ],
   "source": [
    "print(col_vector[0])"
   ]
  },
  {
   "cell_type": "code",
   "execution_count": 10,
   "metadata": {},
   "outputs": [
    {
     "name": "stdout",
     "output_type": "stream",
     "text": [
      "100\n"
     ]
    }
   ],
   "source": [
    "col_vector = 100\n",
    "print(col_vector)"
   ]
  },
  {
   "cell_type": "code",
   "execution_count": 12,
   "metadata": {},
   "outputs": [
    {
     "name": "stdout",
     "output_type": "stream",
     "text": [
      "[[100]\n",
      " [  7]\n",
      " [  2]\n",
      " [  0]\n",
      " [  4]\n",
      " [  4]\n",
      " [  1]\n",
      " [  2]\n",
      " [  0]\n",
      " [  4]]\n"
     ]
    }
   ],
   "source": [
    "col_vector[0] = 100\n",
    "print(col_vector)"
   ]
  },
  {
   "cell_type": "code",
   "execution_count": 13,
   "metadata": {},
   "outputs": [
    {
     "name": "stdout",
     "output_type": "stream",
     "text": [
      "9\n"
     ]
    }
   ],
   "source": [
    "print(rand_matrix[0, 0])"
   ]
  },
  {
   "cell_type": "code",
   "execution_count": 14,
   "metadata": {},
   "outputs": [
    {
     "name": "stdout",
     "output_type": "stream",
     "text": [
      "[[9]\n",
      " [8]\n",
      " [2]\n",
      " [0]\n",
      " [3]\n",
      " [7]\n",
      " [0]\n",
      " [2]\n",
      " [9]\n",
      " [9]]\n"
     ]
    }
   ],
   "source": [
    "print(rand_matrix[:,0:1])"
   ]
  },
  {
   "cell_type": "code",
   "execution_count": 15,
   "metadata": {},
   "outputs": [
    {
     "name": "stdout",
     "output_type": "stream",
     "text": [
      "[[9 1 4 0 0]]\n"
     ]
    }
   ],
   "source": [
    "print(rand_matrix[0:1,:])"
   ]
  },
  {
   "cell_type": "code",
   "execution_count": 16,
   "metadata": {},
   "outputs": [
    {
     "name": "stdout",
     "output_type": "stream",
     "text": [
      "[1 4 0]\n"
     ]
    }
   ],
   "source": [
    "cols = array([1,2,3])\n",
    "print(rand_matrix[0,cols])"
   ]
  },
  {
   "cell_type": "code",
   "execution_count": 17,
   "metadata": {},
   "outputs": [
    {
     "name": "stdout",
     "output_type": "stream",
     "text": [
      "[9 1 4 0 0 8 7 8 5 7 2 7 6 2 6 0 3 7 9 6 3 4 0 9 8 7 2 0 2 4 0 2 8 9 5 2 4\n",
      " 5 6 2 9 4 1 5 8 9 9 1 5 8]\n"
     ]
    }
   ],
   "source": [
    "flattened = rand_matrix.flatten()\n",
    "print(flattened)"
   ]
  },
  {
   "cell_type": "code",
   "execution_count": 19,
   "metadata": {},
   "outputs": [
    {
     "name": "stdout",
     "output_type": "stream",
     "text": [
      "[[ 71  94]\n",
      " [139 148]\n",
      " [ 81  86]\n",
      " [ 87  64]\n",
      " [ 91  66]\n",
      " [ 66  72]\n",
      " [ 84  62]\n",
      " [ 79  72]\n",
      " [110 110]\n",
      " [135 140]]\n"
     ]
    }
   ],
   "source": [
    "rand_matrix_2 = random.randint(10, size = (5,2))\n",
    "dot_product = rand_matrix.dot(rand_matrix_2)\n",
    "print(dot_product)"
   ]
  },
  {
   "cell_type": "code",
   "execution_count": null,
   "metadata": {},
   "outputs": [],
   "source": []
  }
 ],
 "metadata": {
  "kernelspec": {
   "display_name": "Python 3",
   "language": "python",
   "name": "python3"
  },
  "language_info": {
   "codemirror_mode": {
    "name": "ipython",
    "version": 3
   },
   "file_extension": ".py",
   "mimetype": "text/x-python",
   "name": "python",
   "nbconvert_exporter": "python",
   "pygments_lexer": "ipython3",
   "version": "3.6.4"
  }
 },
 "nbformat": 4,
 "nbformat_minor": 2
}
