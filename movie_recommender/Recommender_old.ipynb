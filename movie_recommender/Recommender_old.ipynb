{
 "cells": [
  {
   "cell_type": "code",
   "execution_count": 1,
   "metadata": {},
   "outputs": [
    {
     "name": "stdout",
     "output_type": "stream",
     "text": [
      "[[10 10  4  6 10]\n",
      " [ 6  4  0  4  6]\n",
      " [ 9  7 10 10 10]\n",
      " [10  9  4  6  6]\n",
      " [ 9 10  0  4  9]\n",
      " [ 4  3  8  9 10]\n",
      " [ 0  4  1  4 10]\n",
      " [10  3  4  7  4]\n",
      " [ 3  4  6 10  4]\n",
      " [ 3 10  3  3  2]]\n"
     ]
    }
   ],
   "source": [
    "from numpy import *\n",
    "\n",
    "num_movies = 10\n",
    "num_users = 5\n",
    "\n",
    "ratings = random.randint(11, size = (num_movies, num_users))\n",
    "\n",
    "print(ratings)"
   ]
  },
  {
   "cell_type": "code",
   "execution_count": 2,
   "metadata": {},
   "outputs": [
    {
     "name": "stdout",
     "output_type": "stream",
     "text": [
      "[[1 1 1 1 1]\n",
      " [1 1 0 1 1]\n",
      " [1 1 1 1 1]\n",
      " [1 1 1 1 1]\n",
      " [1 1 0 1 1]\n",
      " [1 1 1 1 1]\n",
      " [0 1 1 1 1]\n",
      " [1 1 1 1 1]\n",
      " [1 1 1 1 1]\n",
      " [1 1 1 1 1]]\n"
     ]
    }
   ],
   "source": [
    "did_rate = (ratings != 0) * 1\n",
    "print(did_rate)"
   ]
  },
  {
   "cell_type": "code",
   "execution_count": 3,
   "metadata": {},
   "outputs": [
    {
     "name": "stdout",
     "output_type": "stream",
     "text": [
      "[[0.]\n",
      " [0.]\n",
      " [0.]\n",
      " [0.]\n",
      " [0.]\n",
      " [0.]\n",
      " [0.]\n",
      " [0.]\n",
      " [0.]\n",
      " [0.]]\n"
     ]
    }
   ],
   "source": [
    "jeevan_ratings = zeros((num_movies, 1))\n",
    "print(jeevan_ratings)"
   ]
  },
  {
   "cell_type": "code",
   "execution_count": 4,
   "metadata": {},
   "outputs": [
    {
     "name": "stdout",
     "output_type": "stream",
     "text": [
      "[[8.]\n",
      " [0.]\n",
      " [0.]\n",
      " [0.]\n",
      " [7.]\n",
      " [0.]\n",
      " [0.]\n",
      " [3.]\n",
      " [0.]\n",
      " [0.]]\n"
     ]
    }
   ],
   "source": [
    "jeevan_ratings[0] = 8\n",
    "jeevan_ratings[4] = 7\n",
    "jeevan_ratings[7] = 3\n",
    "\n",
    "print(jeevan_ratings)"
   ]
  },
  {
   "cell_type": "code",
   "execution_count": 5,
   "metadata": {},
   "outputs": [
    {
     "name": "stdout",
     "output_type": "stream",
     "text": [
      "[[ 8. 10. 10.  4.  6. 10.]\n",
      " [ 0.  6.  4.  0.  4.  6.]\n",
      " [ 0.  9.  7. 10. 10. 10.]\n",
      " [ 0. 10.  9.  4.  6.  6.]\n",
      " [ 7.  9. 10.  0.  4.  9.]\n",
      " [ 0.  4.  3.  8.  9. 10.]\n",
      " [ 0.  0.  4.  1.  4. 10.]\n",
      " [ 3. 10.  3.  4.  7.  4.]\n",
      " [ 0.  3.  4.  6. 10.  4.]\n",
      " [ 0.  3. 10.  3.  3.  2.]]\n",
      "[[1 1 1 1 1 1]\n",
      " [0 1 1 0 1 1]\n",
      " [0 1 1 1 1 1]\n",
      " [0 1 1 1 1 1]\n",
      " [1 1 1 0 1 1]\n",
      " [0 1 1 1 1 1]\n",
      " [0 0 1 1 1 1]\n",
      " [1 1 1 1 1 1]\n",
      " [0 1 1 1 1 1]\n",
      " [0 1 1 1 1 1]]\n"
     ]
    }
   ],
   "source": [
    "ratings = append(jeevan_ratings, ratings, axis = 1)\n",
    "did_rate = append(((jeevan_ratings != 0) * 1), did_rate, axis = 1)\n",
    "\n",
    "print(ratings)\n",
    "print(did_rate)"
   ]
  },
  {
   "cell_type": "code",
   "execution_count": 6,
   "metadata": {},
   "outputs": [],
   "source": [
    "# a function that normalizes a dataset\n",
    "\n",
    "def normalize_ratings(ratings, did_rate):\n",
    "    num_movies = ratings.shape[0]\n",
    "    \n",
    "    ratings_mean = zeros(shape = (num_movies, 1))\n",
    "    ratings_norm = zeros(shape = ratings.shape)\n",
    "    \n",
    "    for i in range(num_movies):\n",
    "        # Get all the indeses where there is a 1\n",
    "        idx = where(did_rate[i] == 1)[0]\n",
    "        # Calculate mean ratings of movie only from user's that gave a rating\n",
    "        ratings_mean[i] = mean(ratings[i, idx])\n",
    "        ratings_norm[i, idx] = ratings[i, idx] - ratings_mean[i]\n",
    "        \n",
    "    return (ratings_norm, ratings_mean)"
   ]
  },
  {
   "cell_type": "code",
   "execution_count": 7,
   "metadata": {},
   "outputs": [],
   "source": [
    "ratings_norm, ratings_mean = normalize_ratings(ratings, did_rate)"
   ]
  },
  {
   "cell_type": "code",
   "execution_count": 8,
   "metadata": {},
   "outputs": [
    {
     "name": "stdout",
     "output_type": "stream",
     "text": [
      "[[ 0.          2.          2.         -4.         -2.          2.        ]\n",
      " [ 0.          1.         -1.          0.         -1.          1.        ]\n",
      " [ 0.         -0.2        -2.2         0.8         0.8         0.8       ]\n",
      " [ 0.          3.          2.         -3.         -1.         -1.        ]\n",
      " [-0.8         1.2         2.2         0.         -3.8         1.2       ]\n",
      " [ 0.         -2.8        -3.8         1.2         2.2         3.2       ]\n",
      " [ 0.          0.         -0.75       -3.75       -0.75        5.25      ]\n",
      " [-2.16666667  4.83333333 -2.16666667 -1.16666667  1.83333333 -1.16666667]\n",
      " [ 0.         -2.4        -1.4         0.6         4.6        -1.4       ]\n",
      " [ 0.         -1.2         5.8        -1.2        -1.2        -2.2       ]]\n"
     ]
    }
   ],
   "source": [
    "print(ratings_norm)"
   ]
  },
  {
   "cell_type": "code",
   "execution_count": 10,
   "metadata": {},
   "outputs": [
    {
     "name": "stdout",
     "output_type": "stream",
     "text": [
      "[[8.        ]\n",
      " [5.        ]\n",
      " [9.2       ]\n",
      " [7.        ]\n",
      " [7.8       ]\n",
      " [6.8       ]\n",
      " [4.75      ]\n",
      " [5.16666667]\n",
      " [5.4       ]\n",
      " [4.2       ]]\n"
     ]
    }
   ],
   "source": [
    "print(ratings_mean)"
   ]
  },
  {
   "cell_type": "code",
   "execution_count": 11,
   "metadata": {},
   "outputs": [],
   "source": [
    "num_users = ratings.shape[1]\n",
    "num_features = 3"
   ]
  },
  {
   "cell_type": "code",
   "execution_count": 12,
   "metadata": {},
   "outputs": [
    {
     "name": "stdout",
     "output_type": "stream",
     "text": [
      "[[-1.43296138  1.10480706 -0.61857841]\n",
      " [-1.12135277 -0.46960736 -0.14956798]\n",
      " [ 0.91333947 -1.97632665 -0.03043332]\n",
      " [-1.37470566 -2.72753809 -0.75859618]\n",
      " [-1.11104493 -1.1613222  -0.71796845]\n",
      " [-0.43238861  1.45393957 -0.41304238]\n",
      " [ 2.87406588  0.366733   -0.22861924]\n",
      " [-0.40575603 -0.66731535 -0.65865018]\n",
      " [-2.33945729 -1.02865822 -0.98453902]\n",
      " [ 0.12794041 -0.08472257  1.47687763]]\n"
     ]
    }
   ],
   "source": [
    "movie_features = random.randn(num_movies, num_features)\n",
    "user_prefs = random.randn(num_users, num_features)\n",
    "initial_X_and_theta = r_[movie_features.T.flatten(), user_prefs.T.flatten()]\n",
    "print(movie_features)"
   ]
  },
  {
   "cell_type": "code",
   "execution_count": 13,
   "metadata": {},
   "outputs": [
    {
     "name": "stdout",
     "output_type": "stream",
     "text": [
      "[[-0.15277818 -0.74636934  0.02816374]\n",
      " [-0.1643571   1.22481009  0.22491685]\n",
      " [ 0.13315699  0.18560661  0.78372242]\n",
      " [ 0.23157639  1.11804062  1.15300629]\n",
      " [-2.25664314  0.49157762  0.83758168]\n",
      " [ 0.01372869  0.81568704 -1.46502977]]\n"
     ]
    }
   ],
   "source": [
    "print(user_prefs)"
   ]
  },
  {
   "cell_type": "code",
   "execution_count": 14,
   "metadata": {},
   "outputs": [
    {
     "name": "stdout",
     "output_type": "stream",
     "text": [
      "[-1.43296138 -1.12135277  0.91333947 -1.37470566 -1.11104493 -0.43238861\n",
      "  2.87406588 -0.40575603 -2.33945729  0.12794041  1.10480706 -0.46960736\n",
      " -1.97632665 -2.72753809 -1.1613222   1.45393957  0.366733   -0.66731535\n",
      " -1.02865822 -0.08472257 -0.61857841 -0.14956798 -0.03043332 -0.75859618\n",
      " -0.71796845 -0.41304238 -0.22861924 -0.65865018 -0.98453902  1.47687763\n",
      " -0.15277818 -0.1643571   0.13315699  0.23157639 -2.25664314  0.01372869\n",
      " -0.74636934  1.22481009  0.18560661  1.11804062  0.49157762  0.81568704\n",
      "  0.02816374  0.22491685  0.78372242  1.15300629  0.83758168 -1.46502977]\n"
     ]
    }
   ],
   "source": [
    "print(initial_X_and_theta)"
   ]
  },
  {
   "cell_type": "code",
   "execution_count": 15,
   "metadata": {},
   "outputs": [
    {
     "data": {
      "text/plain": [
       "(48,)"
      ]
     },
     "execution_count": 15,
     "metadata": {},
     "output_type": "execute_result"
    }
   ],
   "source": [
    "initial_X_and_theta.shape"
   ]
  },
  {
   "cell_type": "code",
   "execution_count": 16,
   "metadata": {},
   "outputs": [],
   "source": [
    "def unroll_params(X_and_theta, num_users, num_movies, num_features):\n",
    "    # Retrieve the X and theta matrixes from X_and_theta, based on their dimensions (num_features, num_movies, num_movies)\n",
    "    # --------------------------------------------------------------------------------------------------------------\n",
    "    # Get the first 30 (10 * 3) rows in the 48 X 1 column vector\n",
    "    first_30 = X_and_theta[:num_movies * num_features]\n",
    "    # Reshape this column vector into a 10 X 3 matrix\n",
    "    X = first_30.reshape((num_features, num_movies)).transpose()\n",
    "    # Get the rest of the 18 the numbers, after the first 30\n",
    "    last_18 = X_and_theta[num_movies * num_features:]\n",
    "    # Reshape this column vector into a 6 X 3 matrix\n",
    "    theta = last_18.reshape(num_features, num_users ).transpose()\n",
    "    return X, theta"
   ]
  },
  {
   "cell_type": "code",
   "execution_count": 17,
   "metadata": {},
   "outputs": [],
   "source": [
    "def calculate_gradient(X_and_theta, ratings, did_rate, num_users, num_movies, num_features, reg_param):\n",
    "    X, theta = unroll_params(X_and_theta, num_users, num_movies, num_features)\n",
    "    \n",
    "    # we multiply by did_rate because we only want to consider observations for which a rating was given\n",
    "    difference = X.dot( theta.T ) * did_rate - ratings\n",
    "    X_grad = difference.dot( theta ) + reg_param * X\n",
    "    theta_grad = difference.T.dot( X ) + reg_param * theta\n",
    "    \n",
    "    # wrap the gradients back into a column vector \n",
    "    return r_[X_grad.T.flatten(), theta_grad.T.flatten()]"
   ]
  },
  {
   "cell_type": "code",
   "execution_count": 18,
   "metadata": {},
   "outputs": [],
   "source": [
    "def calculate_cost(X_and_theta, ratings, did_rate, num_users, num_movies, num_features, reg_param):\n",
    "    X, theta = unroll_params(X_and_theta, num_users, num_movies, num_features)\n",
    "    \n",
    "    # we multiply (element-wise) by did_rate because we only want to consider observations for which a rating was given\n",
    "    cost = sum( (X.dot( theta.T ) * did_rate - ratings) ** 2 ) / 2\n",
    "    # '**' means an element-wise power\n",
    "    regularization = (reg_param / 2) * (sum( theta**2 ) + sum(X**2))\n",
    "    return cost + regularization"
   ]
  },
  {
   "cell_type": "code",
   "execution_count": 19,
   "metadata": {},
   "outputs": [
    {
     "name": "stdout",
     "output_type": "stream",
     "text": [
      "Optimization terminated successfully.\n",
      "         Current function value: 1104.263519\n",
      "         Iterations: 15\n",
      "         Function evaluations: 31\n",
      "         Gradient evaluations: 31\n"
     ]
    }
   ],
   "source": [
    "from scipy import optimize\n",
    "reg_param = 30\n",
    "\n",
    "minimized_cost_and_optimal_params = optimize.fmin_cg(calculate_cost, fprime=calculate_gradient, x0=initial_X_and_theta, \\\n",
    "                                                     args=(ratings, did_rate, num_users, num_movies, num_features, reg_param), \\\n",
    "                                                     maxiter=100, disp=True, full_output=True)"
   ]
  },
  {
   "cell_type": "code",
   "execution_count": 20,
   "metadata": {},
   "outputs": [],
   "source": [
    "cost, optimal_movie_features_and_user_prefs = minimized_cost_and_optimal_params[1], minimized_cost_and_optimal_params[0]"
   ]
  },
  {
   "cell_type": "code",
   "execution_count": 21,
   "metadata": {},
   "outputs": [],
   "source": [
    "movie_features, user_prefs = unroll_params(optimal_movie_features_and_user_prefs, num_users, num_movies, num_features)"
   ]
  },
  {
   "cell_type": "code",
   "execution_count": 22,
   "metadata": {},
   "outputs": [
    {
     "name": "stdout",
     "output_type": "stream",
     "text": [
      "[[-1.610194   -0.30497468 -0.47652736]\n",
      " [-0.80930345 -0.15328404 -0.23950852]\n",
      " [-1.65518425 -0.31349572 -0.48984199]\n",
      " [-1.30178033 -0.24656017 -0.38525414]\n",
      " [-1.38754046 -0.26280333 -0.41063434]\n",
      " [-1.22045309 -0.23115688 -0.36118588]\n",
      " [-0.80068167 -0.15165095 -0.23695697]\n",
      " [-1.06557114 -0.2018218  -0.31534928]\n",
      " [-0.95229731 -0.18036734 -0.28182684]\n",
      " [-0.75987744 -0.14392257 -0.22488157]]\n"
     ]
    }
   ],
   "source": [
    "print(movie_features)"
   ]
  },
  {
   "cell_type": "code",
   "execution_count": 23,
   "metadata": {},
   "outputs": [
    {
     "name": "stdout",
     "output_type": "stream",
     "text": [
      "[[-0.70949294 -0.13437975 -0.20997012]\n",
      " [-1.80652762 -0.34216048 -0.53463087]\n",
      " [-1.69055921 -0.32019569 -0.50031123]\n",
      " [-1.18015772 -0.22352465 -0.34926072]\n",
      " [-1.65313953 -0.31310849 -0.48923683]\n",
      " [-1.89921024 -0.35971481 -0.56205988]]\n"
     ]
    }
   ],
   "source": [
    "print(user_prefs)"
   ]
  },
  {
   "cell_type": "code",
   "execution_count": 24,
   "metadata": {},
   "outputs": [],
   "source": [
    "all_predictions = movie_features.dot( user_prefs.T )"
   ]
  },
  {
   "cell_type": "code",
   "execution_count": 25,
   "metadata": {},
   "outputs": [
    {
     "name": "stdout",
     "output_type": "stream",
     "text": [
      "[[1.28346021 3.26797646 3.05819186 2.13488453 2.99050024 3.43563775]\n",
      " [0.64508299 1.64252543 1.53708509 1.07301939 1.50306245 1.72679407]\n",
      " [1.3193212  3.35928656 3.1436404  2.19453505 3.07405741 3.53163245]\n",
      " [1.03762851 2.64203403 2.47243121 1.72597252 2.41770512 2.77758178]\n",
      " [1.10598655 2.81608888 2.63531277 1.83967805 2.57698137 2.96056639]\n",
      " [0.9728039  2.47697608 2.31796899 1.61814443 2.26666185 2.60405564]\n",
      " [0.63821069 1.62502702 1.52070998 1.06158814 1.48704979 1.70839792]\n",
      " [0.84934989 2.16263459 2.02380635 1.41279326 1.97901036 2.27358708]\n",
      " [0.75906116 1.93273931 1.80866897 1.26260862 1.76863494 2.03189717]\n",
      " [0.60568637 1.54221282 1.44321196 1.00748776 1.41126715 1.621335  ]]\n"
     ]
    }
   ],
   "source": [
    "print(all_predictions)"
   ]
  },
  {
   "cell_type": "code",
   "execution_count": 26,
   "metadata": {},
   "outputs": [],
   "source": [
    "predictions_for_jeevan = all_predictions[:, 0:1] + ratings_mean"
   ]
  },
  {
   "cell_type": "code",
   "execution_count": 27,
   "metadata": {},
   "outputs": [
    {
     "name": "stdout",
     "output_type": "stream",
     "text": [
      "[[ 9.28346021]\n",
      " [ 5.64508299]\n",
      " [10.5193212 ]\n",
      " [ 8.03762851]\n",
      " [ 8.90598655]\n",
      " [ 7.7728039 ]\n",
      " [ 5.38821069]\n",
      " [ 6.01601656]\n",
      " [ 6.15906116]\n",
      " [ 4.80568637]]\n"
     ]
    }
   ],
   "source": [
    "print(predictions_for_jeevan)"
   ]
  },
  {
   "cell_type": "code",
   "execution_count": 28,
   "metadata": {},
   "outputs": [
    {
     "name": "stdout",
     "output_type": "stream",
     "text": [
      "[[8.]\n",
      " [0.]\n",
      " [0.]\n",
      " [0.]\n",
      " [7.]\n",
      " [0.]\n",
      " [0.]\n",
      " [3.]\n",
      " [0.]\n",
      " [0.]]\n"
     ]
    }
   ],
   "source": [
    "print(jeevan_ratings)"
   ]
  },
  {
   "cell_type": "code",
   "execution_count": null,
   "metadata": {},
   "outputs": [],
   "source": []
  }
 ],
 "metadata": {
  "kernelspec": {
   "display_name": "Python 3",
   "language": "python",
   "name": "python3"
  },
  "language_info": {
   "codemirror_mode": {
    "name": "ipython",
    "version": 3
   },
   "file_extension": ".py",
   "mimetype": "text/x-python",
   "name": "python",
   "nbconvert_exporter": "python",
   "pygments_lexer": "ipython3",
   "version": "3.6.4"
  }
 },
 "nbformat": 4,
 "nbformat_minor": 2
}
