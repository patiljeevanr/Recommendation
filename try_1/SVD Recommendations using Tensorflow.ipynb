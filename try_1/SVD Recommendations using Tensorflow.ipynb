{
 "cells": [
  {
   "cell_type": "code",
   "execution_count": 1,
   "metadata": {},
   "outputs": [
    {
     "name": "stderr",
     "output_type": "stream",
     "text": [
      "/home/mauli/anaconda3/lib/python3.6/site-packages/h5py/__init__.py:36: FutureWarning: Conversion of the second argument of issubdtype from `float` to `np.floating` is deprecated. In future, it will be treated as `np.float64 == np.dtype(float).type`.\n",
      "  from ._conv import register_converters as _register_converters\n"
     ]
    }
   ],
   "source": [
    "import numpy as np\n",
    "import tensorflow as tf"
   ]
  },
  {
   "cell_type": "code",
   "execution_count": 2,
   "metadata": {},
   "outputs": [],
   "source": [
    "# Set random seed for reproducibility\n",
    "np.random.seed(1000)"
   ]
  },
  {
   "cell_type": "code",
   "execution_count": 3,
   "metadata": {},
   "outputs": [],
   "source": [
    "nb_users = 5000\n",
    "nb_products = 2000\n",
    "nb_factors = 500\n",
    "max_rating = 5\n",
    "nb_rated_products = 500\n",
    "top_k_products = 10"
   ]
  },
  {
   "cell_type": "code",
   "execution_count": 4,
   "metadata": {},
   "outputs": [],
   "source": [
    "# Create a random User-Item matrix\n",
    "uim = np.zeros((nb_users, nb_products), dtype=np.float32)"
   ]
  },
  {
   "cell_type": "code",
   "execution_count": 5,
   "metadata": {},
   "outputs": [
    {
     "data": {
      "text/plain": [
       "array([[0., 0., 0., ..., 0., 0., 0.],\n",
       "       [0., 0., 0., ..., 0., 0., 0.],\n",
       "       [0., 0., 0., ..., 0., 0., 0.],\n",
       "       ...,\n",
       "       [0., 0., 0., ..., 0., 0., 0.],\n",
       "       [0., 0., 0., ..., 0., 0., 0.],\n",
       "       [0., 0., 0., ..., 0., 0., 0.]], dtype=float32)"
      ]
     },
     "execution_count": 5,
     "metadata": {},
     "output_type": "execute_result"
    }
   ],
   "source": [
    "uim"
   ]
  },
  {
   "cell_type": "code",
   "execution_count": 7,
   "metadata": {},
   "outputs": [],
   "source": [
    "for i in range(nb_users):\n",
    "    nbp = np.random.randint(0, nb_products, size=nb_rated_products)\n",
    "    for j in nbp:\n",
    "        uim[i, j] = np.random.randint(1, max_rating+1)"
   ]
  },
  {
   "cell_type": "code",
   "execution_count": 8,
   "metadata": {},
   "outputs": [],
   "source": [
    "# Create a Tensorflow graph\n",
    "graph = tf.Graph()"
   ]
  },
  {
   "cell_type": "code",
   "execution_count": 9,
   "metadata": {},
   "outputs": [],
   "source": [
    "with graph.as_default():\n",
    "    # User-item matrix\n",
    "    user_item_matrix = tf.placeholder(tf.float32, shape=(nb_users, nb_products))\n",
    "    \n",
    "    # SVD\n",
    "    St, Ut, Vt = tf.svd(user_item_matrix)\n",
    "    \n",
    "    # Compute reduced matrices\n",
    "    Sk = tf.diag(St)[0:nb_factors, 0:nb_factors]\n",
    "    Uk = Ut[:, 0:nb_factors]\n",
    "    Vk = Vt[0:nb_factors, :]\n",
    "    \n",
    "    # Compute Su and Si\n",
    "    Su = tf.matmul(Uk, tf.sqrt(Sk))\n",
    "    Si = tf.matmul(tf.sqrt(Sk), Vk)\n",
    "    \n",
    "    # Compute user ratings\n",
    "    ratings_t = tf.matmul(Su, Si)\n",
    "    \n",
    "    # Pick top k suggestions\n",
    "    best_ratings_t, best_items_t = tf.nn.top_k(ratings_t, top_k_products)"
   ]
  },
  {
   "cell_type": "code",
   "execution_count": 10,
   "metadata": {},
   "outputs": [],
   "source": [
    "# Create Tensorflow session\n",
    "session = tf.InteractiveSession(graph=graph)"
   ]
  },
  {
   "cell_type": "code",
   "execution_count": 11,
   "metadata": {},
   "outputs": [],
   "source": [
    "# Compute the top k suggestions for all users\n",
    "feed_dict = {\n",
    "    user_item_matrix: uim\n",
    "}"
   ]
  },
  {
   "cell_type": "code",
   "execution_count": 12,
   "metadata": {},
   "outputs": [],
   "source": [
    "best_items = session.run([best_items_t], feed_dict=feed_dict)"
   ]
  },
  {
   "cell_type": "code",
   "execution_count": 13,
   "metadata": {},
   "outputs": [
    {
     "name": "stdout",
     "output_type": "stream",
     "text": [
      "User 1000: [ 412  867 1040  509 1311 1562  758 1796  636  556]\n",
      "User 1001: [ 548   88 1299  175   81 1837  282 1555 1796 1902]\n",
      "User 1002: [ 433  667  460  821 1762  775 1673  278  284 1540]\n",
      "User 1003: [1823  602 1874   43 1979 1612 1755  857  891 1701]\n",
      "User 1004: [1700 1312  892  621  194 1919  196 1746 1697 1192]\n",
      "User 1005: [ 891  221 1112 1387  768 1697  916  485 1673 1515]\n",
      "User 1006: [ 463  611 1986 1253  175 1362 1112 1045 1811  768]\n",
      "User 1007: [1170   70 1886  757  412  606  892 1772 1540 1415]\n",
      "User 1008: [ 757  855  509  329  410 1304 1900 1631  476  284]\n",
      "User 1009: [ 888 1654    6 1453  735 1745  505  422 1878 1965]\n"
     ]
    }
   ],
   "source": [
    "# Suggestions for user 1000, 1010\n",
    "for i in range(1000, 1010):\n",
    "    print('User {}: {}'.format(i, best_items[0][i]))"
   ]
  },
  {
   "cell_type": "code",
   "execution_count": null,
   "metadata": {},
   "outputs": [],
   "source": []
  }
 ],
 "metadata": {
  "kernelspec": {
   "display_name": "Python 3",
   "language": "python",
   "name": "python3"
  },
  "language_info": {
   "codemirror_mode": {
    "name": "ipython",
    "version": 3
   },
   "file_extension": ".py",
   "mimetype": "text/x-python",
   "name": "python",
   "nbconvert_exporter": "python",
   "pygments_lexer": "ipython3",
   "version": "3.6.5"
  }
 },
 "nbformat": 4,
 "nbformat_minor": 2
}
