{
 "cells": [
  {
   "cell_type": "code",
   "execution_count": 1,
   "metadata": {},
   "outputs": [],
   "source": [
    "import numpy as np\n",
    "import pandas as pd"
   ]
  },
  {
   "cell_type": "code",
   "execution_count": 2,
   "metadata": {},
   "outputs": [],
   "source": [
    "header = ['user_id', 'item_id', 'rating', 'timestamp']\n",
    "df = pd.read_csv('u.data', sep='\\t', names=header)"
   ]
  },
  {
   "cell_type": "code",
   "execution_count": 3,
   "metadata": {},
   "outputs": [
    {
     "name": "stdout",
     "output_type": "stream",
     "text": [
      "Number of users =  943  | Number of movies =  1682\n"
     ]
    }
   ],
   "source": [
    "n_users = df.user_id.unique().shape[0]\n",
    "n_items = df.item_id.unique().shape[0]\n",
    "print('Number of users = ' , str(n_users) , ' | Number of movies = ' , str(n_items))"
   ]
  },
  {
   "cell_type": "code",
   "execution_count": 4,
   "metadata": {},
   "outputs": [
    {
     "name": "stderr",
     "output_type": "stream",
     "text": [
      "/home/mauli/anaconda3/lib/python3.6/site-packages/sklearn/cross_validation.py:41: DeprecationWarning: This module was deprecated in version 0.18 in favor of the model_selection module into which all the refactored classes and functions are moved. Also note that the interface of the new CV iterators are different from that of this module. This module will be removed in 0.20.\n",
      "  \"This module will be removed in 0.20.\", DeprecationWarning)\n"
     ]
    }
   ],
   "source": [
    "from sklearn import cross_validation as cv\n",
    "train_data, test_data = cv.train_test_split(df, test_size=0.25)"
   ]
  },
  {
   "cell_type": "code",
   "execution_count": 5,
   "metadata": {},
   "outputs": [],
   "source": [
    "train_data_matrix = np.zeros((n_users, n_items))\n",
    "for line in train_data.itertuples():\n",
    "                train_data_matrix[line[1]-1, line[2]-1] = line[3]\n",
    "\n",
    "test_data_matrix = np.zeros((n_users, n_items))\n",
    "for line in test_data.itertuples():\n",
    "                test_data_matrix[line[1]-1, line[2]-1] = line[3]"
   ]
  },
  {
   "cell_type": "code",
   "execution_count": 6,
   "metadata": {},
   "outputs": [
    {
     "data": {
      "text/html": [
       "<div>\n",
       "<style scoped>\n",
       "    .dataframe tbody tr th:only-of-type {\n",
       "        vertical-align: middle;\n",
       "    }\n",
       "\n",
       "    .dataframe tbody tr th {\n",
       "        vertical-align: top;\n",
       "    }\n",
       "\n",
       "    .dataframe thead th {\n",
       "        text-align: right;\n",
       "    }\n",
       "</style>\n",
       "<table border=\"1\" class=\"dataframe\">\n",
       "  <thead>\n",
       "    <tr style=\"text-align: right;\">\n",
       "      <th></th>\n",
       "      <th>user_id</th>\n",
       "      <th>item_id</th>\n",
       "      <th>rating</th>\n",
       "      <th>timestamp</th>\n",
       "    </tr>\n",
       "  </thead>\n",
       "  <tbody>\n",
       "    <tr>\n",
       "      <th>61170</th>\n",
       "      <td>174</td>\n",
       "      <td>709</td>\n",
       "      <td>4</td>\n",
       "      <td>890168554</td>\n",
       "    </tr>\n",
       "    <tr>\n",
       "      <th>60570</th>\n",
       "      <td>593</td>\n",
       "      <td>699</td>\n",
       "      <td>4</td>\n",
       "      <td>875671334</td>\n",
       "    </tr>\n",
       "    <tr>\n",
       "      <th>21742</th>\n",
       "      <td>434</td>\n",
       "      <td>369</td>\n",
       "      <td>4</td>\n",
       "      <td>886724972</td>\n",
       "    </tr>\n",
       "    <tr>\n",
       "      <th>91784</th>\n",
       "      <td>933</td>\n",
       "      <td>834</td>\n",
       "      <td>1</td>\n",
       "      <td>874938878</td>\n",
       "    </tr>\n",
       "    <tr>\n",
       "      <th>7586</th>\n",
       "      <td>197</td>\n",
       "      <td>344</td>\n",
       "      <td>4</td>\n",
       "      <td>891409070</td>\n",
       "    </tr>\n",
       "  </tbody>\n",
       "</table>\n",
       "</div>"
      ],
      "text/plain": [
       "       user_id  item_id  rating  timestamp\n",
       "61170      174      709       4  890168554\n",
       "60570      593      699       4  875671334\n",
       "21742      434      369       4  886724972\n",
       "91784      933      834       1  874938878\n",
       "7586       197      344       4  891409070"
      ]
     },
     "execution_count": 6,
     "metadata": {},
     "output_type": "execute_result"
    }
   ],
   "source": [
    "train_data.head()"
   ]
  },
  {
   "cell_type": "code",
   "execution_count": 7,
   "metadata": {},
   "outputs": [
    {
     "data": {
      "text/html": [
       "<div>\n",
       "<style scoped>\n",
       "    .dataframe tbody tr th:only-of-type {\n",
       "        vertical-align: middle;\n",
       "    }\n",
       "\n",
       "    .dataframe tbody tr th {\n",
       "        vertical-align: top;\n",
       "    }\n",
       "\n",
       "    .dataframe thead th {\n",
       "        text-align: right;\n",
       "    }\n",
       "</style>\n",
       "<table border=\"1\" class=\"dataframe\">\n",
       "  <thead>\n",
       "    <tr style=\"text-align: right;\">\n",
       "      <th></th>\n",
       "      <th>user_id</th>\n",
       "      <th>item_id</th>\n",
       "      <th>rating</th>\n",
       "      <th>timestamp</th>\n",
       "    </tr>\n",
       "  </thead>\n",
       "  <tbody>\n",
       "    <tr>\n",
       "      <th>37091</th>\n",
       "      <td>474</td>\n",
       "      <td>489</td>\n",
       "      <td>4</td>\n",
       "      <td>887923972</td>\n",
       "    </tr>\n",
       "    <tr>\n",
       "      <th>61944</th>\n",
       "      <td>716</td>\n",
       "      <td>81</td>\n",
       "      <td>4</td>\n",
       "      <td>879796475</td>\n",
       "    </tr>\n",
       "    <tr>\n",
       "      <th>53127</th>\n",
       "      <td>378</td>\n",
       "      <td>747</td>\n",
       "      <td>3</td>\n",
       "      <td>880055597</td>\n",
       "    </tr>\n",
       "    <tr>\n",
       "      <th>94929</th>\n",
       "      <td>747</td>\n",
       "      <td>403</td>\n",
       "      <td>5</td>\n",
       "      <td>888734113</td>\n",
       "    </tr>\n",
       "    <tr>\n",
       "      <th>99895</th>\n",
       "      <td>806</td>\n",
       "      <td>209</td>\n",
       "      <td>3</td>\n",
       "      <td>882387837</td>\n",
       "    </tr>\n",
       "  </tbody>\n",
       "</table>\n",
       "</div>"
      ],
      "text/plain": [
       "       user_id  item_id  rating  timestamp\n",
       "37091      474      489       4  887923972\n",
       "61944      716       81       4  879796475\n",
       "53127      378      747       3  880055597\n",
       "94929      747      403       5  888734113\n",
       "99895      806      209       3  882387837"
      ]
     },
     "execution_count": 7,
     "metadata": {},
     "output_type": "execute_result"
    }
   ],
   "source": [
    "test_data.head()"
   ]
  },
  {
   "cell_type": "code",
   "execution_count": 9,
   "metadata": {},
   "outputs": [
    {
     "data": {
      "text/plain": [
       "array([[5., 0., 4., ..., 0., 0., 0.],\n",
       "       [4., 0., 0., ..., 0., 0., 0.],\n",
       "       [0., 0., 0., ..., 0., 0., 0.],\n",
       "       ...,\n",
       "       [5., 0., 0., ..., 0., 0., 0.],\n",
       "       [0., 0., 0., ..., 0., 0., 0.],\n",
       "       [0., 5., 0., ..., 0., 0., 0.]])"
      ]
     },
     "execution_count": 9,
     "metadata": {},
     "output_type": "execute_result"
    }
   ],
   "source": [
    "train_data_matrix"
   ]
  },
  {
   "cell_type": "code",
   "execution_count": 10,
   "metadata": {},
   "outputs": [
    {
     "data": {
      "text/plain": [
       "array([[0., 3., 0., ..., 0., 0., 0.],\n",
       "       [0., 0., 0., ..., 0., 0., 0.],\n",
       "       [0., 0., 0., ..., 0., 0., 0.],\n",
       "       ...,\n",
       "       [0., 0., 0., ..., 0., 0., 0.],\n",
       "       [0., 0., 0., ..., 0., 0., 0.],\n",
       "       [0., 0., 0., ..., 0., 0., 0.]])"
      ]
     },
     "execution_count": 10,
     "metadata": {},
     "output_type": "execute_result"
    }
   ],
   "source": [
    "test_data_matrix"
   ]
  },
  {
   "cell_type": "code",
   "execution_count": 19,
   "metadata": {},
   "outputs": [],
   "source": [
    "from sklearn.metrics.pairwise import pairwise_distances\n",
    "user_similarity = pairwise_distances(train_data_matrix, metric='cosine')\n",
    "item_similarity = pairwise_distances(train_data_matrix.T, metric='cosine')"
   ]
  },
  {
   "cell_type": "code",
   "execution_count": 12,
   "metadata": {},
   "outputs": [
    {
     "data": {
      "text/plain": [
       "array([[0.        , 0.84002633, 0.94925803, ..., 0.83629985, 0.85578474,\n",
       "        0.67280298],\n",
       "       [0.84002633, 0.        , 0.92751307, ..., 0.81652697, 0.87675635,\n",
       "        0.93951876],\n",
       "       [0.94925803, 0.92751307, 0.        , ..., 0.88984179, 0.92646922,\n",
       "        0.98432378],\n",
       "       ...,\n",
       "       [0.83629985, 0.81652697, 0.88984179, ..., 0.        , 0.93324984,\n",
       "        0.97865404],\n",
       "       [0.85578474, 0.87675635, 0.92646922, ..., 0.93324984, 0.        ,\n",
       "        0.85181599],\n",
       "       [0.67280298, 0.93951876, 0.98432378, ..., 0.97865404, 0.85181599,\n",
       "        0.        ]])"
      ]
     },
     "execution_count": 12,
     "metadata": {},
     "output_type": "execute_result"
    }
   ],
   "source": [
    "user_similarity"
   ]
  },
  {
   "cell_type": "code",
   "execution_count": 18,
   "metadata": {},
   "outputs": [],
   "source": [
    "def predict(ratings, similarity, type='user'):\n",
    "    if type == 'user':\n",
    "        mean_user_rating = ratings.mean(axis=1)\n",
    "        ratings_diff = (ratings - mean_user_rating[:, np.newaxis]) \n",
    "        pred = mean_user_rating[:, np.newaxis] + similarity.dot(ratings_diff) / np.array([np.abs(similarity).sum(axis=1)]).T   \n",
    "    elif type == 'item':\n",
    "        pred = ratings.dot(similarity) / np.array([np.abs(similarity).sum(axis=1)])\n",
    "    return pred"
   ]
  },
  {
   "cell_type": "code",
   "execution_count": 20,
   "metadata": {},
   "outputs": [],
   "source": [
    "user_prediction = predict(train_data_matrix, user_similarity, type='user')\n",
    "item_prediction = predict(train_data_matrix, item_similarity, type='item')"
   ]
  },
  {
   "cell_type": "code",
   "execution_count": 15,
   "metadata": {},
   "outputs": [
    {
     "data": {
      "text/plain": [
       "array([[ 1.57647424,  0.58716197,  0.46231776, ...,  0.28712984,\n",
       "         0.28703283,  0.28468412],\n",
       "       [ 1.29318423,  0.29332428,  0.12016934, ..., -0.07454829,\n",
       "        -0.07326958, -0.07650526],\n",
       "       [ 1.33204496,  0.26682373,  0.10155193, ..., -0.10315287,\n",
       "        -0.10141255, -0.10465651],\n",
       "       ...,\n",
       "       [ 1.19129704,  0.23037632,  0.06407253, ..., -0.12265249,\n",
       "        -0.12194535, -0.12488354],\n",
       "       [ 1.37924389,  0.3393183 ,  0.2029536 , ...,  0.00409809,\n",
       "         0.00477693,  0.00193166],\n",
       "       [ 1.41100459,  0.38732901,  0.28293954, ...,  0.10168513,\n",
       "         0.10163413,  0.09920952]])"
      ]
     },
     "execution_count": 15,
     "metadata": {},
     "output_type": "execute_result"
    }
   ],
   "source": [
    "user_prediction"
   ]
  },
  {
   "cell_type": "code",
   "execution_count": 21,
   "metadata": {},
   "outputs": [
    {
     "data": {
      "text/plain": [
       "array([[0.35859302, 0.37873615, 0.39449401, ..., 0.4386564 , 0.42857246,\n",
       "        0.43664485],\n",
       "       [0.0760114 , 0.08927412, 0.08467236, ..., 0.0901717 , 0.09156647,\n",
       "        0.09161214],\n",
       "       [0.06239588, 0.06676252, 0.06407075, ..., 0.06253994, 0.06535267,\n",
       "        0.06543724],\n",
       "       ...,\n",
       "       [0.02763692, 0.03642354, 0.03532274, ..., 0.04165546, 0.04043953,\n",
       "        0.04164188],\n",
       "       [0.13938788, 0.14641054, 0.15594515, ..., 0.16224979, 0.16038176,\n",
       "        0.16240333],\n",
       "       [0.20167565, 0.19432402, 0.22854257, ..., 0.25428798, 0.24526823,\n",
       "        0.25223081]])"
      ]
     },
     "execution_count": 21,
     "metadata": {},
     "output_type": "execute_result"
    }
   ],
   "source": [
    "item_prediction"
   ]
  },
  {
   "cell_type": "code",
   "execution_count": 16,
   "metadata": {},
   "outputs": [],
   "source": [
    "from sklearn.metrics import mean_squared_error\n",
    "from math import sqrt\n",
    "def rmse(prediction, ground_truth):\n",
    "                prediction = prediction[ground_truth.nonzero()].flatten() \n",
    "                ground_truth = ground_truth[ground_truth.nonzero()].flatten()\n",
    "                return sqrt(mean_squared_error(prediction, ground_truth))"
   ]
  },
  {
   "cell_type": "code",
   "execution_count": 17,
   "metadata": {},
   "outputs": [
    {
     "name": "stdout",
     "output_type": "stream",
     "text": [
      "User-based CF RMSE:  3.1292376489669893\n"
     ]
    }
   ],
   "source": [
    "print ('User-based CF RMSE: ' , str(rmse(user_prediction, test_data_matrix)))"
   ]
  },
  {
   "cell_type": "code",
   "execution_count": 23,
   "metadata": {},
   "outputs": [
    {
     "name": "stdout",
     "output_type": "stream",
     "text": [
      "Item-based CF RMSE:  3.4574733738606946\n"
     ]
    }
   ],
   "source": [
    "print ('Item-based CF RMSE: ' , str(rmse(item_prediction, test_data_matrix)))"
   ]
  },
  {
   "cell_type": "code",
   "execution_count": 24,
   "metadata": {},
   "outputs": [
    {
     "name": "stderr",
     "output_type": "stream",
     "text": [
      "/home/mauli/anaconda3/lib/python3.6/site-packages/h5py/__init__.py:36: FutureWarning: Conversion of the second argument of issubdtype from `float` to `np.floating` is deprecated. In future, it will be treated as `np.float64 == np.dtype(float).type`.\n",
      "  from ._conv import register_converters as _register_converters\n"
     ]
    }
   ],
   "source": [
    "import turicreate\n",
    "train_data = turicreate.SFrame(train_data)\n",
    "test_data = turicreate.SFrame(test_data)"
   ]
  },
  {
   "cell_type": "code",
   "execution_count": 25,
   "metadata": {},
   "outputs": [
    {
     "data": {
      "text/html": [
       "<pre>Recsys training: model = popularity</pre>"
      ],
      "text/plain": [
       "Recsys training: model = popularity"
      ]
     },
     "metadata": {},
     "output_type": "display_data"
    },
    {
     "data": {
      "text/html": [
       "<pre>Warning: Ignoring columns timestamp;</pre>"
      ],
      "text/plain": [
       "Warning: Ignoring columns timestamp;"
      ]
     },
     "metadata": {},
     "output_type": "display_data"
    },
    {
     "data": {
      "text/html": [
       "<pre>    To use these columns in scoring predictions, use a model that allows the use of additional features.</pre>"
      ],
      "text/plain": [
       "    To use these columns in scoring predictions, use a model that allows the use of additional features."
      ]
     },
     "metadata": {},
     "output_type": "display_data"
    },
    {
     "data": {
      "text/html": [
       "<pre>Preparing data set.</pre>"
      ],
      "text/plain": [
       "Preparing data set."
      ]
     },
     "metadata": {},
     "output_type": "display_data"
    },
    {
     "data": {
      "text/html": [
       "<pre>    Data has 75000 observations with 943 users and 1639 items.</pre>"
      ],
      "text/plain": [
       "    Data has 75000 observations with 943 users and 1639 items."
      ]
     },
     "metadata": {},
     "output_type": "display_data"
    },
    {
     "data": {
      "text/html": [
       "<pre>    Data prepared in: 0.278948s</pre>"
      ],
      "text/plain": [
       "    Data prepared in: 0.278948s"
      ]
     },
     "metadata": {},
     "output_type": "display_data"
    },
    {
     "data": {
      "text/html": [
       "<pre>75000 observations to process; with 1639 unique items.</pre>"
      ],
      "text/plain": [
       "75000 observations to process; with 1639 unique items."
      ]
     },
     "metadata": {},
     "output_type": "display_data"
    }
   ],
   "source": [
    "popularity_model = turicreate.popularity_recommender.create(train_data, user_id='user_id', item_id='item_id', target='rating')"
   ]
  },
  {
   "cell_type": "code",
   "execution_count": 26,
   "metadata": {},
   "outputs": [
    {
     "name": "stdout",
     "output_type": "stream",
     "text": [
      "+---------+---------+-------+------+\n",
      "| user_id | item_id | score | rank |\n",
      "+---------+---------+-------+------+\n",
      "|    1    |   1122  |  5.0  |  1   |\n",
      "|    1    |   1467  |  5.0  |  2   |\n",
      "|    1    |   1293  |  5.0  |  3   |\n",
      "|    1    |   1358  |  5.0  |  4   |\n",
      "|    1    |   1201  |  5.0  |  5   |\n",
      "|    2    |   1122  |  5.0  |  1   |\n",
      "|    2    |   1467  |  5.0  |  2   |\n",
      "|    2    |   1293  |  5.0  |  3   |\n",
      "|    2    |   1358  |  5.0  |  4   |\n",
      "|    2    |   1201  |  5.0  |  5   |\n",
      "|    3    |   1122  |  5.0  |  1   |\n",
      "|    3    |   1467  |  5.0  |  2   |\n",
      "|    3    |   1293  |  5.0  |  3   |\n",
      "|    3    |   1358  |  5.0  |  4   |\n",
      "|    3    |   1201  |  5.0  |  5   |\n",
      "|    4    |   1122  |  5.0  |  1   |\n",
      "|    4    |   1467  |  5.0  |  2   |\n",
      "|    4    |   1293  |  5.0  |  3   |\n",
      "|    4    |   1358  |  5.0  |  4   |\n",
      "|    4    |   1201  |  5.0  |  5   |\n",
      "|    5    |   1122  |  5.0  |  1   |\n",
      "|    5    |   1467  |  5.0  |  2   |\n",
      "|    5    |   1293  |  5.0  |  3   |\n",
      "|    5    |   1358  |  5.0  |  4   |\n",
      "|    5    |   1201  |  5.0  |  5   |\n",
      "+---------+---------+-------+------+\n",
      "[25 rows x 4 columns]\n",
      "\n"
     ]
    }
   ],
   "source": [
    "popularity_recomm = popularity_model.recommend(users=[1,2,3,4,5],k=5)\n",
    "popularity_recomm.print_rows(num_rows=25)"
   ]
  },
  {
   "cell_type": "code",
   "execution_count": 27,
   "metadata": {},
   "outputs": [
    {
     "data": {
      "text/html": [
       "<pre>Recsys training: model = item_similarity</pre>"
      ],
      "text/plain": [
       "Recsys training: model = item_similarity"
      ]
     },
     "metadata": {},
     "output_type": "display_data"
    },
    {
     "data": {
      "text/html": [
       "<pre>Warning: Ignoring columns timestamp;</pre>"
      ],
      "text/plain": [
       "Warning: Ignoring columns timestamp;"
      ]
     },
     "metadata": {},
     "output_type": "display_data"
    },
    {
     "data": {
      "text/html": [
       "<pre>    To use these columns in scoring predictions, use a model that allows the use of additional features.</pre>"
      ],
      "text/plain": [
       "    To use these columns in scoring predictions, use a model that allows the use of additional features."
      ]
     },
     "metadata": {},
     "output_type": "display_data"
    },
    {
     "data": {
      "text/html": [
       "<pre>Preparing data set.</pre>"
      ],
      "text/plain": [
       "Preparing data set."
      ]
     },
     "metadata": {},
     "output_type": "display_data"
    },
    {
     "data": {
      "text/html": [
       "<pre>    Data has 75000 observations with 943 users and 1639 items.</pre>"
      ],
      "text/plain": [
       "    Data has 75000 observations with 943 users and 1639 items."
      ]
     },
     "metadata": {},
     "output_type": "display_data"
    },
    {
     "data": {
      "text/html": [
       "<pre>    Data prepared in: 0.244556s</pre>"
      ],
      "text/plain": [
       "    Data prepared in: 0.244556s"
      ]
     },
     "metadata": {},
     "output_type": "display_data"
    },
    {
     "data": {
      "text/html": [
       "<pre>Training model from provided data.</pre>"
      ],
      "text/plain": [
       "Training model from provided data."
      ]
     },
     "metadata": {},
     "output_type": "display_data"
    },
    {
     "data": {
      "text/html": [
       "<pre>Gathering per-item and per-user statistics.</pre>"
      ],
      "text/plain": [
       "Gathering per-item and per-user statistics."
      ]
     },
     "metadata": {},
     "output_type": "display_data"
    },
    {
     "data": {
      "text/html": [
       "<pre>+--------------------------------+------------+</pre>"
      ],
      "text/plain": [
       "+--------------------------------+------------+"
      ]
     },
     "metadata": {},
     "output_type": "display_data"
    },
    {
     "data": {
      "text/html": [
       "<pre>| Elapsed Time (Item Statistics) | % Complete |</pre>"
      ],
      "text/plain": [
       "| Elapsed Time (Item Statistics) | % Complete |"
      ]
     },
     "metadata": {},
     "output_type": "display_data"
    },
    {
     "data": {
      "text/html": [
       "<pre>+--------------------------------+------------+</pre>"
      ],
      "text/plain": [
       "+--------------------------------+------------+"
      ]
     },
     "metadata": {},
     "output_type": "display_data"
    },
    {
     "data": {
      "text/html": [
       "<pre>| 6.584ms                        | 100        |</pre>"
      ],
      "text/plain": [
       "| 6.584ms                        | 100        |"
      ]
     },
     "metadata": {},
     "output_type": "display_data"
    },
    {
     "data": {
      "text/html": [
       "<pre>+--------------------------------+------------+</pre>"
      ],
      "text/plain": [
       "+--------------------------------+------------+"
      ]
     },
     "metadata": {},
     "output_type": "display_data"
    },
    {
     "data": {
      "text/html": [
       "<pre>Setting up lookup tables.</pre>"
      ],
      "text/plain": [
       "Setting up lookup tables."
      ]
     },
     "metadata": {},
     "output_type": "display_data"
    },
    {
     "data": {
      "text/html": [
       "<pre>Processing data in one pass using dense lookup tables.</pre>"
      ],
      "text/plain": [
       "Processing data in one pass using dense lookup tables."
      ]
     },
     "metadata": {},
     "output_type": "display_data"
    },
    {
     "data": {
      "text/html": [
       "<pre>+-------------------------------------+------------------+-----------------+</pre>"
      ],
      "text/plain": [
       "+-------------------------------------+------------------+-----------------+"
      ]
     },
     "metadata": {},
     "output_type": "display_data"
    },
    {
     "data": {
      "text/html": [
       "<pre>| Elapsed Time (Constructing Lookups) | Total % Complete | Items Processed |</pre>"
      ],
      "text/plain": [
       "| Elapsed Time (Constructing Lookups) | Total % Complete | Items Processed |"
      ]
     },
     "metadata": {},
     "output_type": "display_data"
    },
    {
     "data": {
      "text/html": [
       "<pre>+-------------------------------------+------------------+-----------------+</pre>"
      ],
      "text/plain": [
       "+-------------------------------------+------------------+-----------------+"
      ]
     },
     "metadata": {},
     "output_type": "display_data"
    },
    {
     "data": {
      "text/html": [
       "<pre>| 85.302ms                            | 0.25             | 5               |</pre>"
      ],
      "text/plain": [
       "| 85.302ms                            | 0.25             | 5               |"
      ]
     },
     "metadata": {},
     "output_type": "display_data"
    },
    {
     "data": {
      "text/html": [
       "<pre>| 187.313ms                           | 100              | 1639            |</pre>"
      ],
      "text/plain": [
       "| 187.313ms                           | 100              | 1639            |"
      ]
     },
     "metadata": {},
     "output_type": "display_data"
    },
    {
     "data": {
      "text/html": [
       "<pre>+-------------------------------------+------------------+-----------------+</pre>"
      ],
      "text/plain": [
       "+-------------------------------------+------------------+-----------------+"
      ]
     },
     "metadata": {},
     "output_type": "display_data"
    },
    {
     "data": {
      "text/html": [
       "<pre>Finalizing lookup tables.</pre>"
      ],
      "text/plain": [
       "Finalizing lookup tables."
      ]
     },
     "metadata": {},
     "output_type": "display_data"
    },
    {
     "data": {
      "text/html": [
       "<pre>Generating candidate set for working with new users.</pre>"
      ],
      "text/plain": [
       "Generating candidate set for working with new users."
      ]
     },
     "metadata": {},
     "output_type": "display_data"
    },
    {
     "data": {
      "text/html": [
       "<pre>Finished training in 1.22182s</pre>"
      ],
      "text/plain": [
       "Finished training in 1.22182s"
      ]
     },
     "metadata": {},
     "output_type": "display_data"
    }
   ],
   "source": [
    "#Training the model\n",
    "item_sim_model = turicreate.item_similarity_recommender.create(train_data, user_id='user_id', item_id='item_id', target='rating', similarity_type='cosine')"
   ]
  },
  {
   "cell_type": "code",
   "execution_count": 28,
   "metadata": {},
   "outputs": [
    {
     "name": "stdout",
     "output_type": "stream",
     "text": [
      "+---------+---------+---------------------+------+\n",
      "| user_id | item_id |        score        | rank |\n",
      "+---------+---------+---------------------+------+\n",
      "|    1    |   204   |  0.9264227542483691 |  1   |\n",
      "|    1    |   168   |  0.9017197486845036 |  2   |\n",
      "|    1    |   423   |  0.7626407577574832 |  3   |\n",
      "|    1    |   210   |  0.7503059211286526 |  4   |\n",
      "|    1    |    96   |  0.6335611849733926 |  5   |\n",
      "|    2    |   121   |  0.7967719086786595 |  1   |\n",
      "|    2    |   258   |  0.7268192346503095 |  2   |\n",
      "|    2    |   117   |  0.6691407503151312 |  3   |\n",
      "|    2    |   181   |  0.6541731924545474 |  4   |\n",
      "|    2    |   286   |  0.6335776055731425 |  5   |\n",
      "|    3    |   307   |  0.4439897697146346 |  1   |\n",
      "|    3    |   313   |  0.4153808980453305 |  2   |\n",
      "|    3    |   347   | 0.40448152292065503 |  3   |\n",
      "|    3    |   286   | 0.40058092809304957 |  4   |\n",
      "|    3    |   748   | 0.35649534405731576 |  5   |\n",
      "|    4    |    22   |  0.8797683748934004 |  1   |\n",
      "|    4    |   100   |  0.8239219884077708 |  2   |\n",
      "|    4    |   174   |  0.7763909101486206 |  3   |\n",
      "|    4    |    79   |  0.7723653515179952 |  4   |\n",
      "|    4    |   181   |  0.7643613749080234 |  5   |\n",
      "|    5    |   168   |  0.770900484507646  |  1   |\n",
      "|    5    |   204   |  0.7605926825748226 |  2   |\n",
      "|    5    |   195   |  0.7158477010765696 |  3   |\n",
      "|    5    |   174   |  0.6825610966217227 |  4   |\n",
      "|    5    |   210   |  0.665586385300489  |  5   |\n",
      "+---------+---------+---------------------+------+\n",
      "[25 rows x 4 columns]\n",
      "\n"
     ]
    }
   ],
   "source": [
    "#Making recommendations\n",
    "item_sim_recomm = item_sim_model.recommend(users=[1,2,3,4,5],k=5)\n",
    "item_sim_recomm.print_rows(num_rows=25)"
   ]
  },
  {
   "cell_type": "code",
   "execution_count": 29,
   "metadata": {},
   "outputs": [],
   "source": [
    "class MF():\n",
    "\n",
    "    # Initializing the user-movie rating matrix, no. of latent features, alpha and beta.\n",
    "    def __init__(self, R, K, alpha, beta, iterations):\n",
    "        self.R = R\n",
    "        self.num_users, self.num_items = R.shape\n",
    "        self.K = K\n",
    "        self.alpha = alpha\n",
    "        self.beta = beta\n",
    "        self.iterations = iterations\n",
    "\n",
    "    # Initializing user-feature and movie-feature matrix \n",
    "    def train(self):\n",
    "        self.P = np.random.normal(scale=1./self.K, size=(self.num_users, self.K))\n",
    "        self.Q = np.random.normal(scale=1./self.K, size=(self.num_items, self.K))\n",
    "\n",
    "        # Initializing the bias terms\n",
    "        self.b_u = np.zeros(self.num_users)\n",
    "        self.b_i = np.zeros(self.num_items)\n",
    "        self.b = np.mean(self.R[np.where(self.R != 0)])\n",
    "\n",
    "        # List of training samples\n",
    "        self.samples = [ (i, j, self.R[i, j]) for i in range(self.num_users) for j in range(self.num_items) if self.R[i, j] > 0]\n",
    "\n",
    "        # Stochastic gradient descent for given number of iterations\n",
    "        training_process = []\n",
    "        for i in range(self.iterations):\n",
    "            np.random.shuffle(self.samples)\n",
    "            self.sgd()\n",
    "            mse = self.mse()\n",
    "            training_process.append((i, mse))\n",
    "            if (i+1) % 20 == 0:\n",
    "                print(\"Iteration: %d ; error = %.4f\" % (i+1, mse))\n",
    "\n",
    "        return training_process\n",
    "\n",
    "    # Computing total mean squared error\n",
    "    def mse(self):\n",
    "        xs, ys = self.R.nonzero()\n",
    "        predicted = self.full_matrix()\n",
    "        error = 0\n",
    "        for x, y in zip(xs, ys):\n",
    "            error += pow(self.R[x, y] - predicted[x, y], 2)\n",
    "        return np.sqrt(error)\n",
    "\n",
    "    # Stochastic gradient descent to get optimized P and Q matrix\n",
    "    def sgd(self):\n",
    "        for i, j, r in self.samples:\n",
    "            prediction = self.get_rating(i, j)\n",
    "            e = (r - prediction)\n",
    "\n",
    "            self.b_u[i] += self.alpha * (e - self.beta * self.b_u[i])\n",
    "            self.b_i[j] += self.alpha * (e - self.beta * self.b_i[j])\n",
    "\n",
    "            self.P[i, :] += self.alpha * (e * self.Q[j, :] - self.beta * self.P[i,:])\n",
    "            self.Q[j, :] += self.alpha * (e * self.P[i, :] - self.beta * self.Q[j,:])\n",
    "\n",
    "    # Ratings for user i and moive j\n",
    "    def get_rating(self, i, j):\n",
    "        prediction = self.b + self.b_u[i] + self.b_i[j] + self.P[i, :].dot(self.Q[j, :].T)\n",
    "        return prediction\n",
    "\n",
    "    # Full user-movie rating matrix\n",
    "    def full_matrix(self):\n",
    "        return mf.b + mf.b_u[:,np.newaxis] + mf.b_i[np.newaxis:,] + mf.P.dot(mf.Q.T)"
   ]
  },
  {
   "cell_type": "code",
   "execution_count": 31,
   "metadata": {},
   "outputs": [],
   "source": [
    "ratings = df\n",
    "R = np.array(ratings.pivot(index = 'user_id', columns ='item_id', values = 'rating').fillna(0))"
   ]
  },
  {
   "cell_type": "code",
   "execution_count": 34,
   "metadata": {},
   "outputs": [
    {
     "name": "stdout",
     "output_type": "stream",
     "text": [
      "Iteration: 20 ; error = 296.0814\n",
      "Iteration: 40 ; error = 290.8940\n",
      "Iteration: 60 ; error = 286.9768\n",
      "Iteration: 80 ; error = 280.4384\n",
      "Iteration: 100 ; error = 271.0924\n",
      "Iteration: 120 ; error = 260.8548\n",
      "Iteration: 140 ; error = 250.4007\n",
      "Iteration: 160 ; error = 240.4434\n",
      "Iteration: 180 ; error = 231.6503\n",
      "Iteration: 200 ; error = 224.2539\n",
      "Iteration: 220 ; error = 218.1346\n",
      "Iteration: 240 ; error = 213.0517\n",
      "Iteration: 260 ; error = 208.7840\n",
      "Iteration: 280 ; error = 205.1576\n",
      "Iteration: 300 ; error = 202.0470\n",
      "Iteration: 320 ; error = 199.3553\n",
      "Iteration: 340 ; error = 197.0078\n",
      "Iteration: 360 ; error = 194.9466\n",
      "Iteration: 380 ; error = 193.1251\n",
      "Iteration: 400 ; error = 191.5058\n",
      "Iteration: 420 ; error = 190.0580\n",
      "Iteration: 440 ; error = 188.7562\n",
      "Iteration: 460 ; error = 187.5805\n",
      "Iteration: 480 ; error = 186.5134\n",
      "Iteration: 500 ; error = 185.5407\n",
      "Iteration: 520 ; error = 184.6511\n",
      "Iteration: 540 ; error = 183.8331\n",
      "Iteration: 560 ; error = 183.0798\n",
      "Iteration: 580 ; error = 182.3829\n",
      "Iteration: 600 ; error = 181.7372\n",
      "Iteration: 620 ; error = 181.1359\n",
      "Iteration: 640 ; error = 180.5757\n",
      "Iteration: 660 ; error = 180.0512\n",
      "Iteration: 680 ; error = 179.5605\n",
      "Iteration: 700 ; error = 179.0994\n",
      "Iteration: 720 ; error = 178.6649\n",
      "Iteration: 740 ; error = 178.2558\n",
      "Iteration: 760 ; error = 177.8686\n",
      "Iteration: 780 ; error = 177.5029\n",
      "Iteration: 800 ; error = 177.1552\n",
      "Iteration: 820 ; error = 176.8253\n",
      "Iteration: 840 ; error = 176.5124\n",
      "Iteration: 860 ; error = 176.2140\n",
      "Iteration: 880 ; error = 175.9288\n",
      "Iteration: 900 ; error = 175.6572\n",
      "Iteration: 920 ; error = 175.3979\n",
      "Iteration: 940 ; error = 175.1490\n",
      "Iteration: 960 ; error = 174.9110\n",
      "Iteration: 980 ; error = 174.6827\n",
      "Iteration: 1000 ; error = 174.4629\n",
      "\n",
      "P x Q:\n",
      "[[4.30867063 2.96072104 3.90649814 ... 3.16344799 3.65846672 3.31012812]\n",
      " [3.96978066 3.53851226 2.66982919 ... 3.39932225 3.60359109 3.32398337]\n",
      " [1.62313605 1.87096983 3.64681733 ... 2.99151214 2.97731857 3.02171972]\n",
      " ...\n",
      " [4.83552933 4.26857624 2.66118257 ... 3.87583522 3.95576136 3.81905858]\n",
      " [4.37692602 4.45236909 2.901238   ... 3.77123056 3.76205994 3.75467023]\n",
      " [2.9474441  4.62123853 2.93413187 ... 3.09920442 3.34409047 3.06344882]]\n",
      "\n"
     ]
    }
   ],
   "source": [
    "mf = MF(R, K=20, alpha=0.001, beta=0.01, iterations=1000)\n",
    "training_process = mf.train()\n",
    "print()\n",
    "print(\"P x Q:\")\n",
    "print(mf.full_matrix())\n",
    "print()"
   ]
  },
  {
   "cell_type": "code",
   "execution_count": null,
   "metadata": {},
   "outputs": [],
   "source": []
  }
 ],
 "metadata": {
  "kernelspec": {
   "display_name": "Python 3",
   "language": "python",
   "name": "python3"
  },
  "language_info": {
   "codemirror_mode": {
    "name": "ipython",
    "version": 3
   },
   "file_extension": ".py",
   "mimetype": "text/x-python",
   "name": "python",
   "nbconvert_exporter": "python",
   "pygments_lexer": "ipython3",
   "version": "3.6.5"
  }
 },
 "nbformat": 4,
 "nbformat_minor": 2
}
