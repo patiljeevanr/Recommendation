{
 "cells": [
  {
   "cell_type": "code",
   "execution_count": 14,
   "metadata": {},
   "outputs": [],
   "source": [
    "from scipy.sparse import dok_matrix\n",
    "from sklearn.metrics.pairwise import pairwise_distances\n",
    "import numpy as np\n",
    "import pandas as pd"
   ]
  },
  {
   "cell_type": "code",
   "execution_count": 7,
   "metadata": {},
   "outputs": [],
   "source": [
    "# Set random seed (for reproducibility)\n",
    "np.random.seed(1000)"
   ]
  },
  {
   "cell_type": "code",
   "execution_count": 8,
   "metadata": {},
   "outputs": [],
   "source": [
    "# Create a dummy user-item dataset\n",
    "nb_users = 1000\n",
    "nb_products = 2500\n",
    "max_rating = 5\n",
    "max_rated_products = 500"
   ]
  },
  {
   "cell_type": "code",
   "execution_count": 9,
   "metadata": {},
   "outputs": [],
   "source": [
    "X_preferences = dok_matrix((nb_users, nb_products), dtype=np.uint8)"
   ]
  },
  {
   "cell_type": "code",
   "execution_count": 12,
   "metadata": {},
   "outputs": [],
   "source": [
    "for i in range(nb_users):\n",
    "    # Extract n random products\n",
    "    n_products = np.random.randint(0, max_rated_products+1)\n",
    "    products = np.random.randint(0, nb_products, size=n_products)\n",
    "    \n",
    "    # Populate preference sparse matrix\n",
    "    for p in products:\n",
    "        X_preferences[i, p] = np.random.randint(0, max_rating+1)"
   ]
  },
  {
   "cell_type": "code",
   "execution_count": 13,
   "metadata": {},
   "outputs": [
    {
     "data": {
      "text/plain": [
       "<1000x2500 sparse matrix of type '<class 'numpy.uint8'>'\n",
       "\twith 191178 stored elements in Dictionary Of Keys format>"
      ]
     },
     "execution_count": 13,
     "metadata": {},
     "output_type": "execute_result"
    }
   ],
   "source": [
    "X_preferences"
   ]
  },
  {
   "cell_type": "code",
   "execution_count": 16,
   "metadata": {},
   "outputs": [],
   "source": [
    "# Compute pairwise distances\n",
    "distance_matrix = pairwise_distances(X_preferences, metric='euclidean')"
   ]
  },
  {
   "cell_type": "code",
   "execution_count": 17,
   "metadata": {},
   "outputs": [
    {
     "data": {
      "text/plain": [
       "array([[ 0.        , 64.26507605, 76.59634456, ..., 83.13242448,\n",
       "        62.57795139, 66.9925369 ],\n",
       "       [64.26507605,  0.        , 56.73623181, ..., 65.67343451,\n",
       "        27.85677655, 37.17526059],\n",
       "       [76.59634456, 56.73623181,  0.        , ..., 77.5370879 ,\n",
       "        55.52476925, 59.9082632 ],\n",
       "       ...,\n",
       "       [83.13242448, 65.67343451, 77.5370879 , ...,  0.        ,\n",
       "        64.56779383, 67.81592733],\n",
       "       [62.57795139, 27.85677655, 55.52476925, ..., 64.56779383,\n",
       "         0.        , 34.58323293],\n",
       "       [66.9925369 , 37.17526059, 59.9082632 , ..., 67.81592733,\n",
       "        34.58323293,  0.        ]])"
      ]
     },
     "execution_count": 17,
     "metadata": {},
     "output_type": "execute_result"
    }
   ],
   "source": [
    "distance_matrix"
   ]
  },
  {
   "cell_type": "code",
   "execution_count": 18,
   "metadata": {},
   "outputs": [],
   "source": [
    "# Sort distances\n",
    "sorted_distances = np.argsort(distance_matrix, axis=1)"
   ]
  },
  {
   "cell_type": "code",
   "execution_count": 19,
   "metadata": {},
   "outputs": [
    {
     "data": {
      "text/plain": [
       "array([[  0, 381, 739, ..., 268,  95, 924],\n",
       "       [  1, 381, 614, ..., 924, 191, 368],\n",
       "       [  2, 313, 381, ..., 409, 907, 191],\n",
       "       ...,\n",
       "       [997, 313, 446, ..., 155, 924, 588],\n",
       "       [998, 616, 614, ..., 924, 368, 907],\n",
       "       [999, 381, 614, ..., 588, 924, 368]])"
      ]
     },
     "execution_count": 19,
     "metadata": {},
     "output_type": "execute_result"
    }
   ],
   "source": [
    "sorted_distances"
   ]
  },
  {
   "cell_type": "code",
   "execution_count": 20,
   "metadata": {},
   "outputs": [
    {
     "name": "stdout",
     "output_type": "stream",
     "text": [
      "368\n",
      "907\n",
      "268\n",
      "924\n",
      "588\n",
      "191\n",
      "688\n",
      "849\n",
      "95\n",
      "558\n"
     ]
    }
   ],
   "source": [
    "test_user=500\n",
    "\n",
    "# Take the top-10 simular users\n",
    "for d in sorted_distances[test_user][::-1][0:10]:\n",
    "    print(d)"
   ]
  },
  {
   "cell_type": "code",
   "execution_count": null,
   "metadata": {},
   "outputs": [],
   "source": []
  }
 ],
 "metadata": {
  "kernelspec": {
   "display_name": "Python 3",
   "language": "python",
   "name": "python3"
  },
  "language_info": {
   "codemirror_mode": {
    "name": "ipython",
    "version": 3
   },
   "file_extension": ".py",
   "mimetype": "text/x-python",
   "name": "python",
   "nbconvert_exporter": "python",
   "pygments_lexer": "ipython3",
   "version": "3.6.5"
  }
 },
 "nbformat": 4,
 "nbformat_minor": 2
}
